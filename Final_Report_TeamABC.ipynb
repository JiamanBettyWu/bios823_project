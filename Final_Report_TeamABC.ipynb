{
 "cells": [
  {
   "cell_type": "markdown",
   "metadata": {},
   "source": [
    "# Disentangling Key Indicators for Patients' Mortality Rate in Intensive Care Units\n",
    "*By Team ABC**\n",
    "\n",
    "***A** for **A**shley Hu, **B** for **B**etty Wu and **C** for Lu**C**as Zhang\n"
   ]
  },
  {
   "cell_type": "markdown",
   "metadata": {},
   "source": [
    "# 0. Introduction\n",
    "\n",
    "*This report follows the Pythonic Style in that it starts with 0.*\n",
    "\n",
    "Since the digitalization of health records, the amount of electronic health records (EHRs) has been growing at an unprecedent rate. EHRs comprise comprehensive patient data from a wide variety of meansures, including vital sign meansurements, input/output values, patients’ clinical outcomes, medications, procedures, and laboratory test results. Thoughtful analyses and modelings based on the vast amount of high-resolution healthcare data can empower clinicians to access patients’ physical insights that were not available previously. In return, hospitals can provide more personalized and better treatments to patients. \n",
    "\n",
    "Predicting patients’ in-hospital mortality is a area of active research. Accurate predictions of clinical outcome enables clinicians to gauge patients condition and facilitate cost-effective management of hospital resources. Given the importance of this issue, in this project we are interested in **using a large-scale, high-resolution MIMIC-III data to predict in-hospital mortality**. We compare the performances of different machine learning models, **including logistic regression, random forest, and neural networks**. **We are able to achieve 0.71 AUC score on the neural network model. Our results indicate that EHRs including MIMIC data have strong predictive power on in-hospital mortality. Factors such as the duration of ICU stay and white blood cell abnormal lab results are highly predictive of in-hospital mortality.**"
   ]
  },
  {
   "cell_type": "markdown",
   "metadata": {},
   "source": [
    "# 1. Data Description\n",
    "\n",
    "### 1.1. Data collection\n",
    "\n",
    "The dataset MIMIC III (Medical Information Mart for Intensive Care) is used in our proejct. MIMIC III is a single-center database concerning  patient admissions to critical care units. While full description can be found from [physionet.org](https://physionet.org/content/mimiciii/1.4/), the database incorprated several data sources, including:\n",
    "\n",
    "- critical care information systems:\n",
    "    - Two different systems: Philips **CareVue** and iMDsoft **MetaVision** ICU. Most of data from the two systems was merged expect for fluid intake. The data that are not merged will be given a suffix to distinguish the data source, e.g. \"*CV*\" for CareVue and \"*MV*\" for MetaVision. These two systems provided clinical data including:\n",
    "        - physiological measurements, e.g. heart rate, arterial blood pressure, or respiratory rate;\n",
    "        - documented progress notes by care providers;\n",
    "        - drip medications and fluid balances.\n",
    "- hospital electronic health records:\n",
    "    - patient demographics\n",
    "    - in-hospital mortality\n",
    "    - laboratory test results, including hematology, chemistry and microbiology results.\n",
    "    - discharge summaries\n",
    "    - reports of electrocardiogram and imaging studies.\n",
    "    - *billing-related information* such as International Classification of Disease, 9th Edition (ICD-9) codes, Diagnosis Related Group (DRG) codes, and Current Procedural Terminology (CPT) codes.\n",
    "- Social Security Administration Death Master File.\n",
    "    - Out-of-hospital mortality dates\n",
    "\n",
    "### 1.2. De-identification Processes\n",
    "\n",
    "Deidentified using *structured data cleansing* and *date shifting*. \n",
    "\n",
    "1. Removal of patient name, telephone number, address. \n",
    "2. Dates were shifted into the future. intervals preserved. Time of day, day of the week, and approximate seasonality were conserved.\n",
    "3. **Patients > 89 yrs appear with ages of over 300 yrs.**\n",
    "4. Protected health information was removed, such as diagnostic reports and physician notes.\n",
    "\n",
    "### 1.3. Data Description\n",
    "\n",
    "- **A relational database** consisting of 26 tables linked by identifiers which usually have the suffix ‘ID’, e.g. \n",
    "    - SUBJECT_ID (a unique patient)\n",
    "    - HADM_ID (a unique admission to the hospital), and \n",
    "    - ICUSTAY_ID (a unique admission to an intensive care unit)\n",
    "- Five tables track **patient stays**: ADMISSIONS; PATIENTS; ICUSTAYS; SERVICES; and TRANSFERS\n",
    "- Another five tables are **dictionaries** (prefixed with ‘D_’): D_CPT; D_ICD_DIAGNOSES; D_ICD_PROCEDURES; D_ITEMS; and D_LABITEMS. \n",
    "    - Dictionary tables: Definitions for identifiers. E.g. ITEMID in CHARTEVENTS is explained in D_ITEMS, which represents the concept measured.\n",
    "- The remaining tables associated with patient care, such as physiological measurements, caregiver observations, and billing information.\n",
    "- **‘Events’ tables**: a series of charted events such as notes, laboratory tests, and fluid balance. e.g. the OUTPUTEVENTS table: all measurements related to output for a given patient, the LABEVENTS table: laboratory test results for a patient."
   ]
  },
  {
   "cell_type": "markdown",
   "metadata": {},
   "source": [
    "# 2. Variables of Interest (Variable Definition)\n",
    "\n",
    "### 2.1. ID Variables\n",
    "- SUBJECT_ID: ID variable obtained from *ADMISSIONS.csv*. One unique subject id was assigned to each patient.\n",
    "- HADM_ID: ID variable obtained from *ADMISSIONS.csv*. **Primary key**. One unique Hospital ADMinistration ID (HADM_ID) was assgined to each hopspitalization of one patient, while multiple HADM_ID may correspond to the same person.\n",
    "- ADMITTIME: datetime variable obtained from *ADMISSIONS.csv*. This variable records the time when the hospitalization started.\n",
    "- DISCHTIME: datetime variable obtained from *ADMISSIONS.csv*. This variable records the time when the hospitalization ended.\n",
    "\n",
    "### 2.2. Output:\n",
    "- HOSPITAL_EXPIRE_FLAG: Boolean variable obtained from *ADMISSIONS.csv*. This variable indicates whether the patient passed away during hospitalization.\n",
    "\n",
    "### 2.3 Input:\n",
    "- ETHNICITY: categorical variable obtained from *ADMISSIONS.csv*. **Demographic information**.\n",
    "- DIAGNOSIS: string variable obtained from *ADMISSIONS.csv*.\n",
    "- GENDER: categorical variable obtained from *PATIENTS.csv* via joining on SUBJECT_ID. **Demographic information**. \n",
    "- DOB: datetime variable obtained from *PATIENTS.csv* via joining on SUBJECT_ID. **Demographic information**. \n",
    "- AGE_ON_AD: numeric variable derived from DOB and ADMITTIME. **Demographic information**. This variable represents the patients' age on administration. An age greater than 300 indicates patients' age greater than 89.\n",
    "- SERVICES: multi-valued categorical variable obtained from *SERVICES.csv* via joining on SUBJECT_ID and HADM_ID. This variable indicates services that the patients utilized during hospitalization.\n",
    "- ICU_STAY_DAYS: numeric variable derived from *ICUSTAY.csv*. This variable presents total days of ICU stays during this hospitalization.\n",
    "- MULTI_ENTRY_ICU: Boolean variable derived from *ICUSTAY.csv*. MULTI_ENTRY_ICU is set True if patients have entered the ICU before this hospitlization. \n",
    "- ICD9_code: ten Boolean variables derived from *PROCEDURES_ICD.csv* via joining on SUBJECT_ID and HADM_ID. These variables provided information on the ten most frequent procedures associated with hospitalization.\n",
    "- TOTAL_ITEMID_code: twenty integer variables derived from *LABEVENTS.csv* via joining on SUBJECT_ID and HADM_ID. These variables provided information on the twenty most frequent lab tests during hospitalization. TOTAL_ITEMID_code indicates how many times the lab test have been carried out in each hospitalization.\n",
    "- ABNORMAL_ITEMID_code: twenty integer variables derived from *LABEVENTS.csv* via joining on SUBJECT_ID and HADM_ID. Different from TOTAL_ITEMID_code, ABNORMAL_ITEMID_code indicates how many lab tests of this kind were abnormal.\n",
    "\n",
    "### 2.4. ICD9 Code:\n",
    "\n",
    "| ICD9 code | Explanation |\n",
    "| :-: | :-: |\n",
    "|3961|Extracorporeal circulat|\n",
    "|3891|Arterial catheterization|\n",
    "|3893|Venous cath NEC|\n",
    "|8856|Coronar arteriogr-2 cath|\n",
    "|9604|Insert endotracheal tube|\n",
    "|966| Entral infus nutrit sub|\n",
    "|9671|Cont inv mec ven <96 hrs|\n",
    "|9672|Cont inv mec ven 96+ hrs|\n",
    "|9904|Packed cell transfusion|\n",
    "|9955|Vaccination NEC|\n",
    "\n",
    "### 2.5. Lab Items code:\n",
    "\n",
    "|ITEMID|LABEL|FLUID| CATEGORY|\n",
    "| :-: | :-: | :-: | :-: |\n",
    "|50820|pH|Blood|Blood Gas|\n",
    "|50868|Anion Gap| Blood| Chemistry|\n",
    "|50882|Bicarbonate| Blood| Chemistry|\n",
    "|50902|Chloride| Blood| Chemistry|\n",
    "|50912|Creatinine| Blood| Chemistry|\n",
    "|50931|Glucose| Blood| Chemistry|\n",
    "|50960|Magnesium| Blood| Chemistry|\n",
    "|50970|Phosphate| Blood| Chemistry|\n",
    "|50971|Potassium| Blood| Chemistry|\n",
    "|50983|Sodium| Blood| Chemistry|\n",
    "|51006|Urea Nitrogen| Blood| Chemistry|\n",
    "|51221|Hematocrit| Blood| Hematology|\n",
    "|51222|Hemoglobin| Blood| Hematology|\n",
    "|51248|MCH| Blood| Hematology|\n",
    "|51249|MCHC| Blood| Hematology|\n",
    "|51250|MCV| Blood| Hematology|\n",
    "|51265|Platelet Count| Blood| Hematology|\n",
    "|51277|RDW | Blood| Hematology|\n",
    "|51279|Red Blood Cells| Blood| Hematology|\n",
    "|51301|White Blood Cells|Blood| Hematology|"
   ]
  },
  {
   "cell_type": "markdown",
   "metadata": {},
   "source": [
    "# 3. logistic regression and random forest models\n",
    "\n",
    "These models provide us detailed information about prediction accuracy and important variables affecting whether a patient dies after admitted into ICU."
   ]
  },
  {
   "cell_type": "markdown",
   "metadata": {},
   "source": [
    "### 3.1. Preparing data for further analysis\n",
    "\n",
    "In this section, we will \n",
    "1. load required packages and read in the data,\n",
    "2. set \"age\", \"gender\" and \"ethnicity\",\n",
    "3. deal with missing data, and \n",
    "4. split the data set randomly into training and test dataset."
   ]
  },
  {
   "cell_type": "code",
   "execution_count": 33,
   "metadata": {},
   "outputs": [],
   "source": [
    "import pandas as pd\n",
    "import numpy as np\n",
    "import random\n",
    "from sklearn import preprocessing\n",
    "from sklearn.linear_model import LogisticRegression, LogisticRegressionCV\n",
    "from sklearn.model_selection import train_test_split\n",
    "from sklearn import metrics\n",
    "from sklearn.metrics import classification_report, confusion_matrix, accuracy_score,  roc_auc_score, precision_score, recall_score\n",
    "from sklearn.feature_selection import RFE\n",
    "from sklearn.linear_model import LassoCV, Lasso\n",
    "from sklearn.model_selection import cross_val_score, RandomizedSearchCV, RepeatedKFold\n",
    "from sklearn.preprocessing import StandardScaler\n",
    "from sklearn.ensemble import RandomForestClassifier\n",
    "from sklearn.preprocessing import LabelEncoder\n",
    "from sklearn.inspection import plot_partial_dependence\n",
    "import matplotlib\n",
    "import matplotlib.pyplot as plt\n",
    "import seaborn as sns\n",
    "%matplotlib inline\n",
    "from numpy import mean\n",
    "from numpy import std\n",
    "from pprint import pprint"
   ]
  },
  {
   "cell_type": "code",
   "execution_count": 2,
   "metadata": {},
   "outputs": [],
   "source": [
    "df = pd.read_csv('MIMIC_cleaned.csv')"
   ]
  },
  {
   "cell_type": "code",
   "execution_count": 3,
   "metadata": {},
   "outputs": [],
   "source": [
    "age = df.AGE_ON_AD.astype(str).str.split(\".\", expand=True)[[0]]\n",
    "age = age.astype(int)\n",
    "np.sort(age[0][age[0] < 100].unique())\n",
    "df[\"age\"] = np.where(age[0] > 89, 90, age[0])"
   ]
  },
  {
   "cell_type": "code",
   "execution_count": 4,
   "metadata": {},
   "outputs": [],
   "source": [
    "le = LabelEncoder()\n",
    "df[\"gender\"] = le.fit_transform(df.GENDER)"
   ]
  },
  {
   "cell_type": "code",
   "execution_count": 5,
   "metadata": {},
   "outputs": [],
   "source": [
    "df[\"ethnicity\"] = le.fit_transform(df.ETHNICITY)"
   ]
  },
  {
   "cell_type": "code",
   "execution_count": 6,
   "metadata": {},
   "outputs": [],
   "source": [
    "#missing data\n",
    "#replece NA with 0\n",
    "df.fillna(0, inplace=True)"
   ]
  },
  {
   "cell_type": "markdown",
   "metadata": {},
   "source": [
    "##### 3.1.1. Spliting into Training and Test Datasets\n",
    "\n",
    "We randomly split 80% of data, including 47180 cases, into the training dataset and 20%, including 11796 cases, into the test dataset. "
   ]
  },
  {
   "cell_type": "code",
   "execution_count": 7,
   "metadata": {},
   "outputs": [],
   "source": [
    "y = df['HOSPITAL_EXPIRE_FLAG']"
   ]
  },
  {
   "cell_type": "code",
   "execution_count": 8,
   "metadata": {},
   "outputs": [],
   "source": [
    "features_li = ['age', 'gender', 'ethnicity','ICU_STAY_DAYS', 'MULTI_ENTRY_ICU', \n",
    "               'ICD9_9955','ICD9_3893', 'ICD9_9604', 'ICD9_966', 'ICD9_9672', 'ICD9_9904', 'ICD9_9671', 'ICD9_3961', 'ICD9_8856', 'ICD9_3891',\n",
    "               'PROP_ITEMID_51221', 'PROP_ITEMID_51222',\n",
    "                'PROP_ITEMID_51248', 'PROP_ITEMID_51249', 'PROP_ITEMID_51250',\n",
    "                'PROP_ITEMID_51265', 'PROP_ITEMID_51277', 'PROP_ITEMID_51279',\n",
    "                'PROP_ITEMID_51301', 'PROP_ITEMID_50820', 'PROP_ITEMID_50868',\n",
    "                'PROP_ITEMID_50882', 'PROP_ITEMID_50902', 'PROP_ITEMID_50912',\n",
    "                'PROP_ITEMID_50931', 'PROP_ITEMID_50960', 'PROP_ITEMID_50970',\n",
    "                'PROP_ITEMID_50971', 'PROP_ITEMID_50983', 'PROP_ITEMID_51006']\n",
    "X = df[features_li]"
   ]
  },
  {
   "cell_type": "code",
   "execution_count": 9,
   "metadata": {},
   "outputs": [],
   "source": [
    "X_train, X_test, y_train, y_test = train_test_split(X,y,\n",
    " test_size=0.2, random_state=0)"
   ]
  },
  {
   "cell_type": "code",
   "execution_count": 10,
   "metadata": {},
   "outputs": [
    {
     "data": {
      "text/plain": [
       "(47180, 35)"
      ]
     },
     "execution_count": 10,
     "metadata": {},
     "output_type": "execute_result"
    }
   ],
   "source": [
    "X_train.shape"
   ]
  },
  {
   "cell_type": "code",
   "execution_count": 11,
   "metadata": {},
   "outputs": [
    {
     "data": {
      "text/plain": [
       "(11796, 35)"
      ]
     },
     "execution_count": 11,
     "metadata": {},
     "output_type": "execute_result"
    }
   ],
   "source": [
    "X_test.shape"
   ]
  },
  {
   "cell_type": "markdown",
   "metadata": {},
   "source": [
    "### 3.2. Logistic regression\n",
    "\n",
    "In this section, we are going to construct a simple model, logistic regression, to predict the clinical outcome based on various variables in the MIMIC dataset. We will also evaluate the model accuracy via confusion matrix and AUC (area under the curve). In addition, we may want to check which variables are the most important variables in our model."
   ]
  },
  {
   "cell_type": "markdown",
   "metadata": {},
   "source": [
    "##### 3.2.1. Construct Logistic regression model"
   ]
  },
  {
   "cell_type": "code",
   "execution_count": 12,
   "metadata": {},
   "outputs": [],
   "source": [
    "logisticRegr = LogisticRegression(solver='lbfgs', max_iter=1000).fit(X_train, y_train)"
   ]
  },
  {
   "cell_type": "markdown",
   "metadata": {},
   "source": [
    "##### 3.2.2. Evaluate our Model\n",
    "\n",
    "We will evaluate the accuracy of our model on the test dataset and visualize the accuracy via confusion matrix, which shows the estimated type I error rate and type II error rate. We will also calculate the AUC of our model."
   ]
  },
  {
   "cell_type": "code",
   "execution_count": 13,
   "metadata": {},
   "outputs": [],
   "source": [
    "predictions = logisticRegr.predict(X_test)"
   ]
  },
  {
   "cell_type": "code",
   "execution_count": 14,
   "metadata": {},
   "outputs": [
    {
     "name": "stdout",
     "output_type": "stream",
     "text": [
      "0.921414038657172\n"
     ]
    }
   ],
   "source": [
    "score = logisticRegr.score(X_test, y_test)\n",
    "print(score)"
   ]
  },
  {
   "cell_type": "code",
   "execution_count": 15,
   "metadata": {},
   "outputs": [],
   "source": [
    "cnf_matrix = metrics.confusion_matrix(y_test, predictions)"
   ]
  },
  {
   "cell_type": "code",
   "execution_count": 16,
   "metadata": {},
   "outputs": [
    {
     "data": {
      "text/plain": [
       "Text(0.5, 225.76, 'Predicted label')"
      ]
     },
     "execution_count": 16,
     "metadata": {},
     "output_type": "execute_result"
    },
    {
     "data": {
      "image/png": "[encoded data removed]",
      "text/plain": [
       "<Figure size 360x252 with 2 Axes>"
      ]
     },
     "metadata": {},
     "output_type": "display_data"
    }
   ],
   "source": [
    "sns.set(rc={'figure.figsize':(5,3.5)})\n",
    "class_names=[0,1] # name  of classes\n",
    "fig, ax = plt.subplots()\n",
    "tick_marks = np.arange(len(class_names))\n",
    "plt.xticks(tick_marks, class_names)\n",
    "plt.yticks(tick_marks, class_names)\n",
    "# create heatmap\n",
    "sns.heatmap(pd.DataFrame(cnf_matrix), annot=True, cmap=\"YlGnBu\" ,fmt='g')\n",
    "ax.xaxis.set_label_position(\"top\")\n",
    "plt.tight_layout()\n",
    "plt.title('Confusion matrix', y=1.1)\n",
    "plt.ylabel('Actual label')\n",
    "plt.xlabel('Predicted label')"
   ]
  },
  {
   "cell_type": "markdown",
   "metadata": {},
   "source": [
    "**Interpretation**: Our results shows the logistic regression model is highly accurate. In the test dataset, it predicts the ICU mortality with 92% accuracy. However, as shown in the confusion matrix, 88% of patients who entered ICU did not pass away. Therefore, the high accuracy should be interpreted with caution as it may be partially due to our model prediction capacity and partially due to imbalanced dataset. \n",
    "\n",
    "Subsequently, we would like to estimate the AUC of the logitic regression model. AUC compares the true positive rate with false posititve rate; therefore, AUC can be a better indicator of accuracy for such an imbalanced dataset."
   ]
  },
  {
   "cell_type": "code",
   "execution_count": 47,
   "metadata": {},
   "outputs": [
    {
     "name": "stdout",
     "output_type": "stream",
     "text": [
      "Logistic auc score: 0.6787374843373174\n"
     ]
    }
   ],
   "source": [
    "print(\"Logistic auc score:\", roc_auc_score(y_test, predictions))"
   ]
  },
  {
   "cell_type": "code",
   "execution_count": 46,
   "metadata": {},
   "outputs": [
    {
     "name": "stdout",
     "output_type": "stream",
     "text": [
      "Logistic Accuracy: 0.921414038657172\n",
      "Logistic Precision: 0.7156549520766773\n",
      "Logistic Recall: 0.3742690058479532\n",
      "              precision    recall  f1-score   support\n",
      "\n",
      "           0       0.93      0.98      0.96     10599\n",
      "           1       0.72      0.37      0.49      1197\n",
      "\n",
      "    accuracy                           0.92     11796\n",
      "   macro avg       0.82      0.68      0.72     11796\n",
      "weighted avg       0.91      0.92      0.91     11796\n",
      "\n"
     ]
    }
   ],
   "source": [
    "print(\"Logistic Accuracy:\", accuracy_score(y_test, predictions))\n",
    "print(\"Logistic Precision:\", precision_score(y_test, predictions))\n",
    "print(\"Logistic Recall:\", recall_score(y_test, predictions))\n",
    "print(classification_report(y_test, predictions))"
   ]
  },
  {
   "cell_type": "markdown",
   "metadata": {},
   "source": [
    "**Interpretation**: Accoring to our results, the AUC of the logistic regression model is estiamted at 0.68, which is considerably greater than random guess (AUC = 0.5). Therefore, we expect that some variables in our dataset are associated with the clinical outcome (mortality in ICU). In the following section, we will explore the variable importance in our logistic regression model."
   ]
  },
  {
   "cell_type": "markdown",
   "metadata": {},
   "source": [
    "##### 3.2.3. Variable Selection\n",
    "\n",
    "As indicated in the logistic regression model, there are some variables associated with the outcome of itnerest. In this section, we would like to dive into the model, and further analyze which set of variables may better predict the mortality in ICU."
   ]
  },
  {
   "cell_type": "code",
   "execution_count": 45,
   "metadata": {},
   "outputs": [
    {
     "name": "stdout",
     "output_type": "stream",
     "text": [
      "PROP_ITEMID_50868 1.8645790883647906\n",
      "ICD9_9672 1.4511753097322155\n",
      "PROP_ITEMID_51301 1.4475841463494903\n",
      "PROP_ITEMID_50983 1.3377124530489855\n",
      "ICD9_9671 1.1818503651620078\n",
      "PROP_ITEMID_50971 1.0184823548913697\n",
      "PROP_ITEMID_50931 0.8877412932208923\n",
      "PROP_ITEMID_50820 0.8767619107646165\n",
      "PROP_ITEMID_50882 0.7954872886149137\n",
      "PROP_ITEMID_51265 0.7894341574004886\n",
      "PROP_ITEMID_50960 0.5786971859117579\n",
      "PROP_ITEMID_51277 0.43512413457315696\n",
      "PROP_ITEMID_51006 0.3456510193749629\n",
      "ICD9_3891 0.2896410660891787\n",
      "PROP_ITEMID_50912 0.2502789746676442\n",
      "PROP_ITEMID_50970 0.24960537101485\n",
      "ICD9_9604 0.1711645801657197\n",
      "PROP_ITEMID_50902 0.1656892891886428\n",
      "gender 0.1342352743918911\n",
      "PROP_ITEMID_51249 0.12978116454334035\n",
      "PROP_ITEMID_51250 0.12616722963521448\n",
      "PROP_ITEMID_51248 0.09856121614296526\n",
      "PROP_ITEMID_51279 0.06923409328689456\n",
      "age 0.03179557160589237\n",
      "ICD9_9904 0.03097310127680012\n",
      "ethnicity 0.0161527292746418\n",
      "ICU_STAY_DAYS -0.009038124972159499\n",
      "ICD9_3893 -0.05776181388285242\n",
      "ICD9_8856 -0.12221807164259228\n",
      "MULTI_ENTRY_ICU -0.1964100133834485\n",
      "ICD9_966 -0.29310673527841047\n",
      "PROP_ITEMID_51222 -0.5250090329540656\n",
      "PROP_ITEMID_51221 -0.582135146788749\n",
      "ICD9_3961 -1.27191988929947\n",
      "ICD9_9955 -2.1552223625897393\n"
     ]
    }
   ],
   "source": [
    "#Get feature importance by coefficient\n",
    "zip_iterator = zip(X_train.columns, logisticRegr.coef_[0])\n",
    "coef_logit = dict(zip_iterator) \n",
    "sort_coef = sorted(coef_logit.items(), key=lambda x: x[1], reverse=True)\n",
    "for i in sort_coef:\n",
    "    print(i[0], i[1])"
   ]
  },
  {
   "cell_type": "markdown",
   "metadata": {},
   "source": [
    "**Interpretaion**: ***The table lists the coefficients of the logistic regression model. A greater absolute value of coefficient may indicate a stronger association with the outcome, while a coefficient >0 indicates an increased risk while that <0 indicates an decreased risk. Accoording to the table above, we can identify 7 factors which have a coefficient >1 or < -1, including ITEMID_50868, ICD9_9672, ITEMID_51301, ITEMID_50983, ICD9_9671, ITEMID_50971, ICD9_3961 and ICD9_9955. ***"
   ]
  },
  {
   "cell_type": "markdown",
   "metadata": {},
   "source": [
    "### Random forest hyperparameter tuning"
   ]
  },
  {
   "cell_type": "code",
   "execution_count": 21,
   "metadata": {},
   "outputs": [
    {
     "name": "stdout",
     "output_type": "stream",
     "text": [
      "{'class_weight': ['balanced', 'balanced_subsample'],\n",
      " 'max_depth': [100, 300, 500, None],\n",
      " 'n_estimators': [600, 800, 1000]}\n"
     ]
    }
   ],
   "source": [
    "# Number of trees in random forest\n",
    "n_estimators = [int(x) for x in np.linspace(start = 600, stop = 1000, num = 3)]\n",
    "# Maximum number of levels in tree\n",
    "max_depth = [int(x) for x in np.linspace(100,500, num = 3)]\n",
    "max_depth.append(None)\n",
    "# Method of selecting samples for training each tree\n",
    "bootstrap = [True]\n",
    "class_weight = [\"balanced\", \"balanced_subsample\"]\n",
    "# Create the random grid\n",
    "random_grid = {'n_estimators': n_estimators,\n",
    "               'max_depth': max_depth,\n",
    "               'class_weight': class_weight}\n",
    "pprint(random_grid)"
   ]
  },
  {
   "cell_type": "code",
   "execution_count": 22,
   "metadata": {},
   "outputs": [
    {
     "name": "stdout",
     "output_type": "stream",
     "text": [
      "Fitting 3 folds for each of 24 candidates, totalling 72 fits\n"
     ]
    },
    {
     "name": "stderr",
     "output_type": "stream",
     "text": [
      "/opt/conda/lib/python3.7/site-packages/sklearn/model_selection/_search.py:282: UserWarning: The total space of parameters 24 is smaller than n_iter=1000. Running 24 iterations. For exhaustive searches, use GridSearchCV.\n",
      "  % (grid_size, self.n_iter, grid_size), UserWarning)\n",
      "[Parallel(n_jobs=-1)]: Using backend LokyBackend with 4 concurrent workers.\n",
      "[Parallel(n_jobs=-1)]: Done  33 tasks      | elapsed:  6.1min\n",
      "[Parallel(n_jobs=-1)]: Done  72 out of  72 | elapsed: 14.2min finished\n"
     ]
    }
   ],
   "source": [
    "# Use the random grid to search for best hyperparameters\n",
    "# First create the base model to tune\n",
    "random.seed(2021)\n",
    "randomforest = RandomForestClassifier()\n",
    "rf_random = RandomizedSearchCV(estimator = randomforest,\n",
    "                               param_distributions = random_grid, \n",
    "                               n_iter = 1000, cv = 3, verbose=2, \n",
    "                               random_state=42, n_jobs = -1, scoring='roc_auc').fit(X_train, y_train)"
   ]
  },
  {
   "cell_type": "code",
   "execution_count": 23,
   "metadata": {},
   "outputs": [
    {
     "data": {
      "text/plain": [
       "{'n_estimators': 1000, 'max_depth': 300, 'class_weight': 'balanced'}"
      ]
     },
     "execution_count": 23,
     "metadata": {},
     "output_type": "execute_result"
    }
   ],
   "source": [
    "rf_random.best_params_"
   ]
  },
  {
   "cell_type": "code",
   "execution_count": 24,
   "metadata": {},
   "outputs": [],
   "source": [
    "y_pred = rf_random.best_estimator_.predict(X_test)"
   ]
  },
  {
   "cell_type": "code",
   "execution_count": 25,
   "metadata": {},
   "outputs": [],
   "source": [
    "cnf_matrix = metrics.confusion_matrix(y_test, y_pred)"
   ]
  },
  {
   "cell_type": "code",
   "execution_count": 26,
   "metadata": {},
   "outputs": [
    {
     "data": {
      "text/plain": [
       "Text(0.5, 225.76, 'Predicted label')"
      ]
     },
     "execution_count": 26,
     "metadata": {},
     "output_type": "execute_result"
    },
    {
     "data": {
      "image/png": "[encoded data removed]",
      "text/plain": [
       "<Figure size 360x252 with 2 Axes>"
      ]
     },
     "metadata": {},
     "output_type": "display_data"
    }
   ],
   "source": [
    "sns.set(rc={'figure.figsize':(5,3.5)})\n",
    "class_names=[0,1] # name  of classes\n",
    "fig, ax = plt.subplots()\n",
    "tick_marks = np.arange(len(class_names))\n",
    "plt.xticks(tick_marks, class_names)\n",
    "plt.yticks(tick_marks, class_names)\n",
    "# create heatmap\n",
    "sns.heatmap(pd.DataFrame(cnf_matrix), annot=True, cmap=\"YlGnBu\" ,fmt='g')\n",
    "ax.xaxis.set_label_position(\"top\")\n",
    "plt.tight_layout()\n",
    "plt.title('Confusion matrix', y=1.1)\n",
    "plt.ylabel('Actual label')\n",
    "plt.xlabel('Predicted label')"
   ]
  },
  {
   "cell_type": "code",
   "execution_count": 42,
   "metadata": {},
   "outputs": [
    {
     "name": "stdout",
     "output_type": "stream",
     "text": [
      "Random forest auc score: 0.6301028304320572\n"
     ]
    }
   ],
   "source": [
    "print(\"Random forest auc score:\", roc_auc_score(y_test, y_pred))"
   ]
  },
  {
   "cell_type": "code",
   "execution_count": 39,
   "metadata": {},
   "outputs": [
    {
     "name": "stdout",
     "output_type": "stream",
     "text": [
      "Random forest Accuracy: 0.921244489657511\n",
      "Random forest Precision: 0.8661202185792349\n",
      "Random forest Recall: 0.264828738512949\n",
      "              precision    recall  f1-score   support\n",
      "\n",
      "           0       0.92      1.00      0.96     10599\n",
      "           1       0.87      0.26      0.41      1197\n",
      "\n",
      "    accuracy                           0.92     11796\n",
      "   macro avg       0.89      0.63      0.68     11796\n",
      "weighted avg       0.92      0.92      0.90     11796\n",
      "\n"
     ]
    }
   ],
   "source": [
    "print(\"Random forest Accuracy:\", accuracy_score(y_test, y_pred))\n",
    "print(\"Random forest Precision:\", precision_score(y_test, y_pred))\n",
    "print(\"Random forest Recall:\", recall_score(y_test, y_pred))\n",
    "print(classification_report(y_test,y_pred))"
   ]
  },
  {
   "cell_type": "code",
   "execution_count": 29,
   "metadata": {},
   "outputs": [],
   "source": [
    "feature_imp = pd.Series(rf_random.best_estimator_.feature_importances_,index=X.columns).sort_values(ascending=False)"
   ]
  },
  {
   "cell_type": "code",
   "execution_count": 30,
   "metadata": {
    "scrolled": true
   },
   "outputs": [
    {
     "data": {
      "image/png": "[encoded data removed]",
      "text/plain": [
       "<Figure size 720x864 with 1 Axes>"
      ]
     },
     "metadata": {},
     "output_type": "display_data"
    }
   ],
   "source": [
    "sns.set(rc={'figure.figsize':(10,12)})\n",
    "sns.barplot(x=feature_imp, y=feature_imp.index)\n",
    "plt.xlabel('Feature Importance Score')\n",
    "plt.ylabel('Features')\n",
    "plt.title(\"Visualizing Important Features\")\n",
    "plt.show()"
   ]
  },
  {
   "cell_type": "markdown",
   "metadata": {},
   "source": [
    "# Deep learning model\n",
    "\n",
    "Deep leaning model can be trained to a high prediction accuracy so that we can predict a patient who have a high risk after admitted into ICU."
   ]
  },
  {
   "cell_type": "markdown",
   "metadata": {},
   "source": [
    "### Preparing Data for further analysis"
   ]
  },
  {
   "cell_type": "markdown",
   "metadata": {
    "colab_type": "text",
    "id": "view-in-github"
   },
   "source": [
    "<a href=\"https://colab.research.google.com/github/JiamanBettyWu/bios823_project/blob/betty/modeling.ipynb\" target=\"_parent\"><img src=\"https://colab.research.google.com/assets/colab-badge.svg\" alt=\"Open In Colab\"/></a>"
   ]
  },
  {
   "cell_type": "code",
   "execution_count": 1,
   "metadata": {
    "colab": {
     "base_uri": "https://localhost:8080/"
    },
    "id": "CywHwwSQdILU",
    "outputId": "e68992c3-6ba7-4908-8fec-088cc6ab9945"
   },
   "outputs": [
    {
     "name": "stdout",
     "output_type": "stream",
     "text": [
      "Mounted at /content/drive\n"
     ]
    }
   ],
   "source": [
    "from google.colab import drive\n",
    "drive.mount('/content/drive')"
   ]
  },
  {
   "cell_type": "code",
   "execution_count": 2,
   "metadata": {
    "id": "aeKsF9qidWyo"
   },
   "outputs": [],
   "source": [
    "import sys\n",
    "sys.path.append('/content/drive/MyDrive/BIOS823/BIOS823 Final Project')"
   ]
  },
  {
   "cell_type": "code",
   "execution_count": 47,
   "metadata": {
    "id": "oPb_UAbhdmaB"
   },
   "outputs": [],
   "source": [
    "import pandas as pd\n",
    "import numpy as np\n",
    "from sklearn.preprocessing import LabelEncoder\n",
    "from sklearn.model_selection import train_test_split\n",
    "from sklearn.preprocessing import StandardScaler\n",
    "from sklearn.neural_network import MLPClassifier\n",
    "\n",
    "from sklearn.metrics import confusion_matrix\n",
    "from sklearn.metrics import roc_auc_score\n",
    "from sklearn.model_selection import GridSearchCV\n",
    "\n",
    "from sklearn.metrics import classification_report, confusion_matrix, accuracy_score,  roc_auc_score, f1_score, precision_score, recall_score\n",
    "import matplotlib.pyplot as plt\n",
    "import seaborn as sns\n",
    "\n",
    "\n",
    "import joblib"
   ]
  },
  {
   "cell_type": "code",
   "execution_count": 4,
   "metadata": {
    "id": "xRFqi70OdpPk"
   },
   "outputs": [],
   "source": [
    "dat = pd.read_csv(\"/content/drive/MyDrive/BIOS823/BIOS823 Final Project/MIMIC_cleaned.csv\")"
   ]
  },
  {
   "cell_type": "code",
   "execution_count": null,
   "metadata": {
    "colab": {
     "base_uri": "https://localhost:8080/",
     "height": 376
    },
    "id": "jWWDgk06d0JR",
    "outputId": "d9222c05-1c7a-4556-d482-4e5cf8f1e604"
   },
   "outputs": [
    {
     "data": {
      "text/html": [
       "<div>\n",
       "<style scoped>\n",
       "    .dataframe tbody tr th:only-of-type {\n",
       "        vertical-align: middle;\n",
       "    }\n",
       "\n",
       "    .dataframe tbody tr th {\n",
       "        vertical-align: top;\n",
       "    }\n",
       "\n",
       "    .dataframe thead th {\n",
       "        text-align: right;\n",
       "    }\n",
       "</style>\n",
       "<table border=\"1\" class=\"dataframe\">\n",
       "  <thead>\n",
       "    <tr style=\"text-align: right;\">\n",
       "      <th></th>\n",
       "      <th>SUBJECT_ID</th>\n",
       "      <th>HADM_ID</th>\n",
       "      <th>ADMITTIME</th>\n",
       "      <th>DISCHTIME</th>\n",
       "      <th>ETHNICITY</th>\n",
       "      <th>DIAGNOSIS</th>\n",
       "      <th>HOSPITAL_EXPIRE_FLAG</th>\n",
       "      <th>GENDER</th>\n",
       "      <th>DOB</th>\n",
       "      <th>AGE_ON_AD</th>\n",
       "      <th>SERVICES</th>\n",
       "      <th>ICU_STAY_DAYS</th>\n",
       "      <th>MULTI_ENTRY_ICU</th>\n",
       "      <th>ICD9_9955</th>\n",
       "      <th>ICD9_3893</th>\n",
       "      <th>ICD9_9604</th>\n",
       "      <th>ICD9_966</th>\n",
       "      <th>ICD9_9672</th>\n",
       "      <th>ICD9_9904</th>\n",
       "      <th>ICD9_9671</th>\n",
       "      <th>ICD9_3961</th>\n",
       "      <th>ICD9_8856</th>\n",
       "      <th>ICD9_3891</th>\n",
       "      <th>TOTAL_ITEMID_51221</th>\n",
       "      <th>TOTAL_ITEMID_51222</th>\n",
       "      <th>TOTAL_ITEMID_51248</th>\n",
       "      <th>TOTAL_ITEMID_51249</th>\n",
       "      <th>TOTAL_ITEMID_51250</th>\n",
       "      <th>TOTAL_ITEMID_51265</th>\n",
       "      <th>TOTAL_ITEMID_51277</th>\n",
       "      <th>TOTAL_ITEMID_51279</th>\n",
       "      <th>TOTAL_ITEMID_51301</th>\n",
       "      <th>TOTAL_ITEMID_50820</th>\n",
       "      <th>TOTAL_ITEMID_50868</th>\n",
       "      <th>TOTAL_ITEMID_50882</th>\n",
       "      <th>TOTAL_ITEMID_50902</th>\n",
       "      <th>TOTAL_ITEMID_50912</th>\n",
       "      <th>TOTAL_ITEMID_50931</th>\n",
       "      <th>TOTAL_ITEMID_50960</th>\n",
       "      <th>TOTAL_ITEMID_50970</th>\n",
       "      <th>...</th>\n",
       "      <th>ABNORMAL_ITEMID_51221</th>\n",
       "      <th>ABNORMAL_ITEMID_51222</th>\n",
       "      <th>ABNORMAL_ITEMID_51248</th>\n",
       "      <th>ABNORMAL_ITEMID_51249</th>\n",
       "      <th>ABNORMAL_ITEMID_51250</th>\n",
       "      <th>ABNORMAL_ITEMID_51265</th>\n",
       "      <th>ABNORMAL_ITEMID_51277</th>\n",
       "      <th>ABNORMAL_ITEMID_51279</th>\n",
       "      <th>ABNORMAL_ITEMID_51301</th>\n",
       "      <th>ABNORMAL_ITEMID_50820</th>\n",
       "      <th>ABNORMAL_ITEMID_50868</th>\n",
       "      <th>ABNORMAL_ITEMID_50882</th>\n",
       "      <th>ABNORMAL_ITEMID_50902</th>\n",
       "      <th>ABNORMAL_ITEMID_50912</th>\n",
       "      <th>ABNORMAL_ITEMID_50931</th>\n",
       "      <th>ABNORMAL_ITEMID_50960</th>\n",
       "      <th>ABNORMAL_ITEMID_50970</th>\n",
       "      <th>ABNORMAL_ITEMID_50971</th>\n",
       "      <th>ABNORMAL_ITEMID_50983</th>\n",
       "      <th>ABNORMAL_ITEMID_51006</th>\n",
       "      <th>PROP_ITEMID_51221</th>\n",
       "      <th>PROP_ITEMID_51222</th>\n",
       "      <th>PROP_ITEMID_51248</th>\n",
       "      <th>PROP_ITEMID_51249</th>\n",
       "      <th>PROP_ITEMID_51250</th>\n",
       "      <th>PROP_ITEMID_51265</th>\n",
       "      <th>PROP_ITEMID_51277</th>\n",
       "      <th>PROP_ITEMID_51279</th>\n",
       "      <th>PROP_ITEMID_51301</th>\n",
       "      <th>PROP_ITEMID_50820</th>\n",
       "      <th>PROP_ITEMID_50868</th>\n",
       "      <th>PROP_ITEMID_50882</th>\n",
       "      <th>PROP_ITEMID_50902</th>\n",
       "      <th>PROP_ITEMID_50912</th>\n",
       "      <th>PROP_ITEMID_50931</th>\n",
       "      <th>PROP_ITEMID_50960</th>\n",
       "      <th>PROP_ITEMID_50970</th>\n",
       "      <th>PROP_ITEMID_50971</th>\n",
       "      <th>PROP_ITEMID_50983</th>\n",
       "      <th>PROP_ITEMID_51006</th>\n",
       "    </tr>\n",
       "  </thead>\n",
       "  <tbody>\n",
       "    <tr>\n",
       "      <th>0</th>\n",
       "      <td>22</td>\n",
       "      <td>165315</td>\n",
       "      <td>2196-04-09T12:26:00Z</td>\n",
       "      <td>2196-04-10T15:54:00Z</td>\n",
       "      <td>WHITE</td>\n",
       "      <td>BENZODIAZEPINE OVERDOSE</td>\n",
       "      <td>0</td>\n",
       "      <td>F</td>\n",
       "      <td>2131-05-07T00:00:00Z</td>\n",
       "      <td>64.926812</td>\n",
       "      <td>MED</td>\n",
       "      <td>1.1438</td>\n",
       "      <td>False</td>\n",
       "      <td>0.0</td>\n",
       "      <td>0.0</td>\n",
       "      <td>1.0</td>\n",
       "      <td>0.0</td>\n",
       "      <td>0.0</td>\n",
       "      <td>0.0</td>\n",
       "      <td>1.0</td>\n",
       "      <td>0.0</td>\n",
       "      <td>0.0</td>\n",
       "      <td>0.0</td>\n",
       "      <td>1.0</td>\n",
       "      <td>1.0</td>\n",
       "      <td>1.0</td>\n",
       "      <td>1.0</td>\n",
       "      <td>1.0</td>\n",
       "      <td>1.0</td>\n",
       "      <td>1.0</td>\n",
       "      <td>1.0</td>\n",
       "      <td>1.0</td>\n",
       "      <td>1.0</td>\n",
       "      <td>2.0</td>\n",
       "      <td>2.0</td>\n",
       "      <td>2.0</td>\n",
       "      <td>2.0</td>\n",
       "      <td>2.0</td>\n",
       "      <td>2.0</td>\n",
       "      <td>2.0</td>\n",
       "      <td>...</td>\n",
       "      <td>1.0</td>\n",
       "      <td>0.0</td>\n",
       "      <td>0.0</td>\n",
       "      <td>0.0</td>\n",
       "      <td>0.0</td>\n",
       "      <td>0.0</td>\n",
       "      <td>0.0</td>\n",
       "      <td>1.0</td>\n",
       "      <td>0.0</td>\n",
       "      <td>0.0</td>\n",
       "      <td>0.0</td>\n",
       "      <td>0.0</td>\n",
       "      <td>0.0</td>\n",
       "      <td>0.0</td>\n",
       "      <td>1.0</td>\n",
       "      <td>0.0</td>\n",
       "      <td>0.0</td>\n",
       "      <td>1.0</td>\n",
       "      <td>0.0</td>\n",
       "      <td>0.0</td>\n",
       "      <td>1.0</td>\n",
       "      <td>0.0</td>\n",
       "      <td>0.000000</td>\n",
       "      <td>0.000000</td>\n",
       "      <td>0.0</td>\n",
       "      <td>0.000</td>\n",
       "      <td>0.0</td>\n",
       "      <td>1.0</td>\n",
       "      <td>0.000000</td>\n",
       "      <td>0.000000</td>\n",
       "      <td>0.000000</td>\n",
       "      <td>0.000000</td>\n",
       "      <td>0.000000</td>\n",
       "      <td>0.000000</td>\n",
       "      <td>0.500000</td>\n",
       "      <td>0.0</td>\n",
       "      <td>0.000</td>\n",
       "      <td>0.50</td>\n",
       "      <td>0.0</td>\n",
       "      <td>0.000000</td>\n",
       "    </tr>\n",
       "    <tr>\n",
       "      <th>1</th>\n",
       "      <td>23</td>\n",
       "      <td>152223</td>\n",
       "      <td>2153-09-03T07:15:00Z</td>\n",
       "      <td>2153-09-08T19:10:00Z</td>\n",
       "      <td>WHITE</td>\n",
       "      <td>CORONARY ARTERY DISEASE\\CORONARY ARTERY BYPASS...</td>\n",
       "      <td>0</td>\n",
       "      <td>M</td>\n",
       "      <td>2082-07-17T00:00:00Z</td>\n",
       "      <td>71.130191</td>\n",
       "      <td>CSURG</td>\n",
       "      <td>1.2641</td>\n",
       "      <td>False</td>\n",
       "      <td>0.0</td>\n",
       "      <td>0.0</td>\n",
       "      <td>0.0</td>\n",
       "      <td>0.0</td>\n",
       "      <td>0.0</td>\n",
       "      <td>1.0</td>\n",
       "      <td>0.0</td>\n",
       "      <td>1.0</td>\n",
       "      <td>0.0</td>\n",
       "      <td>0.0</td>\n",
       "      <td>9.0</td>\n",
       "      <td>3.0</td>\n",
       "      <td>3.0</td>\n",
       "      <td>3.0</td>\n",
       "      <td>3.0</td>\n",
       "      <td>4.0</td>\n",
       "      <td>3.0</td>\n",
       "      <td>3.0</td>\n",
       "      <td>3.0</td>\n",
       "      <td>13.0</td>\n",
       "      <td>2.0</td>\n",
       "      <td>3.0</td>\n",
       "      <td>3.0</td>\n",
       "      <td>4.0</td>\n",
       "      <td>3.0</td>\n",
       "      <td>6.0</td>\n",
       "      <td>1.0</td>\n",
       "      <td>...</td>\n",
       "      <td>9.0</td>\n",
       "      <td>3.0</td>\n",
       "      <td>1.0</td>\n",
       "      <td>3.0</td>\n",
       "      <td>0.0</td>\n",
       "      <td>4.0</td>\n",
       "      <td>0.0</td>\n",
       "      <td>3.0</td>\n",
       "      <td>0.0</td>\n",
       "      <td>8.0</td>\n",
       "      <td>0.0</td>\n",
       "      <td>0.0</td>\n",
       "      <td>2.0</td>\n",
       "      <td>0.0</td>\n",
       "      <td>3.0</td>\n",
       "      <td>0.0</td>\n",
       "      <td>0.0</td>\n",
       "      <td>0.0</td>\n",
       "      <td>0.0</td>\n",
       "      <td>0.0</td>\n",
       "      <td>1.0</td>\n",
       "      <td>1.0</td>\n",
       "      <td>0.333333</td>\n",
       "      <td>1.000000</td>\n",
       "      <td>0.0</td>\n",
       "      <td>1.000</td>\n",
       "      <td>0.0</td>\n",
       "      <td>1.0</td>\n",
       "      <td>0.000000</td>\n",
       "      <td>0.615385</td>\n",
       "      <td>0.000000</td>\n",
       "      <td>0.000000</td>\n",
       "      <td>0.666667</td>\n",
       "      <td>0.000000</td>\n",
       "      <td>1.000000</td>\n",
       "      <td>0.0</td>\n",
       "      <td>0.000</td>\n",
       "      <td>0.00</td>\n",
       "      <td>0.0</td>\n",
       "      <td>0.000000</td>\n",
       "    </tr>\n",
       "    <tr>\n",
       "      <th>2</th>\n",
       "      <td>23</td>\n",
       "      <td>124321</td>\n",
       "      <td>2157-10-18T19:34:00Z</td>\n",
       "      <td>2157-10-25T14:00:00Z</td>\n",
       "      <td>WHITE</td>\n",
       "      <td>BRAIN MASS</td>\n",
       "      <td>0</td>\n",
       "      <td>M</td>\n",
       "      <td>2082-07-17T00:00:00Z</td>\n",
       "      <td>75.254799</td>\n",
       "      <td>NSURG</td>\n",
       "      <td>1.1862</td>\n",
       "      <td>True</td>\n",
       "      <td>NaN</td>\n",
       "      <td>NaN</td>\n",
       "      <td>NaN</td>\n",
       "      <td>NaN</td>\n",
       "      <td>NaN</td>\n",
       "      <td>NaN</td>\n",
       "      <td>NaN</td>\n",
       "      <td>NaN</td>\n",
       "      <td>NaN</td>\n",
       "      <td>NaN</td>\n",
       "      <td>8.0</td>\n",
       "      <td>8.0</td>\n",
       "      <td>8.0</td>\n",
       "      <td>8.0</td>\n",
       "      <td>8.0</td>\n",
       "      <td>8.0</td>\n",
       "      <td>8.0</td>\n",
       "      <td>8.0</td>\n",
       "      <td>8.0</td>\n",
       "      <td>2.0</td>\n",
       "      <td>8.0</td>\n",
       "      <td>8.0</td>\n",
       "      <td>8.0</td>\n",
       "      <td>8.0</td>\n",
       "      <td>8.0</td>\n",
       "      <td>8.0</td>\n",
       "      <td>8.0</td>\n",
       "      <td>...</td>\n",
       "      <td>8.0</td>\n",
       "      <td>8.0</td>\n",
       "      <td>3.0</td>\n",
       "      <td>6.0</td>\n",
       "      <td>0.0</td>\n",
       "      <td>1.0</td>\n",
       "      <td>0.0</td>\n",
       "      <td>8.0</td>\n",
       "      <td>4.0</td>\n",
       "      <td>0.0</td>\n",
       "      <td>0.0</td>\n",
       "      <td>0.0</td>\n",
       "      <td>0.0</td>\n",
       "      <td>0.0</td>\n",
       "      <td>8.0</td>\n",
       "      <td>0.0</td>\n",
       "      <td>3.0</td>\n",
       "      <td>0.0</td>\n",
       "      <td>0.0</td>\n",
       "      <td>3.0</td>\n",
       "      <td>1.0</td>\n",
       "      <td>1.0</td>\n",
       "      <td>0.375000</td>\n",
       "      <td>0.750000</td>\n",
       "      <td>0.0</td>\n",
       "      <td>0.125</td>\n",
       "      <td>0.0</td>\n",
       "      <td>1.0</td>\n",
       "      <td>0.500000</td>\n",
       "      <td>0.000000</td>\n",
       "      <td>0.000000</td>\n",
       "      <td>0.000000</td>\n",
       "      <td>0.000000</td>\n",
       "      <td>0.000000</td>\n",
       "      <td>1.000000</td>\n",
       "      <td>0.0</td>\n",
       "      <td>0.375</td>\n",
       "      <td>0.00</td>\n",
       "      <td>0.0</td>\n",
       "      <td>0.375000</td>\n",
       "    </tr>\n",
       "    <tr>\n",
       "      <th>3</th>\n",
       "      <td>24</td>\n",
       "      <td>161859</td>\n",
       "      <td>2139-06-06T16:14:00Z</td>\n",
       "      <td>2139-06-09T12:48:00Z</td>\n",
       "      <td>WHITE</td>\n",
       "      <td>INTERIOR MYOCARDIAL INFARCTION</td>\n",
       "      <td>0</td>\n",
       "      <td>M</td>\n",
       "      <td>2100-05-31T00:00:00Z</td>\n",
       "      <td>39.016226</td>\n",
       "      <td>CMED</td>\n",
       "      <td>0.5124</td>\n",
       "      <td>False</td>\n",
       "      <td>0.0</td>\n",
       "      <td>0.0</td>\n",
       "      <td>0.0</td>\n",
       "      <td>0.0</td>\n",
       "      <td>0.0</td>\n",
       "      <td>0.0</td>\n",
       "      <td>0.0</td>\n",
       "      <td>0.0</td>\n",
       "      <td>1.0</td>\n",
       "      <td>0.0</td>\n",
       "      <td>3.0</td>\n",
       "      <td>3.0</td>\n",
       "      <td>3.0</td>\n",
       "      <td>3.0</td>\n",
       "      <td>3.0</td>\n",
       "      <td>4.0</td>\n",
       "      <td>3.0</td>\n",
       "      <td>3.0</td>\n",
       "      <td>3.0</td>\n",
       "      <td>1.0</td>\n",
       "      <td>4.0</td>\n",
       "      <td>4.0</td>\n",
       "      <td>4.0</td>\n",
       "      <td>4.0</td>\n",
       "      <td>4.0</td>\n",
       "      <td>4.0</td>\n",
       "      <td>4.0</td>\n",
       "      <td>...</td>\n",
       "      <td>0.0</td>\n",
       "      <td>0.0</td>\n",
       "      <td>1.0</td>\n",
       "      <td>1.0</td>\n",
       "      <td>0.0</td>\n",
       "      <td>0.0</td>\n",
       "      <td>0.0</td>\n",
       "      <td>3.0</td>\n",
       "      <td>0.0</td>\n",
       "      <td>0.0</td>\n",
       "      <td>0.0</td>\n",
       "      <td>0.0</td>\n",
       "      <td>0.0</td>\n",
       "      <td>0.0</td>\n",
       "      <td>2.0</td>\n",
       "      <td>0.0</td>\n",
       "      <td>0.0</td>\n",
       "      <td>0.0</td>\n",
       "      <td>0.0</td>\n",
       "      <td>0.0</td>\n",
       "      <td>0.0</td>\n",
       "      <td>0.0</td>\n",
       "      <td>0.333333</td>\n",
       "      <td>0.333333</td>\n",
       "      <td>0.0</td>\n",
       "      <td>0.000</td>\n",
       "      <td>0.0</td>\n",
       "      <td>1.0</td>\n",
       "      <td>0.000000</td>\n",
       "      <td>0.000000</td>\n",
       "      <td>0.000000</td>\n",
       "      <td>0.000000</td>\n",
       "      <td>0.000000</td>\n",
       "      <td>0.000000</td>\n",
       "      <td>0.500000</td>\n",
       "      <td>0.0</td>\n",
       "      <td>0.000</td>\n",
       "      <td>0.00</td>\n",
       "      <td>0.0</td>\n",
       "      <td>0.000000</td>\n",
       "    </tr>\n",
       "    <tr>\n",
       "      <th>4</th>\n",
       "      <td>25</td>\n",
       "      <td>129635</td>\n",
       "      <td>2160-11-02T02:06:00Z</td>\n",
       "      <td>2160-11-05T14:55:00Z</td>\n",
       "      <td>WHITE</td>\n",
       "      <td>ACUTE CORONARY SYNDROME</td>\n",
       "      <td>0</td>\n",
       "      <td>M</td>\n",
       "      <td>2101-11-21T00:00:00Z</td>\n",
       "      <td>58.948905</td>\n",
       "      <td>CMED</td>\n",
       "      <td>3.5466</td>\n",
       "      <td>False</td>\n",
       "      <td>0.0</td>\n",
       "      <td>0.0</td>\n",
       "      <td>0.0</td>\n",
       "      <td>0.0</td>\n",
       "      <td>0.0</td>\n",
       "      <td>0.0</td>\n",
       "      <td>0.0</td>\n",
       "      <td>0.0</td>\n",
       "      <td>2.0</td>\n",
       "      <td>0.0</td>\n",
       "      <td>9.0</td>\n",
       "      <td>7.0</td>\n",
       "      <td>7.0</td>\n",
       "      <td>7.0</td>\n",
       "      <td>7.0</td>\n",
       "      <td>8.0</td>\n",
       "      <td>7.0</td>\n",
       "      <td>7.0</td>\n",
       "      <td>7.0</td>\n",
       "      <td>8.0</td>\n",
       "      <td>9.0</td>\n",
       "      <td>9.0</td>\n",
       "      <td>9.0</td>\n",
       "      <td>9.0</td>\n",
       "      <td>9.0</td>\n",
       "      <td>8.0</td>\n",
       "      <td>8.0</td>\n",
       "      <td>...</td>\n",
       "      <td>9.0</td>\n",
       "      <td>7.0</td>\n",
       "      <td>0.0</td>\n",
       "      <td>4.0</td>\n",
       "      <td>0.0</td>\n",
       "      <td>1.0</td>\n",
       "      <td>0.0</td>\n",
       "      <td>7.0</td>\n",
       "      <td>4.0</td>\n",
       "      <td>5.0</td>\n",
       "      <td>1.0</td>\n",
       "      <td>2.0</td>\n",
       "      <td>3.0</td>\n",
       "      <td>4.0</td>\n",
       "      <td>8.0</td>\n",
       "      <td>0.0</td>\n",
       "      <td>5.0</td>\n",
       "      <td>3.0</td>\n",
       "      <td>0.0</td>\n",
       "      <td>7.0</td>\n",
       "      <td>1.0</td>\n",
       "      <td>1.0</td>\n",
       "      <td>0.000000</td>\n",
       "      <td>0.571429</td>\n",
       "      <td>0.0</td>\n",
       "      <td>0.125</td>\n",
       "      <td>0.0</td>\n",
       "      <td>1.0</td>\n",
       "      <td>0.571429</td>\n",
       "      <td>0.625000</td>\n",
       "      <td>0.111111</td>\n",
       "      <td>0.222222</td>\n",
       "      <td>0.333333</td>\n",
       "      <td>0.444444</td>\n",
       "      <td>0.888889</td>\n",
       "      <td>0.0</td>\n",
       "      <td>0.625</td>\n",
       "      <td>0.25</td>\n",
       "      <td>0.0</td>\n",
       "      <td>0.777778</td>\n",
       "    </tr>\n",
       "  </tbody>\n",
       "</table>\n",
       "<p>5 rows × 83 columns</p>\n",
       "</div>"
      ],
      "text/plain": [
       "   SUBJECT_ID  HADM_ID  ... PROP_ITEMID_50983 PROP_ITEMID_51006\n",
       "0          22   165315  ...               0.0          0.000000\n",
       "1          23   152223  ...               0.0          0.000000\n",
       "2          23   124321  ...               0.0          0.375000\n",
       "3          24   161859  ...               0.0          0.000000\n",
       "4          25   129635  ...               0.0          0.777778\n",
       "\n",
       "[5 rows x 83 columns]"
      ]
     },
     "execution_count": 8,
     "metadata": {},
     "output_type": "execute_result"
    }
   ],
   "source": [
    "dat.head()"
   ]
  },
  {
   "cell_type": "code",
   "execution_count": null,
   "metadata": {
    "colab": {
     "base_uri": "https://localhost:8080/"
    },
    "id": "EOOA1Qx7qxwA",
    "outputId": "e9c473e8-a946-4844-cc85-ef22ad1e444d"
   },
   "outputs": [
    {
     "data": {
      "text/plain": [
       "(58976, 83)"
      ]
     },
     "execution_count": 9,
     "metadata": {},
     "output_type": "execute_result"
    }
   ],
   "source": [
    "dat.shape"
   ]
  },
  {
   "cell_type": "code",
   "execution_count": null,
   "metadata": {
    "colab": {
     "base_uri": "https://localhost:8080/",
     "height": 320
    },
    "id": "c3ZC2pJuqrty",
    "outputId": "92161f0e-201a-4e93-90c5-4a628a69672b"
   },
   "outputs": [
    {
     "data": {
      "text/html": [
       "<div>\n",
       "<style scoped>\n",
       "    .dataframe tbody tr th:only-of-type {\n",
       "        vertical-align: middle;\n",
       "    }\n",
       "\n",
       "    .dataframe tbody tr th {\n",
       "        vertical-align: top;\n",
       "    }\n",
       "\n",
       "    .dataframe thead th {\n",
       "        text-align: right;\n",
       "    }\n",
       "</style>\n",
       "<table border=\"1\" class=\"dataframe\">\n",
       "  <thead>\n",
       "    <tr style=\"text-align: right;\">\n",
       "      <th></th>\n",
       "      <th>SUBJECT_ID</th>\n",
       "      <th>HADM_ID</th>\n",
       "      <th>HOSPITAL_EXPIRE_FLAG</th>\n",
       "      <th>AGE_ON_AD</th>\n",
       "      <th>ICU_STAY_DAYS</th>\n",
       "      <th>ICD9_9955</th>\n",
       "      <th>ICD9_3893</th>\n",
       "      <th>ICD9_9604</th>\n",
       "      <th>ICD9_966</th>\n",
       "      <th>ICD9_9672</th>\n",
       "      <th>ICD9_9904</th>\n",
       "      <th>ICD9_9671</th>\n",
       "      <th>ICD9_3961</th>\n",
       "      <th>ICD9_8856</th>\n",
       "      <th>ICD9_3891</th>\n",
       "      <th>TOTAL_ITEMID_51221</th>\n",
       "      <th>TOTAL_ITEMID_51222</th>\n",
       "      <th>TOTAL_ITEMID_51248</th>\n",
       "      <th>TOTAL_ITEMID_51249</th>\n",
       "      <th>TOTAL_ITEMID_51250</th>\n",
       "      <th>TOTAL_ITEMID_51265</th>\n",
       "      <th>TOTAL_ITEMID_51277</th>\n",
       "      <th>TOTAL_ITEMID_51279</th>\n",
       "      <th>TOTAL_ITEMID_51301</th>\n",
       "      <th>TOTAL_ITEMID_50820</th>\n",
       "      <th>TOTAL_ITEMID_50868</th>\n",
       "      <th>TOTAL_ITEMID_50882</th>\n",
       "      <th>TOTAL_ITEMID_50902</th>\n",
       "      <th>TOTAL_ITEMID_50912</th>\n",
       "      <th>TOTAL_ITEMID_50931</th>\n",
       "      <th>TOTAL_ITEMID_50960</th>\n",
       "      <th>TOTAL_ITEMID_50970</th>\n",
       "      <th>TOTAL_ITEMID_50971</th>\n",
       "      <th>TOTAL_ITEMID_50983</th>\n",
       "      <th>TOTAL_ITEMID_51006</th>\n",
       "      <th>ABNORMAL_ITEMID_51221</th>\n",
       "      <th>ABNORMAL_ITEMID_51222</th>\n",
       "      <th>ABNORMAL_ITEMID_51248</th>\n",
       "      <th>ABNORMAL_ITEMID_51249</th>\n",
       "      <th>ABNORMAL_ITEMID_51250</th>\n",
       "      <th>ABNORMAL_ITEMID_51265</th>\n",
       "      <th>ABNORMAL_ITEMID_51277</th>\n",
       "      <th>ABNORMAL_ITEMID_51279</th>\n",
       "      <th>ABNORMAL_ITEMID_51301</th>\n",
       "      <th>ABNORMAL_ITEMID_50820</th>\n",
       "      <th>ABNORMAL_ITEMID_50868</th>\n",
       "      <th>ABNORMAL_ITEMID_50882</th>\n",
       "      <th>ABNORMAL_ITEMID_50902</th>\n",
       "      <th>ABNORMAL_ITEMID_50912</th>\n",
       "      <th>ABNORMAL_ITEMID_50931</th>\n",
       "      <th>ABNORMAL_ITEMID_50960</th>\n",
       "      <th>ABNORMAL_ITEMID_50970</th>\n",
       "      <th>ABNORMAL_ITEMID_50971</th>\n",
       "      <th>ABNORMAL_ITEMID_50983</th>\n",
       "      <th>ABNORMAL_ITEMID_51006</th>\n",
       "      <th>PROP_ITEMID_51221</th>\n",
       "      <th>PROP_ITEMID_51222</th>\n",
       "      <th>PROP_ITEMID_51248</th>\n",
       "      <th>PROP_ITEMID_51249</th>\n",
       "      <th>PROP_ITEMID_51250</th>\n",
       "      <th>PROP_ITEMID_51265</th>\n",
       "      <th>PROP_ITEMID_51277</th>\n",
       "      <th>PROP_ITEMID_51279</th>\n",
       "      <th>PROP_ITEMID_51301</th>\n",
       "      <th>PROP_ITEMID_50820</th>\n",
       "      <th>PROP_ITEMID_50868</th>\n",
       "      <th>PROP_ITEMID_50882</th>\n",
       "      <th>PROP_ITEMID_50902</th>\n",
       "      <th>PROP_ITEMID_50912</th>\n",
       "      <th>PROP_ITEMID_50931</th>\n",
       "      <th>PROP_ITEMID_50960</th>\n",
       "      <th>PROP_ITEMID_50970</th>\n",
       "      <th>PROP_ITEMID_50971</th>\n",
       "      <th>PROP_ITEMID_50983</th>\n",
       "      <th>PROP_ITEMID_51006</th>\n",
       "    </tr>\n",
       "  </thead>\n",
       "  <tbody>\n",
       "    <tr>\n",
       "      <th>count</th>\n",
       "      <td>58976.000000</td>\n",
       "      <td>58976.000000</td>\n",
       "      <td>58976.000000</td>\n",
       "      <td>58976.000000</td>\n",
       "      <td>57776.000000</td>\n",
       "      <td>38582.000000</td>\n",
       "      <td>38582.000000</td>\n",
       "      <td>38582.000000</td>\n",
       "      <td>38582.000000</td>\n",
       "      <td>38582.000000</td>\n",
       "      <td>38582.000000</td>\n",
       "      <td>38582.000000</td>\n",
       "      <td>38582.000000</td>\n",
       "      <td>38582.000000</td>\n",
       "      <td>38582.000000</td>\n",
       "      <td>57305.000000</td>\n",
       "      <td>57305.000000</td>\n",
       "      <td>57305.000000</td>\n",
       "      <td>57305.000000</td>\n",
       "      <td>57305.000000</td>\n",
       "      <td>57305.000000</td>\n",
       "      <td>57305.000000</td>\n",
       "      <td>57305.000000</td>\n",
       "      <td>57305.000000</td>\n",
       "      <td>57305.000000</td>\n",
       "      <td>57305.000000</td>\n",
       "      <td>57305.000000</td>\n",
       "      <td>57305.000000</td>\n",
       "      <td>57305.000000</td>\n",
       "      <td>57305.000000</td>\n",
       "      <td>57305.000000</td>\n",
       "      <td>57305.000000</td>\n",
       "      <td>57305.000000</td>\n",
       "      <td>57305.000000</td>\n",
       "      <td>57305.000000</td>\n",
       "      <td>57305.000000</td>\n",
       "      <td>57305.000000</td>\n",
       "      <td>57305.000000</td>\n",
       "      <td>57305.000000</td>\n",
       "      <td>57305.000000</td>\n",
       "      <td>57305.000000</td>\n",
       "      <td>57305.000000</td>\n",
       "      <td>57305.000000</td>\n",
       "      <td>57305.000000</td>\n",
       "      <td>57305.000000</td>\n",
       "      <td>57305.000000</td>\n",
       "      <td>57305.000000</td>\n",
       "      <td>57305.000000</td>\n",
       "      <td>57305.000000</td>\n",
       "      <td>57305.000000</td>\n",
       "      <td>57305.000000</td>\n",
       "      <td>57305.000000</td>\n",
       "      <td>57305.000000</td>\n",
       "      <td>57305.000000</td>\n",
       "      <td>57305.000000</td>\n",
       "      <td>57305.000000</td>\n",
       "      <td>57305.000000</td>\n",
       "      <td>57305.000000</td>\n",
       "      <td>57305.000000</td>\n",
       "      <td>57305.000000</td>\n",
       "      <td>57305.000000</td>\n",
       "      <td>57305.000000</td>\n",
       "      <td>57305.000000</td>\n",
       "      <td>57305.000000</td>\n",
       "      <td>57305.000000</td>\n",
       "      <td>57305.000000</td>\n",
       "      <td>57305.000000</td>\n",
       "      <td>57305.000000</td>\n",
       "      <td>57305.000000</td>\n",
       "      <td>57305.000000</td>\n",
       "      <td>57305.000000</td>\n",
       "      <td>57305.000000</td>\n",
       "      <td>57305.000000</td>\n",
       "      <td>57305.000000</td>\n",
       "      <td>57305.000000</td>\n",
       "    </tr>\n",
       "    <tr>\n",
       "      <th>mean</th>\n",
       "      <td>33755.583288</td>\n",
       "      <td>149970.809584</td>\n",
       "      <td>0.099261</td>\n",
       "      <td>64.430758</td>\n",
       "      <td>5.236836</td>\n",
       "      <td>0.151418</td>\n",
       "      <td>0.381810</td>\n",
       "      <td>0.267819</td>\n",
       "      <td>0.241045</td>\n",
       "      <td>0.156757</td>\n",
       "      <td>0.187756</td>\n",
       "      <td>0.235861</td>\n",
       "      <td>0.177233</td>\n",
       "      <td>0.138329</td>\n",
       "      <td>0.122777</td>\n",
       "      <td>12.106937</td>\n",
       "      <td>10.069802</td>\n",
       "      <td>10.005619</td>\n",
       "      <td>10.008010</td>\n",
       "      <td>10.005567</td>\n",
       "      <td>10.452282</td>\n",
       "      <td>9.988116</td>\n",
       "      <td>10.005689</td>\n",
       "      <td>10.081494</td>\n",
       "      <td>9.154524</td>\n",
       "      <td>10.616281</td>\n",
       "      <td>10.795184</td>\n",
       "      <td>11.023087</td>\n",
       "      <td>10.812704</td>\n",
       "      <td>10.394119</td>\n",
       "      <td>9.763843</td>\n",
       "      <td>8.550563</td>\n",
       "      <td>11.689730</td>\n",
       "      <td>11.200995</td>\n",
       "      <td>10.771905</td>\n",
       "      <td>11.043626</td>\n",
       "      <td>9.142448</td>\n",
       "      <td>2.661879</td>\n",
       "      <td>2.198482</td>\n",
       "      <td>1.615042</td>\n",
       "      <td>4.060606</td>\n",
       "      <td>4.572742</td>\n",
       "      <td>9.188954</td>\n",
       "      <td>4.672646</td>\n",
       "      <td>3.412721</td>\n",
       "      <td>0.729413</td>\n",
       "      <td>3.139482</td>\n",
       "      <td>3.214152</td>\n",
       "      <td>4.303743</td>\n",
       "      <td>7.368851</td>\n",
       "      <td>0.952604</td>\n",
       "      <td>3.285891</td>\n",
       "      <td>1.310584</td>\n",
       "      <td>1.951575</td>\n",
       "      <td>6.105052</td>\n",
       "      <td>0.811593</td>\n",
       "      <td>0.833540</td>\n",
       "      <td>0.350801</td>\n",
       "      <td>0.216018</td>\n",
       "      <td>0.225673</td>\n",
       "      <td>0.273800</td>\n",
       "      <td>0.399586</td>\n",
       "      <td>0.806873</td>\n",
       "      <td>0.405611</td>\n",
       "      <td>0.261551</td>\n",
       "      <td>0.058487</td>\n",
       "      <td>0.238493</td>\n",
       "      <td>0.243379</td>\n",
       "      <td>0.279529</td>\n",
       "      <td>0.605629</td>\n",
       "      <td>0.086224</td>\n",
       "      <td>0.307228</td>\n",
       "      <td>0.104655</td>\n",
       "      <td>0.118382</td>\n",
       "      <td>0.416595</td>\n",
       "    </tr>\n",
       "    <tr>\n",
       "      <th>std</th>\n",
       "      <td>28092.726225</td>\n",
       "      <td>28883.095213</td>\n",
       "      <td>0.299014</td>\n",
       "      <td>57.198347</td>\n",
       "      <td>10.113915</td>\n",
       "      <td>0.360623</td>\n",
       "      <td>0.582495</td>\n",
       "      <td>0.470856</td>\n",
       "      <td>0.431704</td>\n",
       "      <td>0.371963</td>\n",
       "      <td>0.393827</td>\n",
       "      <td>0.437234</td>\n",
       "      <td>0.384104</td>\n",
       "      <td>0.360383</td>\n",
       "      <td>0.339215</td>\n",
       "      <td>14.259859</td>\n",
       "      <td>11.859442</td>\n",
       "      <td>11.783244</td>\n",
       "      <td>11.786011</td>\n",
       "      <td>11.783184</td>\n",
       "      <td>12.981623</td>\n",
       "      <td>11.769617</td>\n",
       "      <td>11.783247</td>\n",
       "      <td>11.870873</td>\n",
       "      <td>19.383521</td>\n",
       "      <td>13.060470</td>\n",
       "      <td>13.195680</td>\n",
       "      <td>13.447473</td>\n",
       "      <td>13.160066</td>\n",
       "      <td>13.158389</td>\n",
       "      <td>13.032870</td>\n",
       "      <td>12.160094</td>\n",
       "      <td>14.261317</td>\n",
       "      <td>13.856028</td>\n",
       "      <td>13.123008</td>\n",
       "      <td>14.227432</td>\n",
       "      <td>11.790639</td>\n",
       "      <td>5.579006</td>\n",
       "      <td>4.747584</td>\n",
       "      <td>4.401809</td>\n",
       "      <td>10.031740</td>\n",
       "      <td>9.986848</td>\n",
       "      <td>11.800619</td>\n",
       "      <td>8.185210</td>\n",
       "      <td>8.617164</td>\n",
       "      <td>2.361057</td>\n",
       "      <td>6.106399</td>\n",
       "      <td>5.870068</td>\n",
       "      <td>9.427704</td>\n",
       "      <td>10.295676</td>\n",
       "      <td>2.333665</td>\n",
       "      <td>5.731314</td>\n",
       "      <td>2.658228</td>\n",
       "      <td>4.815333</td>\n",
       "      <td>10.988554</td>\n",
       "      <td>0.320891</td>\n",
       "      <td>0.302453</td>\n",
       "      <td>0.431055</td>\n",
       "      <td>0.301046</td>\n",
       "      <td>0.383428</td>\n",
       "      <td>0.349044</td>\n",
       "      <td>0.455942</td>\n",
       "      <td>0.339710</td>\n",
       "      <td>0.360920</td>\n",
       "      <td>0.338676</td>\n",
       "      <td>0.151993</td>\n",
       "      <td>0.298720</td>\n",
       "      <td>0.286536</td>\n",
       "      <td>0.392508</td>\n",
       "      <td>0.343125</td>\n",
       "      <td>0.173735</td>\n",
       "      <td>0.310155</td>\n",
       "      <td>0.179161</td>\n",
       "      <td>0.213524</td>\n",
       "      <td>0.405558</td>\n",
       "    </tr>\n",
       "    <tr>\n",
       "      <th>min</th>\n",
       "      <td>2.000000</td>\n",
       "      <td>100001.000000</td>\n",
       "      <td>0.000000</td>\n",
       "      <td>0.000000</td>\n",
       "      <td>0.000200</td>\n",
       "      <td>0.000000</td>\n",
       "      <td>0.000000</td>\n",
       "      <td>0.000000</td>\n",
       "      <td>0.000000</td>\n",
       "      <td>0.000000</td>\n",
       "      <td>0.000000</td>\n",
       "      <td>0.000000</td>\n",
       "      <td>0.000000</td>\n",
       "      <td>0.000000</td>\n",
       "      <td>0.000000</td>\n",
       "      <td>0.000000</td>\n",
       "      <td>0.000000</td>\n",
       "      <td>0.000000</td>\n",
       "      <td>0.000000</td>\n",
       "      <td>0.000000</td>\n",
       "      <td>0.000000</td>\n",
       "      <td>0.000000</td>\n",
       "      <td>0.000000</td>\n",
       "      <td>0.000000</td>\n",
       "      <td>0.000000</td>\n",
       "      <td>0.000000</td>\n",
       "      <td>0.000000</td>\n",
       "      <td>0.000000</td>\n",
       "      <td>0.000000</td>\n",
       "      <td>0.000000</td>\n",
       "      <td>0.000000</td>\n",
       "      <td>0.000000</td>\n",
       "      <td>0.000000</td>\n",
       "      <td>0.000000</td>\n",
       "      <td>0.000000</td>\n",
       "      <td>0.000000</td>\n",
       "      <td>0.000000</td>\n",
       "      <td>0.000000</td>\n",
       "      <td>0.000000</td>\n",
       "      <td>0.000000</td>\n",
       "      <td>0.000000</td>\n",
       "      <td>0.000000</td>\n",
       "      <td>0.000000</td>\n",
       "      <td>0.000000</td>\n",
       "      <td>0.000000</td>\n",
       "      <td>0.000000</td>\n",
       "      <td>0.000000</td>\n",
       "      <td>0.000000</td>\n",
       "      <td>0.000000</td>\n",
       "      <td>0.000000</td>\n",
       "      <td>0.000000</td>\n",
       "      <td>0.000000</td>\n",
       "      <td>0.000000</td>\n",
       "      <td>0.000000</td>\n",
       "      <td>0.000000</td>\n",
       "      <td>0.000000</td>\n",
       "      <td>0.000000</td>\n",
       "      <td>0.000000</td>\n",
       "      <td>0.000000</td>\n",
       "      <td>0.000000</td>\n",
       "      <td>0.000000</td>\n",
       "      <td>0.000000</td>\n",
       "      <td>0.000000</td>\n",
       "      <td>0.000000</td>\n",
       "      <td>0.000000</td>\n",
       "      <td>0.000000</td>\n",
       "      <td>0.000000</td>\n",
       "      <td>0.000000</td>\n",
       "      <td>0.000000</td>\n",
       "      <td>0.000000</td>\n",
       "      <td>0.000000</td>\n",
       "      <td>0.000000</td>\n",
       "      <td>0.000000</td>\n",
       "      <td>0.000000</td>\n",
       "      <td>0.000000</td>\n",
       "    </tr>\n",
       "    <tr>\n",
       "      <th>25%</th>\n",
       "      <td>11993.750000</td>\n",
       "      <td>124952.750000</td>\n",
       "      <td>0.000000</td>\n",
       "      <td>43.488676</td>\n",
       "      <td>1.122400</td>\n",
       "      <td>0.000000</td>\n",
       "      <td>0.000000</td>\n",
       "      <td>0.000000</td>\n",
       "      <td>0.000000</td>\n",
       "      <td>0.000000</td>\n",
       "      <td>0.000000</td>\n",
       "      <td>0.000000</td>\n",
       "      <td>0.000000</td>\n",
       "      <td>0.000000</td>\n",
       "      <td>0.000000</td>\n",
       "      <td>4.000000</td>\n",
       "      <td>4.000000</td>\n",
       "      <td>4.000000</td>\n",
       "      <td>4.000000</td>\n",
       "      <td>4.000000</td>\n",
       "      <td>4.000000</td>\n",
       "      <td>4.000000</td>\n",
       "      <td>4.000000</td>\n",
       "      <td>4.000000</td>\n",
       "      <td>0.000000</td>\n",
       "      <td>4.000000</td>\n",
       "      <td>4.000000</td>\n",
       "      <td>4.000000</td>\n",
       "      <td>4.000000</td>\n",
       "      <td>3.000000</td>\n",
       "      <td>3.000000</td>\n",
       "      <td>2.000000</td>\n",
       "      <td>4.000000</td>\n",
       "      <td>4.000000</td>\n",
       "      <td>4.000000</td>\n",
       "      <td>3.000000</td>\n",
       "      <td>2.000000</td>\n",
       "      <td>0.000000</td>\n",
       "      <td>0.000000</td>\n",
       "      <td>0.000000</td>\n",
       "      <td>0.000000</td>\n",
       "      <td>0.000000</td>\n",
       "      <td>3.000000</td>\n",
       "      <td>0.000000</td>\n",
       "      <td>0.000000</td>\n",
       "      <td>0.000000</td>\n",
       "      <td>0.000000</td>\n",
       "      <td>0.000000</td>\n",
       "      <td>0.000000</td>\n",
       "      <td>2.000000</td>\n",
       "      <td>0.000000</td>\n",
       "      <td>0.000000</td>\n",
       "      <td>0.000000</td>\n",
       "      <td>0.000000</td>\n",
       "      <td>0.000000</td>\n",
       "      <td>0.769231</td>\n",
       "      <td>0.800000</td>\n",
       "      <td>0.000000</td>\n",
       "      <td>0.000000</td>\n",
       "      <td>0.000000</td>\n",
       "      <td>0.000000</td>\n",
       "      <td>0.000000</td>\n",
       "      <td>0.785714</td>\n",
       "      <td>0.000000</td>\n",
       "      <td>0.000000</td>\n",
       "      <td>0.000000</td>\n",
       "      <td>0.000000</td>\n",
       "      <td>0.000000</td>\n",
       "      <td>0.000000</td>\n",
       "      <td>0.363636</td>\n",
       "      <td>0.000000</td>\n",
       "      <td>0.000000</td>\n",
       "      <td>0.000000</td>\n",
       "      <td>0.000000</td>\n",
       "      <td>0.000000</td>\n",
       "    </tr>\n",
       "    <tr>\n",
       "      <th>50%</th>\n",
       "      <td>24133.500000</td>\n",
       "      <td>149989.500000</td>\n",
       "      <td>0.000000</td>\n",
       "      <td>61.758090</td>\n",
       "      <td>2.149950</td>\n",
       "      <td>0.000000</td>\n",
       "      <td>0.000000</td>\n",
       "      <td>0.000000</td>\n",
       "      <td>0.000000</td>\n",
       "      <td>0.000000</td>\n",
       "      <td>0.000000</td>\n",
       "      <td>0.000000</td>\n",
       "      <td>0.000000</td>\n",
       "      <td>0.000000</td>\n",
       "      <td>0.000000</td>\n",
       "      <td>8.000000</td>\n",
       "      <td>7.000000</td>\n",
       "      <td>7.000000</td>\n",
       "      <td>7.000000</td>\n",
       "      <td>7.000000</td>\n",
       "      <td>7.000000</td>\n",
       "      <td>7.000000</td>\n",
       "      <td>7.000000</td>\n",
       "      <td>7.000000</td>\n",
       "      <td>2.000000</td>\n",
       "      <td>7.000000</td>\n",
       "      <td>7.000000</td>\n",
       "      <td>7.000000</td>\n",
       "      <td>7.000000</td>\n",
       "      <td>7.000000</td>\n",
       "      <td>6.000000</td>\n",
       "      <td>5.000000</td>\n",
       "      <td>8.000000</td>\n",
       "      <td>7.000000</td>\n",
       "      <td>7.000000</td>\n",
       "      <td>7.000000</td>\n",
       "      <td>6.000000</td>\n",
       "      <td>1.000000</td>\n",
       "      <td>1.000000</td>\n",
       "      <td>0.000000</td>\n",
       "      <td>1.000000</td>\n",
       "      <td>0.000000</td>\n",
       "      <td>6.000000</td>\n",
       "      <td>2.000000</td>\n",
       "      <td>0.000000</td>\n",
       "      <td>0.000000</td>\n",
       "      <td>1.000000</td>\n",
       "      <td>1.000000</td>\n",
       "      <td>0.000000</td>\n",
       "      <td>4.000000</td>\n",
       "      <td>0.000000</td>\n",
       "      <td>1.000000</td>\n",
       "      <td>0.000000</td>\n",
       "      <td>0.000000</td>\n",
       "      <td>2.000000</td>\n",
       "      <td>1.000000</td>\n",
       "      <td>1.000000</td>\n",
       "      <td>0.023256</td>\n",
       "      <td>0.050000</td>\n",
       "      <td>0.000000</td>\n",
       "      <td>0.071429</td>\n",
       "      <td>0.000000</td>\n",
       "      <td>1.000000</td>\n",
       "      <td>0.333333</td>\n",
       "      <td>0.000000</td>\n",
       "      <td>0.000000</td>\n",
       "      <td>0.125000</td>\n",
       "      <td>0.142857</td>\n",
       "      <td>0.000000</td>\n",
       "      <td>0.666667</td>\n",
       "      <td>0.000000</td>\n",
       "      <td>0.250000</td>\n",
       "      <td>0.000000</td>\n",
       "      <td>0.000000</td>\n",
       "      <td>0.333333</td>\n",
       "    </tr>\n",
       "    <tr>\n",
       "      <th>75%</th>\n",
       "      <td>53851.500000</td>\n",
       "      <td>174966.500000</td>\n",
       "      <td>0.000000</td>\n",
       "      <td>75.886325</td>\n",
       "      <td>4.877475</td>\n",
       "      <td>0.000000</td>\n",
       "      <td>1.000000</td>\n",
       "      <td>1.000000</td>\n",
       "      <td>0.000000</td>\n",
       "      <td>0.000000</td>\n",
       "      <td>0.000000</td>\n",
       "      <td>0.000000</td>\n",
       "      <td>0.000000</td>\n",
       "      <td>0.000000</td>\n",
       "      <td>0.000000</td>\n",
       "      <td>15.000000</td>\n",
       "      <td>12.000000</td>\n",
       "      <td>12.000000</td>\n",
       "      <td>12.000000</td>\n",
       "      <td>12.000000</td>\n",
       "      <td>12.000000</td>\n",
       "      <td>12.000000</td>\n",
       "      <td>12.000000</td>\n",
       "      <td>12.000000</td>\n",
       "      <td>10.000000</td>\n",
       "      <td>13.000000</td>\n",
       "      <td>13.000000</td>\n",
       "      <td>13.000000</td>\n",
       "      <td>13.000000</td>\n",
       "      <td>13.000000</td>\n",
       "      <td>12.000000</td>\n",
       "      <td>10.000000</td>\n",
       "      <td>14.000000</td>\n",
       "      <td>14.000000</td>\n",
       "      <td>13.000000</td>\n",
       "      <td>14.000000</td>\n",
       "      <td>11.000000</td>\n",
       "      <td>3.000000</td>\n",
       "      <td>3.000000</td>\n",
       "      <td>1.000000</td>\n",
       "      <td>5.000000</td>\n",
       "      <td>5.000000</td>\n",
       "      <td>11.000000</td>\n",
       "      <td>5.000000</td>\n",
       "      <td>3.000000</td>\n",
       "      <td>1.000000</td>\n",
       "      <td>4.000000</td>\n",
       "      <td>4.000000</td>\n",
       "      <td>5.000000</td>\n",
       "      <td>9.000000</td>\n",
       "      <td>1.000000</td>\n",
       "      <td>4.000000</td>\n",
       "      <td>2.000000</td>\n",
       "      <td>2.000000</td>\n",
       "      <td>8.000000</td>\n",
       "      <td>1.000000</td>\n",
       "      <td>1.000000</td>\n",
       "      <td>0.956522</td>\n",
       "      <td>0.333333</td>\n",
       "      <td>0.300000</td>\n",
       "      <td>0.500000</td>\n",
       "      <td>1.000000</td>\n",
       "      <td>1.000000</td>\n",
       "      <td>0.714286</td>\n",
       "      <td>0.500000</td>\n",
       "      <td>0.017241</td>\n",
       "      <td>0.391304</td>\n",
       "      <td>0.400000</td>\n",
       "      <td>0.560000</td>\n",
       "      <td>0.900000</td>\n",
       "      <td>0.111111</td>\n",
       "      <td>0.500000</td>\n",
       "      <td>0.142857</td>\n",
       "      <td>0.166667</td>\n",
       "      <td>0.857143</td>\n",
       "    </tr>\n",
       "    <tr>\n",
       "      <th>max</th>\n",
       "      <td>99999.000000</td>\n",
       "      <td>199999.000000</td>\n",
       "      <td>1.000000</td>\n",
       "      <td>311.554200</td>\n",
       "      <td>260.708900</td>\n",
       "      <td>3.000000</td>\n",
       "      <td>10.000000</td>\n",
       "      <td>6.000000</td>\n",
       "      <td>4.000000</td>\n",
       "      <td>3.000000</td>\n",
       "      <td>3.000000</td>\n",
       "      <td>4.000000</td>\n",
       "      <td>4.000000</td>\n",
       "      <td>3.000000</td>\n",
       "      <td>3.000000</td>\n",
       "      <td>348.000000</td>\n",
       "      <td>319.000000</td>\n",
       "      <td>319.000000</td>\n",
       "      <td>319.000000</td>\n",
       "      <td>319.000000</td>\n",
       "      <td>362.000000</td>\n",
       "      <td>319.000000</td>\n",
       "      <td>319.000000</td>\n",
       "      <td>319.000000</td>\n",
       "      <td>607.000000</td>\n",
       "      <td>347.000000</td>\n",
       "      <td>347.000000</td>\n",
       "      <td>347.000000</td>\n",
       "      <td>351.000000</td>\n",
       "      <td>356.000000</td>\n",
       "      <td>376.000000</td>\n",
       "      <td>362.000000</td>\n",
       "      <td>402.000000</td>\n",
       "      <td>351.000000</td>\n",
       "      <td>350.000000</td>\n",
       "      <td>344.000000</td>\n",
       "      <td>318.000000</td>\n",
       "      <td>126.000000</td>\n",
       "      <td>171.000000</td>\n",
       "      <td>103.000000</td>\n",
       "      <td>362.000000</td>\n",
       "      <td>244.000000</td>\n",
       "      <td>316.000000</td>\n",
       "      <td>207.000000</td>\n",
       "      <td>287.000000</td>\n",
       "      <td>81.000000</td>\n",
       "      <td>225.000000</td>\n",
       "      <td>112.000000</td>\n",
       "      <td>168.000000</td>\n",
       "      <td>287.000000</td>\n",
       "      <td>50.000000</td>\n",
       "      <td>134.000000</td>\n",
       "      <td>66.000000</td>\n",
       "      <td>108.000000</td>\n",
       "      <td>319.000000</td>\n",
       "      <td>1.000000</td>\n",
       "      <td>1.000000</td>\n",
       "      <td>1.000000</td>\n",
       "      <td>1.000000</td>\n",
       "      <td>1.000000</td>\n",
       "      <td>1.000000</td>\n",
       "      <td>1.000000</td>\n",
       "      <td>1.000000</td>\n",
       "      <td>1.000000</td>\n",
       "      <td>1.000000</td>\n",
       "      <td>1.000000</td>\n",
       "      <td>1.000000</td>\n",
       "      <td>1.000000</td>\n",
       "      <td>1.000000</td>\n",
       "      <td>1.000000</td>\n",
       "      <td>1.000000</td>\n",
       "      <td>1.000000</td>\n",
       "      <td>1.000000</td>\n",
       "      <td>1.000000</td>\n",
       "      <td>1.000000</td>\n",
       "    </tr>\n",
       "  </tbody>\n",
       "</table>\n",
       "</div>"
      ],
      "text/plain": [
       "         SUBJECT_ID        HADM_ID  ...  PROP_ITEMID_50983  PROP_ITEMID_51006\n",
       "count  58976.000000   58976.000000  ...       57305.000000       57305.000000\n",
       "mean   33755.583288  149970.809584  ...           0.118382           0.416595\n",
       "std    28092.726225   28883.095213  ...           0.213524           0.405558\n",
       "min        2.000000  100001.000000  ...           0.000000           0.000000\n",
       "25%    11993.750000  124952.750000  ...           0.000000           0.000000\n",
       "50%    24133.500000  149989.500000  ...           0.000000           0.333333\n",
       "75%    53851.500000  174966.500000  ...           0.166667           0.857143\n",
       "max    99999.000000  199999.000000  ...           1.000000           1.000000\n",
       "\n",
       "[8 rows x 75 columns]"
      ]
     },
     "execution_count": 10,
     "metadata": {},
     "output_type": "execute_result"
    }
   ],
   "source": [
    "dat.describe()"
   ]
  },
  {
   "cell_type": "markdown",
   "metadata": {
    "id": "nuxixiKIn8QP"
   },
   "source": [
    "### AGE \n",
    "\n",
    "To protect patients' privacy, patients who are older than a certain ago is coded by a really large number like 300. Therefore, we would like identify these patients and encode the patients' age by a more reasonable number. "
   ]
  },
  {
   "cell_type": "code",
   "execution_count": 5,
   "metadata": {
    "id": "VqVfotfSfliH"
   },
   "outputs": [],
   "source": [
    "# AGE_ON_AD is a float, which doesn't really make sense for age\n",
    "# We want to ignore everything that's after the decimal point\n",
    "\n",
    "age = dat.AGE_ON_AD.astype(str).str.split(\".\", expand=True)[[0]]\n",
    "age = age.astype(int)"
   ]
  },
  {
   "cell_type": "code",
   "execution_count": 6,
   "metadata": {
    "id": "J_PydAsuley6"
   },
   "outputs": [],
   "source": [
    "# We see that the oldest real age is 89\n",
    "np.sort(age[0][age[0] < 100].unique())\n",
    "\n",
    "# So we want to set everything greater than 89 years old as 90\n",
    "# And saves this back to the dataframe\n",
    "dat[\"age\"] = np.where(age[0] > 89, 90, age[0])"
   ]
  },
  {
   "cell_type": "markdown",
   "metadata": {
    "id": "HiL1jxFHqgqa"
   },
   "source": [
    "### GENDER"
   ]
  },
  {
   "cell_type": "code",
   "execution_count": 7,
   "metadata": {
    "id": "3YLV9EE_qf55"
   },
   "outputs": [],
   "source": [
    "le = LabelEncoder()"
   ]
  },
  {
   "cell_type": "code",
   "execution_count": 8,
   "metadata": {
    "id": "hJ_GdKSmrEl5"
   },
   "outputs": [],
   "source": [
    "dat[\"gender\"] = le.fit_transform(dat.GENDER)"
   ]
  },
  {
   "cell_type": "markdown",
   "metadata": {
    "id": "sdOv--sYpgTt"
   },
   "source": [
    "### Ethnicity\n",
    "\n",
    "The Ethicity feature is very granular. One potential improvement is to group some of the ethinicity together to reduce overfitting."
   ]
  },
  {
   "cell_type": "code",
   "execution_count": 9,
   "metadata": {
    "id": "hjRnWgRDu4Ar"
   },
   "outputs": [],
   "source": [
    "dat[\"ethnicity\"] = le.fit_transform(dat.ETHNICITY)"
   ]
  },
  {
   "cell_type": "code",
   "execution_count": null,
   "metadata": {
    "colab": {
     "base_uri": "https://localhost:8080/"
    },
    "id": "ZO4AgbLrplxC",
    "outputId": "685f7826-f885-4e09-ec26-46312da946b4"
   },
   "outputs": [
    {
     "data": {
      "text/plain": [
       "array(['WHITE', 'UNKNOWN/NOT SPECIFIED', 'MULTI RACE ETHNICITY',\n",
       "       'BLACK/AFRICAN AMERICAN', 'HISPANIC OR LATINO',\n",
       "       'PATIENT DECLINED TO ANSWER', 'ASIAN', 'OTHER',\n",
       "       'HISPANIC/LATINO - GUATEMALAN', 'ASIAN - VIETNAMESE',\n",
       "       'AMERICAN INDIAN/ALASKA NATIVE', 'WHITE - RUSSIAN',\n",
       "       'HISPANIC/LATINO - PUERTO RICAN', 'ASIAN - CHINESE',\n",
       "       'ASIAN - ASIAN INDIAN', 'BLACK/AFRICAN',\n",
       "       'HISPANIC/LATINO - SALVADORAN', 'HISPANIC/LATINO - DOMINICAN',\n",
       "       'UNABLE TO OBTAIN', 'BLACK/CAPE VERDEAN', 'BLACK/HAITIAN',\n",
       "       'WHITE - OTHER EUROPEAN', 'PORTUGUESE', 'SOUTH AMERICAN',\n",
       "       'WHITE - EASTERN EUROPEAN', 'CARIBBEAN ISLAND', 'ASIAN - FILIPINO',\n",
       "       'ASIAN - CAMBODIAN', 'HISPANIC/LATINO - CENTRAL AMERICAN (OTHER)',\n",
       "       'WHITE - BRAZILIAN', 'ASIAN - KOREAN',\n",
       "       'HISPANIC/LATINO - COLOMBIAN', 'ASIAN - JAPANESE',\n",
       "       'NATIVE HAWAIIAN OR OTHER PACIFIC ISLANDER', 'ASIAN - THAI',\n",
       "       'HISPANIC/LATINO - HONDURAN', 'HISPANIC/LATINO - CUBAN',\n",
       "       'MIDDLE EASTERN', 'ASIAN - OTHER', 'HISPANIC/LATINO - MEXICAN',\n",
       "       'AMERICAN INDIAN/ALASKA NATIVE FEDERALLY RECOGNIZED TRIBE'],\n",
       "      dtype=object)"
      ]
     },
     "execution_count": 16,
     "metadata": {},
     "output_type": "execute_result"
    }
   ],
   "source": [
    "dat.ETHNICITY.unique()"
   ]
  },
  {
   "cell_type": "code",
   "execution_count": 10,
   "metadata": {
    "id": "dOHxXJfbvMV2"
   },
   "outputs": [],
   "source": [
    "features_li = ['age', 'gender', 'ethnicity','ICU_STAY_DAYS', 'MULTI_ENTRY_ICU', \n",
    "               'ICD9_9955','ICD9_3893', 'ICD9_9604', 'ICD9_966', 'ICD9_9672', 'ICD9_9904', 'ICD9_9671', 'ICD9_3961', 'ICD9_8856', 'ICD9_3891',\n",
    "               'PROP_ITEMID_51221', 'PROP_ITEMID_51222',\n",
    "                'PROP_ITEMID_51248', 'PROP_ITEMID_51249', 'PROP_ITEMID_51250',\n",
    "                'PROP_ITEMID_51265', 'PROP_ITEMID_51277', 'PROP_ITEMID_51279',\n",
    "                'PROP_ITEMID_51301', 'PROP_ITEMID_50820', 'PROP_ITEMID_50868',\n",
    "                'PROP_ITEMID_50882', 'PROP_ITEMID_50902', 'PROP_ITEMID_50912',\n",
    "                'PROP_ITEMID_50931', 'PROP_ITEMID_50960', 'PROP_ITEMID_50970',\n",
    "                'PROP_ITEMID_50971', 'PROP_ITEMID_50983', 'PROP_ITEMID_51006']\n",
    "X = dat[features_li]\n",
    "y = dat['HOSPITAL_EXPIRE_FLAG']"
   ]
  },
  {
   "cell_type": "markdown",
   "metadata": {
    "id": "tdsqY7_mwlq8"
   },
   "source": [
    "### Missing values\n",
    "\n",
    "method: fill with 0"
   ]
  },
  {
   "cell_type": "code",
   "execution_count": 75,
   "metadata": {
    "colab": {
     "base_uri": "https://localhost:8080/"
    },
    "id": "ztvuRtvBv_kz",
    "outputId": "b266d52d-692b-4ea9-b1e5-f728d01ce985"
   },
   "outputs": [
    {
     "data": {
      "text/plain": [
       "age                  0\n",
       "gender               0\n",
       "ethnicity            0\n",
       "ICU_STAY_DAYS        0\n",
       "MULTI_ENTRY_ICU      0\n",
       "ICD9_9955            0\n",
       "ICD9_3893            0\n",
       "ICD9_9604            0\n",
       "ICD9_966             0\n",
       "ICD9_9672            0\n",
       "ICD9_9904            0\n",
       "ICD9_9671            0\n",
       "ICD9_3961            0\n",
       "ICD9_8856            0\n",
       "ICD9_3891            0\n",
       "PROP_ITEMID_51221    0\n",
       "PROP_ITEMID_51222    0\n",
       "PROP_ITEMID_51248    0\n",
       "PROP_ITEMID_51249    0\n",
       "PROP_ITEMID_51250    0\n",
       "PROP_ITEMID_51265    0\n",
       "PROP_ITEMID_51277    0\n",
       "PROP_ITEMID_51279    0\n",
       "PROP_ITEMID_51301    0\n",
       "PROP_ITEMID_50820    0\n",
       "PROP_ITEMID_50868    0\n",
       "PROP_ITEMID_50882    0\n",
       "PROP_ITEMID_50902    0\n",
       "PROP_ITEMID_50912    0\n",
       "PROP_ITEMID_50931    0\n",
       "PROP_ITEMID_50960    0\n",
       "PROP_ITEMID_50970    0\n",
       "PROP_ITEMID_50971    0\n",
       "PROP_ITEMID_50983    0\n",
       "PROP_ITEMID_51006    0\n",
       "dtype: int64"
      ]
     },
     "execution_count": 75,
     "metadata": {},
     "output_type": "execute_result"
    }
   ],
   "source": [
    "# Check the number of missing values in each column\n",
    "X.isna().sum(axis = 0)"
   ]
  },
  {
   "cell_type": "code",
   "execution_count": 11,
   "metadata": {
    "id": "we7RzzPSwTeW"
   },
   "outputs": [],
   "source": [
    "# fill NAs with 0\n",
    "X = X.fillna(0)"
   ]
  },
  {
   "cell_type": "markdown",
   "metadata": {
    "id": "ZvLnOzCpxsVC"
   },
   "source": [
    "## Train Dev test split"
   ]
  },
  {
   "cell_type": "code",
   "execution_count": 24,
   "metadata": {
    "id": "OEsbBxWIw-DL"
   },
   "outputs": [],
   "source": [
    "trainX, devX, trainy, devy = train_test_split(X, y, test_size=0.2, random_state=12)\n"
   ]
  },
  {
   "cell_type": "markdown",
   "metadata": {
    "id": "fcVQvAunzhrQ"
   },
   "source": []
  },
  {
   "cell_type": "code",
   "execution_count": 25,
   "metadata": {
    "colab": {
     "base_uri": "https://localhost:8080/"
    },
    "id": "b74iuoQsynjh",
    "outputId": "2c6ceaa7-24e4-4056-93ac-df7f3fd86261"
   },
   "outputs": [
    {
     "name": "stdout",
     "output_type": "stream",
     "text": [
      "Train data set size: (47180, 35).\n",
      "Test data set size: (11796, 35).\n"
     ]
    }
   ],
   "source": [
    "print(f\"Train data set size: {trainX.shape}.\")\n",
    "print(f\"Test data set size: {devX.shape}.\")"
   ]
  },
  {
   "cell_type": "markdown",
   "metadata": {
    "id": "UUOjJSMkzfk5"
   },
   "source": [
    "## Scaling"
   ]
  },
  {
   "cell_type": "code",
   "execution_count": 26,
   "metadata": {
    "id": "vXZCCkMLzSzR"
   },
   "outputs": [],
   "source": [
    "# features need to be normalized\n",
    "\n",
    "features_norm = ['ICU_STAY_DAYS','ICD9_9955','ICD9_3893', 'ICD9_9604', 'ICD9_966',\n",
    "                 'ICD9_9672', 'ICD9_9904', 'ICD9_9671', 'ICD9_3961', 'ICD9_8856', 'ICD9_3891',\n",
    "                 'PROP_ITEMID_51221', 'PROP_ITEMID_51222',\n",
    "                 'PROP_ITEMID_51248', 'PROP_ITEMID_51249', 'PROP_ITEMID_51250',\n",
    "                 'PROP_ITEMID_51265', 'PROP_ITEMID_51277', 'PROP_ITEMID_51279',\n",
    "                 'PROP_ITEMID_51301', 'PROP_ITEMID_50820', 'PROP_ITEMID_50868',\n",
    "                 'PROP_ITEMID_50882', 'PROP_ITEMID_50902', 'PROP_ITEMID_50912',\n",
    "                 'PROP_ITEMID_50931', 'PROP_ITEMID_50960', 'PROP_ITEMID_50970',\n",
    "                 'PROP_ITEMID_50971', 'PROP_ITEMID_50983', 'PROP_ITEMID_51006']\n",
    "\n"
   ]
  },
  {
   "cell_type": "code",
   "execution_count": 27,
   "metadata": {
    "id": "hwP7vzSm2-du"
   },
   "outputs": [],
   "source": [
    "scaler = StandardScaler()\n",
    "\n",
    "trainX = scaler.fit_transform(trainX)\n",
    "devX = scaler.fit_transform(devX)"
   ]
  },
  {
   "cell_type": "markdown",
   "metadata": {
    "id": "dxN73WNx61j8"
   },
   "source": [
    "## MLP Classifier "
   ]
  },
  {
   "cell_type": "code",
   "execution_count": 28,
   "metadata": {
    "colab": {
     "base_uri": "https://localhost:8080/"
    },
    "id": "F-z3zYNs6hC0",
    "outputId": "a33990a8-d853-42b1-d180-6fca38e6ea52"
   },
   "outputs": [
    {
     "name": "stderr",
     "output_type": "stream",
     "text": [
      "/usr/local/lib/python3.7/dist-packages/sklearn/neural_network/_multilayer_perceptron.py:699: UserWarning: Training interrupted by user.\n",
      "  warnings.warn(\"Training interrupted by user.\")\n"
     ]
    },
    {
     "data": {
      "text/plain": [
       "MLPClassifier(hidden_layer_sizes=(150, 100), max_iter=500, random_state=1)"
      ]
     },
     "execution_count": 28,
     "metadata": {},
     "output_type": "execute_result"
    }
   ],
   "source": [
    "classifier = MLPClassifier(hidden_layer_sizes=(150,100), max_iter=500,activation = 'relu',solver='adam',random_state=1)\n",
    "classifier.fit(trainX, trainy)\n"
   ]
  },
  {
   "cell_type": "code",
   "execution_count": null,
   "metadata": {
    "id": "2sOAMutBEWj9"
   },
   "outputs": [],
   "source": [
    "from sklearn.model_selection import PredefinedSplit"
   ]
  },
  {
   "cell_type": "code",
   "execution_count": null,
   "metadata": {
    "colab": {
     "base_uri": "https://localhost:8080/"
    },
    "id": "T1lkslrwCDCB",
    "outputId": "c9082139-1f32-4671-e1c9-4e38e4bc49f0"
   },
   "outputs": [
    {
     "name": "stdout",
     "output_type": "stream",
     "text": [
      "Fitting 2 folds for each of 72 candidates, totalling 144 fits\n"
     ]
    },
    {
     "data": {
      "text/plain": [
       "GridSearchCV(cv=2,\n",
       "             estimator=MLPClassifier(hidden_layer_sizes=(150, 100),\n",
       "                                     max_iter=500, random_state=1),\n",
       "             n_jobs=-1,\n",
       "             param_grid={'activation': ['tanh', 'relu'],\n",
       "                         'alpha': [0.0001, 0.05], 'batch_size': [64, 128, 256],\n",
       "                         'hidden_layer_sizes': [(30, 30, 30), (100, 100, 100),\n",
       "                                                (150, 150)],\n",
       "                         'learning_rate': ['constant', 'adaptive']},\n",
       "             scoring='roc_auc', verbose=4)"
      ]
     },
     "execution_count": 34,
     "metadata": {},
     "output_type": "execute_result"
    }
   ],
   "source": [
    "parameter_space = {\n",
    "    'hidden_layer_sizes': [(30, 30, 30),(100, 100, 100), (150, 150)],\n",
    "    'activation': ['tanh', 'relu'],\n",
    "    'alpha': [0.0001, 0.05],\n",
    "    'learning_rate': ['constant','adaptive'],\n",
    "    'batch_size': [64, 128, 256]\n",
    "}\n",
    "clf = GridSearchCV(classifier, parameter_space, n_jobs=-1, cv=2, scoring='roc_auc', verbose=4)\n",
    "clf.fit(trainX, trainy)"
   ]
  },
  {
   "cell_type": "code",
   "execution_count": null,
   "metadata": {
    "id": "Z0tzm6_4ZPdW"
   },
   "outputs": [],
   "source": [
    "import joblib"
   ]
  },
  {
   "cell_type": "code",
   "execution_count": null,
   "metadata": {
    "colab": {
     "base_uri": "https://localhost:8080/"
    },
    "id": "1KshaXqP8Y3f",
    "outputId": "e2337d56-bc02-4a53-a82b-997652ab8fa1"
   },
   "outputs": [
    {
     "data": {
      "text/plain": [
       "0.9055029343579268"
      ]
     },
     "execution_count": 35,
     "metadata": {},
     "output_type": "execute_result"
    }
   ],
   "source": [
    "clf.best_score_"
   ]
  },
  {
   "cell_type": "code",
   "execution_count": null,
   "metadata": {
    "colab": {
     "base_uri": "https://localhost:8080/"
    },
    "id": "Qh2TOtVuZS07",
    "outputId": "34379777-c2f5-4a17-db52-29774ce3c5d0"
   },
   "outputs": [
    {
     "data": {
      "text/plain": [
       "['/content/drive/MyDrive/BIOS823/BIOS823 Final Project/best_clf_21.pkl']"
      ]
     },
     "execution_count": 43,
     "metadata": {},
     "output_type": "execute_result"
    }
   ],
   "source": [
    "joblib.dump(clf, '/content/drive/MyDrive/BIOS823/BIOS823 Final Project/clf_21.pkl')\n",
    "joblib.dump(clf.best_estimator_, '/content/drive/MyDrive/BIOS823/BIOS823 Final Project/best_clf_21.pkl')"
   ]
  },
  {
   "cell_type": "code",
   "execution_count": null,
   "metadata": {
    "colab": {
     "base_uri": "https://localhost:8080/"
    },
    "id": "xMeLyy28Y2Ai",
    "outputId": "56dc5671-76d6-490b-b0c5-6d73dcf72897"
   },
   "outputs": [
    {
     "data": {
      "text/plain": [
       "MLPClassifier(activation='tanh', alpha=0.05, batch_size=64,\n",
       "              hidden_layer_sizes=(150, 150), max_iter=500, random_state=1)"
      ]
     },
     "execution_count": 39,
     "metadata": {},
     "output_type": "execute_result"
    }
   ],
   "source": [
    "clf.best_estimator_"
   ]
  },
  {
   "cell_type": "code",
   "execution_count": null,
   "metadata": {
    "colab": {
     "base_uri": "https://localhost:8080/"
    },
    "id": "p8l-gQ-xY5sv",
    "outputId": "13316033-1be0-471c-c617-bc9b0f95eeeb"
   },
   "outputs": [
    {
     "data": {
      "text/plain": [
       "{'activation': 'tanh',\n",
       " 'alpha': 0.05,\n",
       " 'batch_size': 64,\n",
       " 'hidden_layer_sizes': (150, 150),\n",
       " 'learning_rate': 'constant'}"
      ]
     },
     "execution_count": 40,
     "metadata": {},
     "output_type": "execute_result"
    }
   ],
   "source": [
    "clf.best_params_"
   ]
  },
  {
   "cell_type": "code",
   "execution_count": null,
   "metadata": {
    "colab": {
     "base_uri": "https://localhost:8080/"
    },
    "id": "Ftz0GSS49IPp",
    "outputId": "1dff041a-635c-4854-f749-9bd3215e33fe"
   },
   "outputs": [
    {
     "data": {
      "text/plain": [
       "array([[5181,  328],\n",
       "       [ 102,  287]])"
      ]
     },
     "execution_count": 37,
     "metadata": {},
     "output_type": "execute_result"
    }
   ],
   "source": [
    " confusion_matrix(devy_pred, devy)"
   ]
  },
  {
   "cell_type": "code",
   "execution_count": null,
   "metadata": {
    "colab": {
     "base_uri": "https://localhost:8080/"
    },
    "id": "A7SVvZXG9MoB",
    "outputId": "a24ae92d-6ff2-4709-eb49-493db137820f"
   },
   "outputs": [
    {
     "data": {
      "text/plain": [
       "0.8391251333993777"
      ]
     },
     "execution_count": 38,
     "metadata": {},
     "output_type": "execute_result"
    }
   ],
   "source": [
    "roc_auc_score(devy_pred, devy)"
   ]
  },
  {
   "cell_type": "code",
   "execution_count": 22,
   "metadata": {
    "id": "x2fZ2yQo_Ki5"
   },
   "outputs": [],
   "source": [
    "best_clf = joblib.load(\"/content/drive/MyDrive/BIOS823/BIOS823 Final Project/best_clf_21.pkl\")"
   ]
  },
  {
   "cell_type": "code",
   "execution_count": 30,
   "metadata": {
    "colab": {
     "base_uri": "https://localhost:8080/"
    },
    "id": "P4xJIRzHZ9D1",
    "outputId": "dc895aea-e7fb-4e82-9a6f-64e786329128"
   },
   "outputs": [
    {
     "data": {
      "text/plain": [
       "0.7105518151646653"
      ]
     },
     "execution_count": 30,
     "metadata": {},
     "output_type": "execute_result"
    }
   ],
   "source": [
    "devy_pred = best_clf.predict(devX)\n",
    "roc_auc_score(devy, devy_pred)"
   ]
  },
  {
   "cell_type": "code",
   "execution_count": 39,
   "metadata": {
    "colab": {
     "base_uri": "https://localhost:8080/",
     "height": 324
    },
    "id": "TDnh6M75JksF",
    "outputId": "15b9663d-989c-4885-a386-7c96e7aeed6b"
   },
   "outputs": [
    {
     "data": {
      "image/png": "[encoded data removed]",
      "text/plain": [
       "<Figure size 432x288 with 2 Axes>"
      ]
     },
     "metadata": {
      "needs_background": "light"
     },
     "output_type": "display_data"
    }
   ],
   "source": [
    "cnf_matrix = confusion_matrix(devy, devy_pred)\n",
    "class_names=[0,1] # name  of classes\n",
    "fig, ax = plt.subplots()\n",
    "tick_marks = np.arange(len(class_names))\n",
    "plt.xticks(tick_marks, class_names)\n",
    "plt.yticks(tick_marks, class_names)\n",
    "# create heatmap\n",
    "sns.heatmap(pd.DataFrame(cnf_matrix), annot=True, cmap=\"YlGnBu\" ,fmt='g')\n",
    "ax.xaxis.set_label_position(\"top\")\n",
    "plt.tight_layout()\n",
    "plt.title('Confusion matrix', y=1.1)\n",
    "plt.ylabel('Actual label')\n",
    "plt.xlabel('Predicted label');"
   ]
  },
  {
   "cell_type": "code",
   "execution_count": 46,
   "metadata": {
    "colab": {
     "base_uri": "https://localhost:8080/"
    },
    "id": "Z2pHCAHlhOqs",
    "outputId": "3c95de7b-76f4-4075-ae07-1d0f02ba77d2"
   },
   "outputs": [
    {
     "name": "stdout",
     "output_type": "stream",
     "text": [
      "Accuracy: 0.9242115971515769\n",
      "Precision: 0.7127659574468085\n",
      "Recall: 0.4415156507413509\n",
      "              precision    recall  f1-score   support\n",
      "\n",
      "           0       0.94      0.98      0.96     10582\n",
      "           1       0.71      0.44      0.55      1214\n",
      "\n",
      "    accuracy                           0.92     11796\n",
      "   macro avg       0.83      0.71      0.75     11796\n",
      "weighted avg       0.92      0.92      0.92     11796\n",
      "\n"
     ]
    }
   ],
   "source": [
    "print(\"Accuracy:\", accuracy_score(devy, devy_pred))\n",
    "print(\"Precision:\", precision_score(devy, devy_pred))\n",
    "print(\"Recall:\", recall_score(devy, devy_pred))\n",
    "print(classification_report(devy, devy_pred))\n",
    "# print(accuracy_score(devy, devy_pred))"
   ]
  },
  {
   "cell_type": "markdown",
   "metadata": {
    "id": "WHghJ5_piWRt"
   },
   "source": [
    "## Partial Dependency Plot\n",
    "\n",
    "The top 5 important factors. 0 stands for the mean and the risk increases with the variables."
   ]
  },
  {
   "cell_type": "code",
   "execution_count": 48,
   "metadata": {
    "id": "Pf6yrPwahrwM"
   },
   "outputs": [],
   "source": [
    "from sklearn.inspection import PartialDependenceDisplay"
   ]
  },
  {
   "cell_type": "code",
   "execution_count": 70,
   "metadata": {
    "id": "vztiiJHcihve"
   },
   "outputs": [],
   "source": [
    "important_features = [\"PROP_ITEMID_51006\", \"PROP_ITEMID_51301\", \"age\", \"ICU_STAY_DAYS\", \"PROP_ITEMID_50882\"]\n"
   ]
  },
  {
   "cell_type": "code",
   "execution_count": 72,
   "metadata": {
    "id": "uppwCNfpmQAO"
   },
   "outputs": [],
   "source": [
    "idx = [np.where(X.columns == name) for name in important_features]"
   ]
  },
  {
   "cell_type": "code",
   "execution_count": 74,
   "metadata": {
    "colab": {
     "base_uri": "https://localhost:8080/",
     "height": 1000
    },
    "id": "ClLOnzyyij2_",
    "outputId": "2648cf7d-e353-4621-e61f-d90221a299b3"
   },
   "outputs": [
    {
     "data": {
      "image/png": "[encoded data removed]",
      "text/plain": [
       "<Figure size 432x288 with 2 Axes>"
      ]
     },
     "metadata": {
      "needs_background": "light"
     },
     "output_type": "display_data"
    },
    {
     "data": {
      "image/png": "[encoded data removed]",
      "text/plain": [
       "<Figure size 432x288 with 2 Axes>"
      ]
     },
     "metadata": {
      "needs_background": "light"
     },
     "output_type": "display_data"
    },
    {
     "data": {
      "image/png": "[encoded data removed]",
      "text/plain": [
       "<Figure size 432x288 with 2 Axes>"
      ]
     },
     "metadata": {
      "needs_background": "light"
     },
     "output_type": "display_data"
    },
    {
     "data": {
      "image/png": "[encoded data removed]",
      "text/plain": [
       "<Figure size 432x288 with 2 Axes>"
      ]
     },
     "metadata": {
      "needs_background": "light"
     },
     "output_type": "display_data"
    },
    {
     "data": {
      "image/png": "[encoded data removed]",
      "text/plain": [
       "<Figure size 432x288 with 2 Axes>"
      ]
     },
     "metadata": {
      "needs_background": "light"
     },
     "output_type": "display_data"
    }
   ],
   "source": [
    "for i in idx:\n",
    "\n",
    "  PartialDependenceDisplay.from_estimator(best_clf, trainX, features = i, feature_names=X.columns);"
   ]
  },
  {
   "cell_type": "markdown",
   "metadata": {},
   "source": [
    "# 5. Individual contributions\n",
    "\n",
    "Lucsa Zhang cleaned and prepared the data, derived the defition of the variables of interests, combined the results and wrote the documentation. Ashley Hu trained the logistic regerssion model, constructed random forest model and tuned its hyperparameters, and interpreted results of these models. Betty Wu constructed the deep learning model, tuned its hyperparameters and interpreted the results. All three team members participated in the drafting and polishing the final report.\n",
    "\n",
    "Refelection from Betty: Through this project, I learned and honed in on data wrangling skills and developing a machine learning model. More specifically, the MIMIC data consists of several smaller datasets with different sets of features. One of the challenges we faced as a team was understanding the context and relationship between datasets. Learning to understand, wrangle, and clean the complexity surround the data was an important lesson that I learned. Furthermore, from the project, I gained valuable experience training, evaluating, and tuning a multilayer perceptron model. Besides technical skills, I also learned how to work with teammates from different academic backgrounds. Since our team is diverse, I was able to learn from my teammates and leverage our expertise in different areas.\n",
    "\n",
    "Refelection from Ashley: In this project I learned how modeling works in dealing with real life problem. My main responsibility for this project is to train a logistic regression model and a random forest model. In doing the random forest model, I used hyperparameter tuning to perform a grid search to find the proper parameter to build the random forest model. We also used the scoring = roc_auc to select the parameters that gives the highest auc score. My team members helped me a lot in building these two models. We had regular weekly meetings to discuss about our progress and make the process went smoothly."
   ]
  },
  {
   "cell_type": "code",
   "execution_count": null,
   "metadata": {},
   "outputs": [],
   "source": []
  }
 ],
 "metadata": {
  "kernelspec": {
   "display_name": "Python 3",
   "language": "python",
   "name": "python3"
  },
  "language_info": {
   "codemirror_mode": {
    "name": "ipython",
    "version": 3
   },
   "file_extension": ".py",
   "mimetype": "text/x-python",
   "name": "python",
   "nbconvert_exporter": "python",
   "pygments_lexer": "ipython3",
   "version": "3.7.9"
  }
 },
 "nbformat": 4,
 "nbformat_minor": 4
}
