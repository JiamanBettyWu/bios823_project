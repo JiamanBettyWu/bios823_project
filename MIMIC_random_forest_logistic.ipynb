{
 "cells": [
  {
   "cell_type": "markdown",
   "metadata": {},
   "source": [
    "Build logistic regression model and random forest model to predict whether a patient dies after admitted into ICU.\n",
    "\n",
    "ICD9 diagnosis:\n",
    "3961\tExtracorporeal circulat\n",
    "3891\tArterial catheterization\t\n",
    "3893\tVenous cath NEC\t\n",
    "8856\tCoronar arteriogr-2 cath\t\n",
    "9604\tInsert endotracheal tube\t\n",
    "966\t    Entral infus nutrit sub\t\n",
    "9671\tCont inv mec ven <96 hrs\t\n",
    "9672\tCont inv mec ven 96+ hrs\t\n",
    "9904\tPacked cell transfusion\t\n",
    "9955\tVaccination NEC\n",
    "\n",
    "Lab items:\n",
    "ITEMID\tLABEL               FLUID\t  CATEGORY\t\n",
    "50820\tpH\t     \t        Blood     Blood Gas\t\n",
    "50868\tAnion Gap\t        Blood\t  Chemistry\t\n",
    "50882\tBicarbonate\t        Blood\t  Chemistry\t\n",
    "50902\tChloride\t        Blood\t  Chemistry\t\n",
    "50912\tCreatinine\t        Blood\t  Chemistry\t\n",
    "50931\tGlucose\t            Blood\t  Chemistry\t\n",
    "50960\tMagnesium\t        Blood\t  Chemistry\t\n",
    "50970\tPhosphate\t        Blood\t  Chemistry\t\n",
    "50971\tPotassium\t        Blood\t  Chemistry\t\n",
    "50983\tSodium\t            Blood\t  Chemistry\t\n",
    "51006\tUrea Nitrogen       Blood\t  Chemistry\t\n",
    "51221\tHematocrit\t        Blood\t  Hematology\t\n",
    "51222\tHemoglobin\t        Blood\t  Hematology\t\n",
    "51248\tMCH\t                Blood\t  Hematology\t\n",
    "51249\tMCHC\t            Blood\t  Hematology\t\n",
    "51250\tMCV\t                Blood\t  Hematology\t\n",
    "51265\tPlatelet Count\t    Blood\t  Hematology\t\n",
    "51277\tRDW         \t    Blood\t  Hematology\t\n",
    "51279\tRed Blood Cells\t    Blood\t  Hematology\t\n",
    "51301\tWhite Blood Cells\tBlood\t  Hematology\t"
   ]
  },
  {
   "cell_type": "code",
   "execution_count": 2,
   "metadata": {},
   "outputs": [],
   "source": [
    "import pandas as pd\n",
    "import numpy as np\n",
    "import random\n",
    "from sklearn import preprocessing\n",
    "from sklearn.linear_model import LogisticRegression, LogisticRegressionCV\n",
    "from sklearn.model_selection import train_test_split\n",
    "from sklearn import metrics\n",
    "from sklearn.metrics import classification_report, confusion_matrix, accuracy_score,  roc_auc_score, precision_score, recall_score\n",
    "from sklearn.feature_selection import RFE\n",
    "from sklearn.linear_model import LassoCV, Lasso\n",
    "from sklearn.model_selection import cross_val_score, RandomizedSearchCV, RepeatedKFold\n",
    "from sklearn.preprocessing import StandardScaler\n",
    "from sklearn.ensemble import RandomForestClassifier\n",
    "from sklearn.preprocessing import LabelEncoder\n",
    "from sklearn.inspection import plot_partial_dependence\n",
    "import matplotlib\n",
    "import matplotlib.pyplot as plt\n",
    "import seaborn as sns\n",
    "%matplotlib inline\n",
    "from numpy import mean\n",
    "from numpy import std\n",
    "from pprint import pprint\n",
    "import math"
   ]
  },
  {
   "cell_type": "code",
   "execution_count": 3,
   "metadata": {},
   "outputs": [],
   "source": [
    "df = pd.read_csv('MIMIC_cleaned.csv')"
   ]
  },
  {
   "cell_type": "code",
   "execution_count": 4,
   "metadata": {},
   "outputs": [],
   "source": [
    "age = df.AGE_ON_AD.astype(str).str.split(\".\", expand=True)[[0]]\n",
    "age = age.astype(int)\n",
    "np.sort(age[0][age[0] < 100].unique())\n",
    "df[\"age\"] = np.where(age[0] > 89, 90, age[0])"
   ]
  },
  {
   "cell_type": "code",
   "execution_count": 5,
   "metadata": {},
   "outputs": [],
   "source": [
    "le = LabelEncoder()\n",
    "df[\"gender\"] = le.fit_transform(df.GENDER)"
   ]
  },
  {
   "cell_type": "code",
   "execution_count": 6,
   "metadata": {},
   "outputs": [],
   "source": [
    "df[\"ethnicity\"] = le.fit_transform(df.ETHNICITY)"
   ]
  },
  {
   "cell_type": "markdown",
   "metadata": {},
   "source": [
    "### Missing data"
   ]
  },
  {
   "cell_type": "code",
   "execution_count": 7,
   "metadata": {},
   "outputs": [],
   "source": [
    "#replece NA with 0\n",
    "df.fillna(0, inplace=True)"
   ]
  },
  {
   "cell_type": "markdown",
   "metadata": {},
   "source": [
    "### train and test data"
   ]
  },
  {
   "cell_type": "code",
   "execution_count": 8,
   "metadata": {},
   "outputs": [],
   "source": [
    "y = df['HOSPITAL_EXPIRE_FLAG']"
   ]
  },
  {
   "cell_type": "code",
   "execution_count": 9,
   "metadata": {},
   "outputs": [],
   "source": [
    "features_li = ['age', 'gender', 'ethnicity','ICU_STAY_DAYS', 'MULTI_ENTRY_ICU', \n",
    "               'ICD9_9955','ICD9_3893', 'ICD9_9604', 'ICD9_966', 'ICD9_9672', 'ICD9_9904', 'ICD9_9671', 'ICD9_3961', 'ICD9_8856', 'ICD9_3891',\n",
    "               'PROP_ITEMID_51221', 'PROP_ITEMID_51222',\n",
    "                'PROP_ITEMID_51248', 'PROP_ITEMID_51249', 'PROP_ITEMID_51250',\n",
    "                'PROP_ITEMID_51265', 'PROP_ITEMID_51277', 'PROP_ITEMID_51279',\n",
    "                'PROP_ITEMID_51301', 'PROP_ITEMID_50820', 'PROP_ITEMID_50868',\n",
    "                'PROP_ITEMID_50882', 'PROP_ITEMID_50902', 'PROP_ITEMID_50912',\n",
    "                'PROP_ITEMID_50931', 'PROP_ITEMID_50960', 'PROP_ITEMID_50970',\n",
    "                'PROP_ITEMID_50971', 'PROP_ITEMID_50983', 'PROP_ITEMID_51006']\n",
    "X = df[features_li]"
   ]
  },
  {
   "cell_type": "code",
   "execution_count": 10,
   "metadata": {},
   "outputs": [
    {
     "data": {
      "text/plain": [
       "Index(['age', 'gender', 'ethnicity', 'ICU_STAY_DAYS', 'MULTI_ENTRY_ICU',\n",
       "       'ICD9_9955', 'ICD9_3893', 'ICD9_9604', 'ICD9_966', 'ICD9_9672',\n",
       "       'ICD9_9904', 'ICD9_9671', 'ICD9_3961', 'ICD9_8856', 'ICD9_3891',\n",
       "       'PROP_ITEMID_51221', 'PROP_ITEMID_51222', 'PROP_ITEMID_51248',\n",
       "       'PROP_ITEMID_51249', 'PROP_ITEMID_51250', 'PROP_ITEMID_51265',\n",
       "       'PROP_ITEMID_51277', 'PROP_ITEMID_51279', 'PROP_ITEMID_51301',\n",
       "       'PROP_ITEMID_50820', 'PROP_ITEMID_50868', 'PROP_ITEMID_50882',\n",
       "       'PROP_ITEMID_50902', 'PROP_ITEMID_50912', 'PROP_ITEMID_50931',\n",
       "       'PROP_ITEMID_50960', 'PROP_ITEMID_50970', 'PROP_ITEMID_50971',\n",
       "       'PROP_ITEMID_50983', 'PROP_ITEMID_51006'],\n",
       "      dtype='object')"
      ]
     },
     "execution_count": 10,
     "metadata": {},
     "output_type": "execute_result"
    }
   ],
   "source": [
    "X.columns"
   ]
  },
  {
   "cell_type": "code",
   "execution_count": 11,
   "metadata": {},
   "outputs": [],
   "source": [
    "X_train, X_test, y_train, y_test = train_test_split(X,y,\n",
    " test_size=0.2, random_state=0)"
   ]
  },
  {
   "cell_type": "code",
   "execution_count": 12,
   "metadata": {},
   "outputs": [
    {
     "data": {
      "text/plain": [
       "(47180, 35)"
      ]
     },
     "execution_count": 12,
     "metadata": {},
     "output_type": "execute_result"
    }
   ],
   "source": [
    "X_train.shape"
   ]
  },
  {
   "cell_type": "code",
   "execution_count": 13,
   "metadata": {},
   "outputs": [
    {
     "data": {
      "text/plain": [
       "(11796, 35)"
      ]
     },
     "execution_count": 13,
     "metadata": {},
     "output_type": "execute_result"
    }
   ],
   "source": [
    "X_test.shape"
   ]
  },
  {
   "cell_type": "markdown",
   "metadata": {},
   "source": [
    "### sklearn Logistic regression"
   ]
  },
  {
   "cell_type": "code",
   "execution_count": 12,
   "metadata": {},
   "outputs": [],
   "source": [
    "logisticRegr = LogisticRegression(solver='lbfgs', max_iter=1000).fit(X_train, y_train)"
   ]
  },
  {
   "cell_type": "code",
   "execution_count": 13,
   "metadata": {},
   "outputs": [],
   "source": [
    "predictions = logisticRegr.predict(X_test)"
   ]
  },
  {
   "cell_type": "code",
   "execution_count": 14,
   "metadata": {},
   "outputs": [
    {
     "name": "stdout",
     "output_type": "stream",
     "text": [
      "0.921414038657172\n"
     ]
    }
   ],
   "source": [
    "score = logisticRegr.score(X_test, y_test)\n",
    "print(score)"
   ]
  },
  {
   "cell_type": "code",
   "execution_count": 15,
   "metadata": {},
   "outputs": [],
   "source": [
    "cnf_matrix = metrics.confusion_matrix(y_test, predictions)"
   ]
  },
  {
   "cell_type": "code",
   "execution_count": 16,
   "metadata": {},
   "outputs": [
    {
     "data": {
      "text/plain": [
       "Text(0.5, 225.76, 'Predicted label')"
      ]
     },
     "execution_count": 16,
     "metadata": {},
     "output_type": "execute_result"
    },
    {
     "data": {
      "image/png": "[encoded data removed]",
      "text/plain": [
       "<Figure size 360x252 with 2 Axes>"
      ]
     },
     "metadata": {},
     "output_type": "display_data"
    }
   ],
   "source": [
    "sns.set(rc={'figure.figsize':(5,3.5)})\n",
    "class_names=[0,1] # name  of classes\n",
    "fig, ax = plt.subplots()\n",
    "tick_marks = np.arange(len(class_names))\n",
    "plt.xticks(tick_marks, class_names)\n",
    "plt.yticks(tick_marks, class_names)\n",
    "# create heatmap\n",
    "sns.heatmap(pd.DataFrame(cnf_matrix), annot=True, cmap=\"YlGnBu\" ,fmt='g')\n",
    "ax.xaxis.set_label_position(\"top\")\n",
    "plt.tight_layout()\n",
    "plt.title('Confusion matrix', y=1.1)\n",
    "plt.ylabel('Actual label')\n",
    "plt.xlabel('Predicted label')"
   ]
  },
  {
   "cell_type": "code",
   "execution_count": 47,
   "metadata": {},
   "outputs": [
    {
     "name": "stdout",
     "output_type": "stream",
     "text": [
      "Logistic auc score: 0.6787374843373174\n"
     ]
    }
   ],
   "source": [
    "print(\"Logistic auc score:\", roc_auc_score(y_test, predictions))"
   ]
  },
  {
   "cell_type": "code",
   "execution_count": 46,
   "metadata": {},
   "outputs": [
    {
     "name": "stdout",
     "output_type": "stream",
     "text": [
      "Logistic Accuracy: 0.921414038657172\n",
      "Logistic Precision: 0.7156549520766773\n",
      "Logistic Recall: 0.3742690058479532\n",
      "              precision    recall  f1-score   support\n",
      "\n",
      "           0       0.93      0.98      0.96     10599\n",
      "           1       0.72      0.37      0.49      1197\n",
      "\n",
      "    accuracy                           0.92     11796\n",
      "   macro avg       0.82      0.68      0.72     11796\n",
      "weighted avg       0.91      0.92      0.91     11796\n",
      "\n"
     ]
    }
   ],
   "source": [
    "print(\"Logistic Accuracy:\", accuracy_score(y_test, predictions))\n",
    "print(\"Logistic Precision:\", precision_score(y_test, predictions))\n",
    "print(\"Logistic Recall:\", recall_score(y_test, predictions))\n",
    "print(classification_report(y_test, predictions))"
   ]
  },
  {
   "cell_type": "code",
   "execution_count": 45,
   "metadata": {},
   "outputs": [
    {
     "name": "stdout",
     "output_type": "stream",
     "text": [
      "PROP_ITEMID_50868 1.8645790883647906\n",
      "ICD9_9672 1.4511753097322155\n",
      "PROP_ITEMID_51301 1.4475841463494903\n",
      "PROP_ITEMID_50983 1.3377124530489855\n",
      "ICD9_9671 1.1818503651620078\n",
      "PROP_ITEMID_50971 1.0184823548913697\n",
      "PROP_ITEMID_50931 0.8877412932208923\n",
      "PROP_ITEMID_50820 0.8767619107646165\n",
      "PROP_ITEMID_50882 0.7954872886149137\n",
      "PROP_ITEMID_51265 0.7894341574004886\n",
      "PROP_ITEMID_50960 0.5786971859117579\n",
      "PROP_ITEMID_51277 0.43512413457315696\n",
      "PROP_ITEMID_51006 0.3456510193749629\n",
      "ICD9_3891 0.2896410660891787\n",
      "PROP_ITEMID_50912 0.2502789746676442\n",
      "PROP_ITEMID_50970 0.24960537101485\n",
      "ICD9_9604 0.1711645801657197\n",
      "PROP_ITEMID_50902 0.1656892891886428\n",
      "gender 0.1342352743918911\n",
      "PROP_ITEMID_51249 0.12978116454334035\n",
      "PROP_ITEMID_51250 0.12616722963521448\n",
      "PROP_ITEMID_51248 0.09856121614296526\n",
      "PROP_ITEMID_51279 0.06923409328689456\n",
      "age 0.03179557160589237\n",
      "ICD9_9904 0.03097310127680012\n",
      "ethnicity 0.0161527292746418\n",
      "ICU_STAY_DAYS -0.009038124972159499\n",
      "ICD9_3893 -0.05776181388285242\n",
      "ICD9_8856 -0.12221807164259228\n",
      "MULTI_ENTRY_ICU -0.1964100133834485\n",
      "ICD9_966 -0.29310673527841047\n",
      "PROP_ITEMID_51222 -0.5250090329540656\n",
      "PROP_ITEMID_51221 -0.582135146788749\n",
      "ICD9_3961 -1.27191988929947\n",
      "ICD9_9955 -2.1552223625897393\n"
     ]
    }
   ],
   "source": [
    "#Get feature importance by coefficient\n",
    "zip_iterator = zip(X_train.columns, logisticRegr.coef_[0])\n",
    "coef_logit = dict(zip_iterator) \n",
    "sort_coef = sorted(coef_logit.items(), key=lambda x: x[1], reverse=True)\n",
    "for i in sort_coef:\n",
    "    print(i[0], i[1])"
   ]
  },
  {
   "cell_type": "markdown",
   "metadata": {},
   "source": [
    "### Stat model  logistic regression"
   ]
  },
  {
   "cell_type": "code",
   "execution_count": 14,
   "metadata": {},
   "outputs": [],
   "source": [
    "#import statsmodels.discrete.discrete_model as sm\n",
    "import statsmodels.api as sm"
   ]
  },
  {
   "cell_type": "code",
   "execution_count": 71,
   "metadata": {},
   "outputs": [],
   "source": [
    "X_train = np.array(X_train, dtype=float)\n",
    "X_test = np.array(X_test, dtype=float)"
   ]
  },
  {
   "cell_type": "code",
   "execution_count": 16,
   "metadata": {},
   "outputs": [],
   "source": [
    "y_train = np.array(y_train, dtype=float)"
   ]
  },
  {
   "cell_type": "code",
   "execution_count": 17,
   "metadata": {},
   "outputs": [
    {
     "name": "stdout",
     "output_type": "stream",
     "text": [
      "Optimization terminated successfully.\n",
      "         Current function value: 0.250280\n",
      "         Iterations 12\n"
     ]
    }
   ],
   "source": [
    "logit = sm.Logit(y_train, X_train, solver='lbfgs').fit()"
   ]
  },
  {
   "cell_type": "code",
   "execution_count": 18,
   "metadata": {},
   "outputs": [],
   "source": [
    "#To get -log(p values)\n",
    "values = list()\n",
    "for i in range(35):\n",
    "    value = (-1)*math.log(logit.pvalues[i])\n",
    "    values.append(value)"
   ]
  },
  {
   "cell_type": "code",
   "execution_count": 48,
   "metadata": {},
   "outputs": [],
   "source": [
    "p_value = list(logit.pvalues)"
   ]
  },
  {
   "cell_type": "code",
   "execution_count": 62,
   "metadata": {},
   "outputs": [],
   "source": [
    "coef = list(logit.params)"
   ]
  },
  {
   "cell_type": "code",
   "execution_count": 64,
   "metadata": {},
   "outputs": [],
   "source": [
    "#To get OR\n",
    "OR = list()\n",
    "for i in range(35):\n",
    "    exp = math.exp(logit.params[i])\n",
    "    OR.append(exp)"
   ]
  },
  {
   "cell_type": "code",
   "execution_count": 20,
   "metadata": {},
   "outputs": [],
   "source": [
    "features = ['age', 'gender', 'ethnicity', 'ICU_STAY_DAYS', 'MULTI_ENTRY_ICU',\n",
    "       'ICD9_9955', 'ICD9_3893', 'ICD9_9604', 'ICD9_966', 'ICD9_9672',\n",
    "       'ICD9_9904', 'ICD9_9671', 'ICD9_3961', 'ICD9_8856', 'ICD9_3891',\n",
    "       'PROP_ITEMID_51221', 'PROP_ITEMID_51222', 'PROP_ITEMID_51248',\n",
    "       'PROP_ITEMID_51249', 'PROP_ITEMID_51250', 'PROP_ITEMID_51265',\n",
    "       'PROP_ITEMID_51277', 'PROP_ITEMID_51279', 'PROP_ITEMID_51301',\n",
    "       'PROP_ITEMID_50820', 'PROP_ITEMID_50868', 'PROP_ITEMID_50882',\n",
    "       'PROP_ITEMID_50902', 'PROP_ITEMID_50912', 'PROP_ITEMID_50931',\n",
    "       'PROP_ITEMID_50960', 'PROP_ITEMID_50970', 'PROP_ITEMID_50971',\n",
    "       'PROP_ITEMID_50983', 'PROP_ITEMID_51006']"
   ]
  },
  {
   "cell_type": "code",
   "execution_count": 21,
   "metadata": {},
   "outputs": [
    {
     "data": {
      "text/html": [
       "<table class=\"simpletable\">\n",
       "<caption>Logit Regression Results</caption>\n",
       "<tr>\n",
       "  <th>Dep. Variable:</th>           <td>y</td>        <th>  No. Observations:  </th>  <td> 47180</td> \n",
       "</tr>\n",
       "<tr>\n",
       "  <th>Model:</th>                 <td>Logit</td>      <th>  Df Residuals:      </th>  <td> 47145</td> \n",
       "</tr>\n",
       "<tr>\n",
       "  <th>Method:</th>                 <td>MLE</td>       <th>  Df Model:          </th>  <td>    34</td> \n",
       "</tr>\n",
       "<tr>\n",
       "  <th>Date:</th>            <td>Wed, 24 Nov 2021</td> <th>  Pseudo R-squ.:     </th>  <td>0.2233</td> \n",
       "</tr>\n",
       "<tr>\n",
       "  <th>Time:</th>                <td>06:03:38</td>     <th>  Log-Likelihood:    </th> <td> -11808.</td>\n",
       "</tr>\n",
       "<tr>\n",
       "  <th>converged:</th>             <td>True</td>       <th>  LL-Null:           </th> <td> -15203.</td>\n",
       "</tr>\n",
       "<tr>\n",
       "  <th>Covariance Type:</th>     <td>nonrobust</td>    <th>  LLR p-value:       </th>  <td> 0.000</td> \n",
       "</tr>\n",
       "</table>\n",
       "<table class=\"simpletable\">\n",
       "<tr>\n",
       "          <td></td>             <th>coef</th>     <th>std err</th>      <th>z</th>      <th>P>|z|</th>  <th>[0.025</th>    <th>0.975]</th>  \n",
       "</tr>\n",
       "<tr>\n",
       "  <th>age</th>               <td>   -0.0015</td> <td>    0.001</td> <td>   -1.693</td> <td> 0.090</td> <td>   -0.003</td> <td>    0.000</td>\n",
       "</tr>\n",
       "<tr>\n",
       "  <th>gender</th>            <td>   -0.3030</td> <td>    0.035</td> <td>   -8.760</td> <td> 0.000</td> <td>   -0.371</td> <td>   -0.235</td>\n",
       "</tr>\n",
       "<tr>\n",
       "  <th>ethnicity</th>         <td>   -0.0526</td> <td>    0.001</td> <td>  -37.020</td> <td> 0.000</td> <td>   -0.055</td> <td>   -0.050</td>\n",
       "</tr>\n",
       "<tr>\n",
       "  <th>ICU_STAY_DAYS</th>     <td>   -0.0330</td> <td>    0.003</td> <td>  -12.024</td> <td> 0.000</td> <td>   -0.038</td> <td>   -0.028</td>\n",
       "</tr>\n",
       "<tr>\n",
       "  <th>MULTI_ENTRY_ICU</th>   <td>   -0.4389</td> <td>    0.044</td> <td>  -10.028</td> <td> 0.000</td> <td>   -0.525</td> <td>   -0.353</td>\n",
       "</tr>\n",
       "<tr>\n",
       "  <th>ICD9_9955</th>         <td>   -6.1602</td> <td>    0.710</td> <td>   -8.680</td> <td> 0.000</td> <td>   -7.551</td> <td>   -4.769</td>\n",
       "</tr>\n",
       "<tr>\n",
       "  <th>ICD9_3893</th>         <td>   -0.0314</td> <td>    0.033</td> <td>   -0.960</td> <td> 0.337</td> <td>   -0.096</td> <td>    0.033</td>\n",
       "</tr>\n",
       "<tr>\n",
       "  <th>ICD9_9604</th>         <td>    0.0792</td> <td>    0.049</td> <td>    1.610</td> <td> 0.107</td> <td>   -0.017</td> <td>    0.176</td>\n",
       "</tr>\n",
       "<tr>\n",
       "  <th>ICD9_966</th>          <td>   -0.2444</td> <td>    0.051</td> <td>   -4.780</td> <td> 0.000</td> <td>   -0.345</td> <td>   -0.144</td>\n",
       "</tr>\n",
       "<tr>\n",
       "  <th>ICD9_9672</th>         <td>    1.6592</td> <td>    0.066</td> <td>   25.320</td> <td> 0.000</td> <td>    1.531</td> <td>    1.788</td>\n",
       "</tr>\n",
       "<tr>\n",
       "  <th>ICD9_9904</th>         <td>    0.0831</td> <td>    0.050</td> <td>    1.670</td> <td> 0.095</td> <td>   -0.014</td> <td>    0.181</td>\n",
       "</tr>\n",
       "<tr>\n",
       "  <th>ICD9_9671</th>         <td>    1.0128</td> <td>    0.052</td> <td>   19.437</td> <td> 0.000</td> <td>    0.911</td> <td>    1.115</td>\n",
       "</tr>\n",
       "<tr>\n",
       "  <th>ICD9_3961</th>         <td>   -1.2520</td> <td>    0.102</td> <td>  -12.333</td> <td> 0.000</td> <td>   -1.451</td> <td>   -1.053</td>\n",
       "</tr>\n",
       "<tr>\n",
       "  <th>ICD9_8856</th>         <td>   -0.1380</td> <td>    0.069</td> <td>   -1.989</td> <td> 0.047</td> <td>   -0.274</td> <td>   -0.002</td>\n",
       "</tr>\n",
       "<tr>\n",
       "  <th>ICD9_3891</th>         <td>    0.3440</td> <td>    0.049</td> <td>    7.025</td> <td> 0.000</td> <td>    0.248</td> <td>    0.440</td>\n",
       "</tr>\n",
       "<tr>\n",
       "  <th>PROP_ITEMID_51221</th> <td>   -0.6713</td> <td>    0.115</td> <td>   -5.828</td> <td> 0.000</td> <td>   -0.897</td> <td>   -0.446</td>\n",
       "</tr>\n",
       "<tr>\n",
       "  <th>PROP_ITEMID_51222</th> <td>   -0.9473</td> <td>    0.107</td> <td>   -8.860</td> <td> 0.000</td> <td>   -1.157</td> <td>   -0.738</td>\n",
       "</tr>\n",
       "<tr>\n",
       "  <th>PROP_ITEMID_51248</th> <td>   -0.2517</td> <td>    0.060</td> <td>   -4.200</td> <td> 0.000</td> <td>   -0.369</td> <td>   -0.134</td>\n",
       "</tr>\n",
       "<tr>\n",
       "  <th>PROP_ITEMID_51249</th> <td>   -0.4173</td> <td>    0.063</td> <td>   -6.649</td> <td> 0.000</td> <td>   -0.540</td> <td>   -0.294</td>\n",
       "</tr>\n",
       "<tr>\n",
       "  <th>PROP_ITEMID_51250</th> <td>   -0.2573</td> <td>    0.070</td> <td>   -3.663</td> <td> 0.000</td> <td>   -0.395</td> <td>   -0.120</td>\n",
       "</tr>\n",
       "<tr>\n",
       "  <th>PROP_ITEMID_51265</th> <td>    0.7674</td> <td>    0.050</td> <td>   15.478</td> <td> 0.000</td> <td>    0.670</td> <td>    0.865</td>\n",
       "</tr>\n",
       "<tr>\n",
       "  <th>PROP_ITEMID_51277</th> <td>    0.1819</td> <td>    0.045</td> <td>    4.043</td> <td> 0.000</td> <td>    0.094</td> <td>    0.270</td>\n",
       "</tr>\n",
       "<tr>\n",
       "  <th>PROP_ITEMID_51279</th> <td>   -0.7037</td> <td>    0.091</td> <td>   -7.766</td> <td> 0.000</td> <td>   -0.881</td> <td>   -0.526</td>\n",
       "</tr>\n",
       "<tr>\n",
       "  <th>PROP_ITEMID_51301</th> <td>    0.9536</td> <td>    0.049</td> <td>   19.513</td> <td> 0.000</td> <td>    0.858</td> <td>    1.049</td>\n",
       "</tr>\n",
       "<tr>\n",
       "  <th>PROP_ITEMID_50820</th> <td>    0.6368</td> <td>    0.049</td> <td>   12.916</td> <td> 0.000</td> <td>    0.540</td> <td>    0.733</td>\n",
       "</tr>\n",
       "<tr>\n",
       "  <th>PROP_ITEMID_50868</th> <td>    1.6488</td> <td>    0.101</td> <td>   16.273</td> <td> 0.000</td> <td>    1.450</td> <td>    1.847</td>\n",
       "</tr>\n",
       "<tr>\n",
       "  <th>PROP_ITEMID_50882</th> <td>    0.4671</td> <td>    0.059</td> <td>    7.889</td> <td> 0.000</td> <td>    0.351</td> <td>    0.583</td>\n",
       "</tr>\n",
       "<tr>\n",
       "  <th>PROP_ITEMID_50902</th> <td>   -0.1907</td> <td>    0.064</td> <td>   -2.993</td> <td> 0.003</td> <td>   -0.316</td> <td>   -0.066</td>\n",
       "</tr>\n",
       "<tr>\n",
       "  <th>PROP_ITEMID_50912</th> <td>    0.2680</td> <td>    0.057</td> <td>    4.696</td> <td> 0.000</td> <td>    0.156</td> <td>    0.380</td>\n",
       "</tr>\n",
       "<tr>\n",
       "  <th>PROP_ITEMID_50931</th> <td>   -0.2988</td> <td>    0.062</td> <td>   -4.802</td> <td> 0.000</td> <td>   -0.421</td> <td>   -0.177</td>\n",
       "</tr>\n",
       "<tr>\n",
       "  <th>PROP_ITEMID_50960</th> <td>    0.3002</td> <td>    0.093</td> <td>    3.233</td> <td> 0.001</td> <td>    0.118</td> <td>    0.482</td>\n",
       "</tr>\n",
       "<tr>\n",
       "  <th>PROP_ITEMID_50970</th> <td>   -0.0653</td> <td>    0.062</td> <td>   -1.054</td> <td> 0.292</td> <td>   -0.187</td> <td>    0.056</td>\n",
       "</tr>\n",
       "<tr>\n",
       "  <th>PROP_ITEMID_50971</th> <td>    0.1124</td> <td>    0.097</td> <td>    1.164</td> <td> 0.244</td> <td>   -0.077</td> <td>    0.302</td>\n",
       "</tr>\n",
       "<tr>\n",
       "  <th>PROP_ITEMID_50983</th> <td>    1.4826</td> <td>    0.076</td> <td>   19.561</td> <td> 0.000</td> <td>    1.334</td> <td>    1.631</td>\n",
       "</tr>\n",
       "<tr>\n",
       "  <th>PROP_ITEMID_51006</th> <td>    0.8922</td> <td>    0.062</td> <td>   14.364</td> <td> 0.000</td> <td>    0.770</td> <td>    1.014</td>\n",
       "</tr>\n",
       "</table>"
      ],
      "text/plain": [
       "<class 'statsmodels.iolib.summary.Summary'>\n",
       "\"\"\"\n",
       "                           Logit Regression Results                           \n",
       "==============================================================================\n",
       "Dep. Variable:                      y   No. Observations:                47180\n",
       "Model:                          Logit   Df Residuals:                    47145\n",
       "Method:                           MLE   Df Model:                           34\n",
       "Date:                Wed, 24 Nov 2021   Pseudo R-squ.:                  0.2233\n",
       "Time:                        06:03:38   Log-Likelihood:                -11808.\n",
       "converged:                       True   LL-Null:                       -15203.\n",
       "Covariance Type:            nonrobust   LLR p-value:                     0.000\n",
       "=====================================================================================\n",
       "                        coef    std err          z      P>|z|      [0.025      0.975]\n",
       "-------------------------------------------------------------------------------------\n",
       "age                  -0.0015      0.001     -1.693      0.090      -0.003       0.000\n",
       "gender               -0.3030      0.035     -8.760      0.000      -0.371      -0.235\n",
       "ethnicity            -0.0526      0.001    -37.020      0.000      -0.055      -0.050\n",
       "ICU_STAY_DAYS        -0.0330      0.003    -12.024      0.000      -0.038      -0.028\n",
       "MULTI_ENTRY_ICU      -0.4389      0.044    -10.028      0.000      -0.525      -0.353\n",
       "ICD9_9955            -6.1602      0.710     -8.680      0.000      -7.551      -4.769\n",
       "ICD9_3893            -0.0314      0.033     -0.960      0.337      -0.096       0.033\n",
       "ICD9_9604             0.0792      0.049      1.610      0.107      -0.017       0.176\n",
       "ICD9_966             -0.2444      0.051     -4.780      0.000      -0.345      -0.144\n",
       "ICD9_9672             1.6592      0.066     25.320      0.000       1.531       1.788\n",
       "ICD9_9904             0.0831      0.050      1.670      0.095      -0.014       0.181\n",
       "ICD9_9671             1.0128      0.052     19.437      0.000       0.911       1.115\n",
       "ICD9_3961            -1.2520      0.102    -12.333      0.000      -1.451      -1.053\n",
       "ICD9_8856            -0.1380      0.069     -1.989      0.047      -0.274      -0.002\n",
       "ICD9_3891             0.3440      0.049      7.025      0.000       0.248       0.440\n",
       "PROP_ITEMID_51221    -0.6713      0.115     -5.828      0.000      -0.897      -0.446\n",
       "PROP_ITEMID_51222    -0.9473      0.107     -8.860      0.000      -1.157      -0.738\n",
       "PROP_ITEMID_51248    -0.2517      0.060     -4.200      0.000      -0.369      -0.134\n",
       "PROP_ITEMID_51249    -0.4173      0.063     -6.649      0.000      -0.540      -0.294\n",
       "PROP_ITEMID_51250    -0.2573      0.070     -3.663      0.000      -0.395      -0.120\n",
       "PROP_ITEMID_51265     0.7674      0.050     15.478      0.000       0.670       0.865\n",
       "PROP_ITEMID_51277     0.1819      0.045      4.043      0.000       0.094       0.270\n",
       "PROP_ITEMID_51279    -0.7037      0.091     -7.766      0.000      -0.881      -0.526\n",
       "PROP_ITEMID_51301     0.9536      0.049     19.513      0.000       0.858       1.049\n",
       "PROP_ITEMID_50820     0.6368      0.049     12.916      0.000       0.540       0.733\n",
       "PROP_ITEMID_50868     1.6488      0.101     16.273      0.000       1.450       1.847\n",
       "PROP_ITEMID_50882     0.4671      0.059      7.889      0.000       0.351       0.583\n",
       "PROP_ITEMID_50902    -0.1907      0.064     -2.993      0.003      -0.316      -0.066\n",
       "PROP_ITEMID_50912     0.2680      0.057      4.696      0.000       0.156       0.380\n",
       "PROP_ITEMID_50931    -0.2988      0.062     -4.802      0.000      -0.421      -0.177\n",
       "PROP_ITEMID_50960     0.3002      0.093      3.233      0.001       0.118       0.482\n",
       "PROP_ITEMID_50970    -0.0653      0.062     -1.054      0.292      -0.187       0.056\n",
       "PROP_ITEMID_50971     0.1124      0.097      1.164      0.244      -0.077       0.302\n",
       "PROP_ITEMID_50983     1.4826      0.076     19.561      0.000       1.334       1.631\n",
       "PROP_ITEMID_51006     0.8922      0.062     14.364      0.000       0.770       1.014\n",
       "=====================================================================================\n",
       "\"\"\""
      ]
     },
     "execution_count": 21,
     "metadata": {},
     "output_type": "execute_result"
    }
   ],
   "source": [
    "logit.summary(xname=features)"
   ]
  },
  {
   "cell_type": "code",
   "execution_count": 66,
   "metadata": {},
   "outputs": [],
   "source": [
    "data_tuples = list(zip(features, coef, OR, p_value, values))\n",
    "est = pd.DataFrame(data_tuples, columns=['features','coef', 'OR','p_value','-log(p_value)'])"
   ]
  },
  {
   "cell_type": "code",
   "execution_count": 69,
   "metadata": {},
   "outputs": [
    {
     "data": {
      "text/html": [
       "<div>\n",
       "<style scoped>\n",
       "    .dataframe tbody tr th:only-of-type {\n",
       "        vertical-align: middle;\n",
       "    }\n",
       "\n",
       "    .dataframe tbody tr th {\n",
       "        vertical-align: top;\n",
       "    }\n",
       "\n",
       "    .dataframe thead th {\n",
       "        text-align: right;\n",
       "    }\n",
       "</style>\n",
       "<table border=\"1\" class=\"dataframe\">\n",
       "  <thead>\n",
       "    <tr style=\"text-align: right;\">\n",
       "      <th></th>\n",
       "      <th>features</th>\n",
       "      <th>coef</th>\n",
       "      <th>OR</th>\n",
       "      <th>p_value</th>\n",
       "      <th>-log(p_value)</th>\n",
       "    </tr>\n",
       "  </thead>\n",
       "  <tbody>\n",
       "    <tr>\n",
       "      <th>9</th>\n",
       "      <td>ICD9_9672</td>\n",
       "      <td>1.659162</td>\n",
       "      <td>5.254905</td>\n",
       "      <td>1.935743e-141</td>\n",
       "      <td>324.004007</td>\n",
       "    </tr>\n",
       "    <tr>\n",
       "      <th>25</th>\n",
       "      <td>PROP_ITEMID_50868</td>\n",
       "      <td>1.648826</td>\n",
       "      <td>5.200871</td>\n",
       "      <td>1.522623e-59</td>\n",
       "      <td>135.432086</td>\n",
       "    </tr>\n",
       "    <tr>\n",
       "      <th>33</th>\n",
       "      <td>PROP_ITEMID_50983</td>\n",
       "      <td>1.482553</td>\n",
       "      <td>4.404175</td>\n",
       "      <td>3.334329e-85</td>\n",
       "      <td>194.515461</td>\n",
       "    </tr>\n",
       "    <tr>\n",
       "      <th>11</th>\n",
       "      <td>ICD9_9671</td>\n",
       "      <td>1.012778</td>\n",
       "      <td>2.753240</td>\n",
       "      <td>3.721535e-84</td>\n",
       "      <td>192.103011</td>\n",
       "    </tr>\n",
       "    <tr>\n",
       "      <th>23</th>\n",
       "      <td>PROP_ITEMID_51301</td>\n",
       "      <td>0.953615</td>\n",
       "      <td>2.595075</td>\n",
       "      <td>8.566025e-85</td>\n",
       "      <td>193.571929</td>\n",
       "    </tr>\n",
       "    <tr>\n",
       "      <th>34</th>\n",
       "      <td>PROP_ITEMID_51006</td>\n",
       "      <td>0.892219</td>\n",
       "      <td>2.440540</td>\n",
       "      <td>8.720228e-47</td>\n",
       "      <td>106.055854</td>\n",
       "    </tr>\n",
       "    <tr>\n",
       "      <th>20</th>\n",
       "      <td>PROP_ITEMID_51265</td>\n",
       "      <td>0.767410</td>\n",
       "      <td>2.154180</td>\n",
       "      <td>4.907224e-54</td>\n",
       "      <td>122.748887</td>\n",
       "    </tr>\n",
       "    <tr>\n",
       "      <th>24</th>\n",
       "      <td>PROP_ITEMID_50820</td>\n",
       "      <td>0.636820</td>\n",
       "      <td>1.890460</td>\n",
       "      <td>3.673814e-38</td>\n",
       "      <td>86.197003</td>\n",
       "    </tr>\n",
       "    <tr>\n",
       "      <th>26</th>\n",
       "      <td>PROP_ITEMID_50882</td>\n",
       "      <td>0.467059</td>\n",
       "      <td>1.595296</td>\n",
       "      <td>3.055425e-15</td>\n",
       "      <td>33.421858</td>\n",
       "    </tr>\n",
       "    <tr>\n",
       "      <th>14</th>\n",
       "      <td>ICD9_3891</td>\n",
       "      <td>0.344044</td>\n",
       "      <td>1.410641</td>\n",
       "      <td>2.136329e-12</td>\n",
       "      <td>26.871932</td>\n",
       "    </tr>\n",
       "    <tr>\n",
       "      <th>30</th>\n",
       "      <td>PROP_ITEMID_50960</td>\n",
       "      <td>0.300181</td>\n",
       "      <td>1.350103</td>\n",
       "      <td>1.223747e-03</td>\n",
       "      <td>6.705838</td>\n",
       "    </tr>\n",
       "    <tr>\n",
       "      <th>28</th>\n",
       "      <td>PROP_ITEMID_50912</td>\n",
       "      <td>0.268008</td>\n",
       "      <td>1.307357</td>\n",
       "      <td>2.649139e-06</td>\n",
       "      <td>12.841276</td>\n",
       "    </tr>\n",
       "    <tr>\n",
       "      <th>21</th>\n",
       "      <td>PROP_ITEMID_51277</td>\n",
       "      <td>0.181919</td>\n",
       "      <td>1.199517</td>\n",
       "      <td>5.283794e-05</td>\n",
       "      <td>9.848281</td>\n",
       "    </tr>\n",
       "    <tr>\n",
       "      <th>32</th>\n",
       "      <td>PROP_ITEMID_50971</td>\n",
       "      <td>0.112401</td>\n",
       "      <td>1.118962</td>\n",
       "      <td>2.443618e-01</td>\n",
       "      <td>1.409105</td>\n",
       "    </tr>\n",
       "    <tr>\n",
       "      <th>10</th>\n",
       "      <td>ICD9_9904</td>\n",
       "      <td>0.083129</td>\n",
       "      <td>1.086682</td>\n",
       "      <td>9.501108e-02</td>\n",
       "      <td>2.353762</td>\n",
       "    </tr>\n",
       "    <tr>\n",
       "      <th>7</th>\n",
       "      <td>ICD9_9604</td>\n",
       "      <td>0.079174</td>\n",
       "      <td>1.082392</td>\n",
       "      <td>1.073586e-01</td>\n",
       "      <td>2.231581</td>\n",
       "    </tr>\n",
       "    <tr>\n",
       "      <th>0</th>\n",
       "      <td>age</td>\n",
       "      <td>-0.001469</td>\n",
       "      <td>0.998533</td>\n",
       "      <td>9.040222e-02</td>\n",
       "      <td>2.403486</td>\n",
       "    </tr>\n",
       "    <tr>\n",
       "      <th>6</th>\n",
       "      <td>ICD9_3893</td>\n",
       "      <td>-0.031397</td>\n",
       "      <td>0.969091</td>\n",
       "      <td>3.370979e-01</td>\n",
       "      <td>1.087382</td>\n",
       "    </tr>\n",
       "    <tr>\n",
       "      <th>3</th>\n",
       "      <td>ICU_STAY_DAYS</td>\n",
       "      <td>-0.032966</td>\n",
       "      <td>0.967572</td>\n",
       "      <td>2.663404e-33</td>\n",
       "      <td>75.005703</td>\n",
       "    </tr>\n",
       "    <tr>\n",
       "      <th>2</th>\n",
       "      <td>ethnicity</td>\n",
       "      <td>-0.052573</td>\n",
       "      <td>0.948785</td>\n",
       "      <td>5.498665e-300</td>\n",
       "      <td>689.071023</td>\n",
       "    </tr>\n",
       "    <tr>\n",
       "      <th>31</th>\n",
       "      <td>PROP_ITEMID_50970</td>\n",
       "      <td>-0.065338</td>\n",
       "      <td>0.936750</td>\n",
       "      <td>2.917913e-01</td>\n",
       "      <td>1.231716</td>\n",
       "    </tr>\n",
       "    <tr>\n",
       "      <th>13</th>\n",
       "      <td>ICD9_8856</td>\n",
       "      <td>-0.137952</td>\n",
       "      <td>0.871141</td>\n",
       "      <td>4.672626e-02</td>\n",
       "      <td>3.063449</td>\n",
       "    </tr>\n",
       "    <tr>\n",
       "      <th>27</th>\n",
       "      <td>PROP_ITEMID_50902</td>\n",
       "      <td>-0.190725</td>\n",
       "      <td>0.826359</td>\n",
       "      <td>2.758343e-03</td>\n",
       "      <td>5.893125</td>\n",
       "    </tr>\n",
       "    <tr>\n",
       "      <th>8</th>\n",
       "      <td>ICD9_966</td>\n",
       "      <td>-0.244410</td>\n",
       "      <td>0.783166</td>\n",
       "      <td>1.757158e-06</td>\n",
       "      <td>13.251813</td>\n",
       "    </tr>\n",
       "    <tr>\n",
       "      <th>17</th>\n",
       "      <td>PROP_ITEMID_51248</td>\n",
       "      <td>-0.251658</td>\n",
       "      <td>0.777511</td>\n",
       "      <td>2.664130e-05</td>\n",
       "      <td>10.533048</td>\n",
       "    </tr>\n",
       "    <tr>\n",
       "      <th>19</th>\n",
       "      <td>PROP_ITEMID_51250</td>\n",
       "      <td>-0.257294</td>\n",
       "      <td>0.773141</td>\n",
       "      <td>2.496878e-04</td>\n",
       "      <td>8.295299</td>\n",
       "    </tr>\n",
       "    <tr>\n",
       "      <th>29</th>\n",
       "      <td>PROP_ITEMID_50931</td>\n",
       "      <td>-0.298792</td>\n",
       "      <td>0.741714</td>\n",
       "      <td>1.568106e-06</td>\n",
       "      <td>13.365642</td>\n",
       "    </tr>\n",
       "    <tr>\n",
       "      <th>1</th>\n",
       "      <td>gender</td>\n",
       "      <td>-0.302983</td>\n",
       "      <td>0.738611</td>\n",
       "      <td>1.955657e-18</td>\n",
       "      <td>40.775805</td>\n",
       "    </tr>\n",
       "    <tr>\n",
       "      <th>18</th>\n",
       "      <td>PROP_ITEMID_51249</td>\n",
       "      <td>-0.417257</td>\n",
       "      <td>0.658852</td>\n",
       "      <td>2.945470e-11</td>\n",
       "      <td>24.248167</td>\n",
       "    </tr>\n",
       "    <tr>\n",
       "      <th>4</th>\n",
       "      <td>MULTI_ENTRY_ICU</td>\n",
       "      <td>-0.438919</td>\n",
       "      <td>0.644733</td>\n",
       "      <td>1.151114e-23</td>\n",
       "      <td>52.818727</td>\n",
       "    </tr>\n",
       "    <tr>\n",
       "      <th>15</th>\n",
       "      <td>PROP_ITEMID_51221</td>\n",
       "      <td>-0.671313</td>\n",
       "      <td>0.511037</td>\n",
       "      <td>5.604600e-09</td>\n",
       "      <td>18.999678</td>\n",
       "    </tr>\n",
       "    <tr>\n",
       "      <th>22</th>\n",
       "      <td>PROP_ITEMID_51279</td>\n",
       "      <td>-0.703667</td>\n",
       "      <td>0.494768</td>\n",
       "      <td>8.098853e-15</td>\n",
       "      <td>32.447054</td>\n",
       "    </tr>\n",
       "    <tr>\n",
       "      <th>16</th>\n",
       "      <td>PROP_ITEMID_51222</td>\n",
       "      <td>-0.947309</td>\n",
       "      <td>0.387783</td>\n",
       "      <td>8.006868e-19</td>\n",
       "      <td>41.668817</td>\n",
       "    </tr>\n",
       "    <tr>\n",
       "      <th>12</th>\n",
       "      <td>ICD9_3961</td>\n",
       "      <td>-1.252040</td>\n",
       "      <td>0.285921</td>\n",
       "      <td>5.994275e-35</td>\n",
       "      <td>78.799673</td>\n",
       "    </tr>\n",
       "    <tr>\n",
       "      <th>5</th>\n",
       "      <td>ICD9_9955</td>\n",
       "      <td>-6.160161</td>\n",
       "      <td>0.002112</td>\n",
       "      <td>3.968071e-18</td>\n",
       "      <td>40.068252</td>\n",
       "    </tr>\n",
       "  </tbody>\n",
       "</table>\n",
       "</div>"
      ],
      "text/plain": [
       "             features      coef        OR        p_value  -log(p_value)\n",
       "9           ICD9_9672  1.659162  5.254905  1.935743e-141     324.004007\n",
       "25  PROP_ITEMID_50868  1.648826  5.200871   1.522623e-59     135.432086\n",
       "33  PROP_ITEMID_50983  1.482553  4.404175   3.334329e-85     194.515461\n",
       "11          ICD9_9671  1.012778  2.753240   3.721535e-84     192.103011\n",
       "23  PROP_ITEMID_51301  0.953615  2.595075   8.566025e-85     193.571929\n",
       "34  PROP_ITEMID_51006  0.892219  2.440540   8.720228e-47     106.055854\n",
       "20  PROP_ITEMID_51265  0.767410  2.154180   4.907224e-54     122.748887\n",
       "24  PROP_ITEMID_50820  0.636820  1.890460   3.673814e-38      86.197003\n",
       "26  PROP_ITEMID_50882  0.467059  1.595296   3.055425e-15      33.421858\n",
       "14          ICD9_3891  0.344044  1.410641   2.136329e-12      26.871932\n",
       "30  PROP_ITEMID_50960  0.300181  1.350103   1.223747e-03       6.705838\n",
       "28  PROP_ITEMID_50912  0.268008  1.307357   2.649139e-06      12.841276\n",
       "21  PROP_ITEMID_51277  0.181919  1.199517   5.283794e-05       9.848281\n",
       "32  PROP_ITEMID_50971  0.112401  1.118962   2.443618e-01       1.409105\n",
       "10          ICD9_9904  0.083129  1.086682   9.501108e-02       2.353762\n",
       "7           ICD9_9604  0.079174  1.082392   1.073586e-01       2.231581\n",
       "0                 age -0.001469  0.998533   9.040222e-02       2.403486\n",
       "6           ICD9_3893 -0.031397  0.969091   3.370979e-01       1.087382\n",
       "3       ICU_STAY_DAYS -0.032966  0.967572   2.663404e-33      75.005703\n",
       "2           ethnicity -0.052573  0.948785  5.498665e-300     689.071023\n",
       "31  PROP_ITEMID_50970 -0.065338  0.936750   2.917913e-01       1.231716\n",
       "13          ICD9_8856 -0.137952  0.871141   4.672626e-02       3.063449\n",
       "27  PROP_ITEMID_50902 -0.190725  0.826359   2.758343e-03       5.893125\n",
       "8            ICD9_966 -0.244410  0.783166   1.757158e-06      13.251813\n",
       "17  PROP_ITEMID_51248 -0.251658  0.777511   2.664130e-05      10.533048\n",
       "19  PROP_ITEMID_51250 -0.257294  0.773141   2.496878e-04       8.295299\n",
       "29  PROP_ITEMID_50931 -0.298792  0.741714   1.568106e-06      13.365642\n",
       "1              gender -0.302983  0.738611   1.955657e-18      40.775805\n",
       "18  PROP_ITEMID_51249 -0.417257  0.658852   2.945470e-11      24.248167\n",
       "4     MULTI_ENTRY_ICU -0.438919  0.644733   1.151114e-23      52.818727\n",
       "15  PROP_ITEMID_51221 -0.671313  0.511037   5.604600e-09      18.999678\n",
       "22  PROP_ITEMID_51279 -0.703667  0.494768   8.098853e-15      32.447054\n",
       "16  PROP_ITEMID_51222 -0.947309  0.387783   8.006868e-19      41.668817\n",
       "12          ICD9_3961 -1.252040  0.285921   5.994275e-35      78.799673\n",
       "5           ICD9_9955 -6.160161  0.002112   3.968071e-18      40.068252"
      ]
     },
     "execution_count": 69,
     "metadata": {},
     "output_type": "execute_result"
    }
   ],
   "source": [
    "est.sort_values(by=['OR'], ascending=False)"
   ]
  },
  {
   "cell_type": "code",
   "execution_count": 76,
   "metadata": {},
   "outputs": [
    {
     "data": {
      "text/plain": [
       "array([7.03479798e-03, 1.27948433e-04, 5.26562291e-01, ...,\n",
       "       8.47812624e-03, 2.56786063e-01, 1.14949410e-03])"
      ]
     },
     "execution_count": 76,
     "metadata": {},
     "output_type": "execute_result"
    }
   ],
   "source": [
    "sm_pred = logit.predict(X_test)\n",
    "sm_pred"
   ]
  },
  {
   "cell_type": "code",
   "execution_count": 83,
   "metadata": {},
   "outputs": [
    {
     "data": {
      "text/plain": [
       "array([[10354,   245],\n",
       "       [  884,   313]])"
      ]
     },
     "execution_count": 83,
     "metadata": {},
     "output_type": "execute_result"
    }
   ],
   "source": [
    "cnf_matrix = metrics.confusion_matrix(y_test,  sm_pred.round())\n",
    "cnf_matrix"
   ]
  },
  {
   "cell_type": "code",
   "execution_count": 82,
   "metadata": {},
   "outputs": [
    {
     "data": {
      "text/plain": [
       "Text(0.5, 225.76, 'Predicted label')"
      ]
     },
     "execution_count": 82,
     "metadata": {},
     "output_type": "execute_result"
    },
    {
     "data": {
      "image/png": "[encoded data removed]",
      "text/plain": [
       "<Figure size 360x252 with 2 Axes>"
      ]
     },
     "metadata": {},
     "output_type": "display_data"
    }
   ],
   "source": [
    "sns.set(rc={'figure.figsize':(5,3.5)})\n",
    "class_names=[0,1] # name  of classes\n",
    "fig, ax = plt.subplots()\n",
    "tick_marks = np.arange(len(class_names))\n",
    "plt.xticks(tick_marks, class_names)\n",
    "plt.yticks(tick_marks, class_names)\n",
    "# create heatmap\n",
    "sns.heatmap(pd.DataFrame(cnf_matrix), annot=True, cmap=\"YlGnBu\" ,fmt='g')\n",
    "ax.xaxis.set_label_position(\"top\")\n",
    "plt.tight_layout()\n",
    "plt.title('Confusion matrix', y=1.1)\n",
    "plt.ylabel('Actual label')\n",
    "plt.xlabel('Predicted label')"
   ]
  },
  {
   "cell_type": "code",
   "execution_count": 84,
   "metadata": {},
   "outputs": [
    {
     "name": "stdout",
     "output_type": "stream",
     "text": [
      "Statmodel Logistic auc score: 0.6191858313582805\n"
     ]
    }
   ],
   "source": [
    "print(\"Statmodel Logistic auc score:\", roc_auc_score(y_test, sm_pred.round()))"
   ]
  },
  {
   "cell_type": "code",
   "execution_count": 85,
   "metadata": {},
   "outputs": [
    {
     "name": "stdout",
     "output_type": "stream",
     "text": [
      "Statmodel Logistic Accuracy: 0.9042895896914208\n",
      "Statmodel Logistic Precision: 0.5609318996415771\n",
      "Statmodel Logistic Recall: 0.26148705096073516\n",
      "              precision    recall  f1-score   support\n",
      "\n",
      "           0       0.92      0.98      0.95     10599\n",
      "           1       0.56      0.26      0.36      1197\n",
      "\n",
      "    accuracy                           0.90     11796\n",
      "   macro avg       0.74      0.62      0.65     11796\n",
      "weighted avg       0.88      0.90      0.89     11796\n",
      "\n"
     ]
    }
   ],
   "source": [
    "print(\"Statmodel Logistic Accuracy:\", accuracy_score(y_test, sm_pred.round()))\n",
    "print(\"Statmodel Logistic Precision:\", precision_score(y_test, sm_pred.round()))\n",
    "print(\"Statmodel Logistic Recall:\", recall_score(y_test, sm_pred.round()))\n",
    "print(classification_report(y_test, sm_pred.round()))"
   ]
  },
  {
   "cell_type": "markdown",
   "metadata": {},
   "source": [
    "### Random forest hyperparameter tuning"
   ]
  },
  {
   "cell_type": "code",
   "execution_count": 21,
   "metadata": {},
   "outputs": [
    {
     "name": "stdout",
     "output_type": "stream",
     "text": [
      "{'class_weight': ['balanced', 'balanced_subsample'],\n",
      " 'max_depth': [100, 300, 500, None],\n",
      " 'n_estimators': [600, 800, 1000]}\n"
     ]
    }
   ],
   "source": [
    "# Number of trees in random forest\n",
    "n_estimators = [int(x) for x in np.linspace(start = 600, stop = 1000, num = 3)]\n",
    "# Maximum number of levels in tree\n",
    "max_depth = [int(x) for x in np.linspace(100,500, num = 3)]\n",
    "max_depth.append(None)\n",
    "# Method of selecting samples for training each tree\n",
    "bootstrap = [True]\n",
    "class_weight = [\"balanced\", \"balanced_subsample\"]\n",
    "# Create the random grid\n",
    "random_grid = {'n_estimators': n_estimators,\n",
    "               'max_depth': max_depth,\n",
    "               'class_weight': class_weight}\n",
    "pprint(random_grid)"
   ]
  },
  {
   "cell_type": "code",
   "execution_count": 22,
   "metadata": {},
   "outputs": [
    {
     "name": "stdout",
     "output_type": "stream",
     "text": [
      "Fitting 3 folds for each of 24 candidates, totalling 72 fits\n"
     ]
    },
    {
     "name": "stderr",
     "output_type": "stream",
     "text": [
      "/opt/conda/lib/python3.7/site-packages/sklearn/model_selection/_search.py:282: UserWarning: The total space of parameters 24 is smaller than n_iter=1000. Running 24 iterations. For exhaustive searches, use GridSearchCV.\n",
      "  % (grid_size, self.n_iter, grid_size), UserWarning)\n",
      "[Parallel(n_jobs=-1)]: Using backend LokyBackend with 4 concurrent workers.\n",
      "[Parallel(n_jobs=-1)]: Done  33 tasks      | elapsed:  6.1min\n",
      "[Parallel(n_jobs=-1)]: Done  72 out of  72 | elapsed: 14.2min finished\n"
     ]
    }
   ],
   "source": [
    "# Use the random grid to search for best hyperparameters\n",
    "# First create the base model to tune\n",
    "random.seed(2021)\n",
    "randomforest = RandomForestClassifier()\n",
    "rf_random = RandomizedSearchCV(estimator = randomforest,\n",
    "                               param_distributions = random_grid, \n",
    "                               n_iter = 1000, cv = 3, verbose=2, \n",
    "                               random_state=42, n_jobs = -1, scoring='roc_auc').fit(X_train, y_train)"
   ]
  },
  {
   "cell_type": "code",
   "execution_count": 23,
   "metadata": {},
   "outputs": [
    {
     "data": {
      "text/plain": [
       "{'n_estimators': 1000, 'max_depth': 300, 'class_weight': 'balanced'}"
      ]
     },
     "execution_count": 23,
     "metadata": {},
     "output_type": "execute_result"
    }
   ],
   "source": [
    "rf_random.best_params_"
   ]
  },
  {
   "cell_type": "code",
   "execution_count": 24,
   "metadata": {},
   "outputs": [],
   "source": [
    "y_pred = rf_random.best_estimator_.predict(X_test)"
   ]
  },
  {
   "cell_type": "code",
   "execution_count": 25,
   "metadata": {},
   "outputs": [],
   "source": [
    "cnf_matrix = metrics.confusion_matrix(y_test, y_pred)"
   ]
  },
  {
   "cell_type": "code",
   "execution_count": 26,
   "metadata": {},
   "outputs": [
    {
     "data": {
      "text/plain": [
       "Text(0.5, 225.76, 'Predicted label')"
      ]
     },
     "execution_count": 26,
     "metadata": {},
     "output_type": "execute_result"
    },
    {
     "data": {
      "image/png": "[encoded data removed]",
      "text/plain": [
       "<Figure size 360x252 with 2 Axes>"
      ]
     },
     "metadata": {},
     "output_type": "display_data"
    }
   ],
   "source": [
    "sns.set(rc={'figure.figsize':(5,3.5)})\n",
    "class_names=[0,1] # name  of classes\n",
    "fig, ax = plt.subplots()\n",
    "tick_marks = np.arange(len(class_names))\n",
    "plt.xticks(tick_marks, class_names)\n",
    "plt.yticks(tick_marks, class_names)\n",
    "# create heatmap\n",
    "sns.heatmap(pd.DataFrame(cnf_matrix), annot=True, cmap=\"YlGnBu\" ,fmt='g')\n",
    "ax.xaxis.set_label_position(\"top\")\n",
    "plt.tight_layout()\n",
    "plt.title('Confusion matrix', y=1.1)\n",
    "plt.ylabel('Actual label')\n",
    "plt.xlabel('Predicted label')"
   ]
  },
  {
   "cell_type": "code",
   "execution_count": 42,
   "metadata": {},
   "outputs": [
    {
     "name": "stdout",
     "output_type": "stream",
     "text": [
      "Random forest auc score: 0.6301028304320572\n"
     ]
    }
   ],
   "source": [
    "print(\"Random forest auc score:\", roc_auc_score(y_test, y_pred))"
   ]
  },
  {
   "cell_type": "code",
   "execution_count": 39,
   "metadata": {},
   "outputs": [
    {
     "name": "stdout",
     "output_type": "stream",
     "text": [
      "Random forest Accuracy: 0.921244489657511\n",
      "Random forest Precision: 0.8661202185792349\n",
      "Random forest Recall: 0.264828738512949\n",
      "              precision    recall  f1-score   support\n",
      "\n",
      "           0       0.92      1.00      0.96     10599\n",
      "           1       0.87      0.26      0.41      1197\n",
      "\n",
      "    accuracy                           0.92     11796\n",
      "   macro avg       0.89      0.63      0.68     11796\n",
      "weighted avg       0.92      0.92      0.90     11796\n",
      "\n"
     ]
    }
   ],
   "source": [
    "print(\"Random forest Accuracy:\", accuracy_score(y_test, y_pred))\n",
    "print(\"Random forest Precision:\", precision_score(y_test, y_pred))\n",
    "print(\"Random forest Recall:\", recall_score(y_test, y_pred))\n",
    "print(classification_report(y_test,y_pred))"
   ]
  },
  {
   "cell_type": "code",
   "execution_count": 29,
   "metadata": {},
   "outputs": [],
   "source": [
    "feature_imp = pd.Series(rf_random.best_estimator_.feature_importances_,index=X.columns).sort_values(ascending=False)"
   ]
  },
  {
   "cell_type": "code",
   "execution_count": 30,
   "metadata": {
    "scrolled": true
   },
   "outputs": [
    {
     "data": {
      "image/png": "[encoded data removed]",
      "text/plain": [
       "<Figure size 720x864 with 1 Axes>"
      ]
     },
     "metadata": {},
     "output_type": "display_data"
    }
   ],
   "source": [
    "sns.set(rc={'figure.figsize':(10,12)})\n",
    "sns.barplot(x=feature_imp, y=feature_imp.index)\n",
    "plt.xlabel('Feature Importance Score')\n",
    "plt.ylabel('Features')\n",
    "plt.title(\"Visualizing Important Features\")\n",
    "plt.show()"
   ]
  },
  {
   "cell_type": "code",
   "execution_count": null,
   "metadata": {},
   "outputs": [],
   "source": []
  }
 ],
 "metadata": {
  "kernelspec": {
   "display_name": "Python 3",
   "language": "python",
   "name": "python3"
  },
  "language_info": {
   "codemirror_mode": {
    "name": "ipython",
    "version": 3
   },
   "file_extension": ".py",
   "mimetype": "text/x-python",
   "name": "python",
   "nbconvert_exporter": "python",
   "pygments_lexer": "ipython3",
   "version": "3.7.8"
  }
 },
 "nbformat": 4,
 "nbformat_minor": 4
}
