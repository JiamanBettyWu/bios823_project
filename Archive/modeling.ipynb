{
  "nbformat": 4,
  "nbformat_minor": 0,
  "metadata": {
    "colab": {
      "name": "modeling.ipynb",
      "provenance": [],
      "machine_shape": "hm",
      "authorship_tag": "ABX9TyMDOlkhiKHUNAPeUcsCEzxC",
      "include_colab_link": true
    },
    "kernelspec": {
      "name": "python3",
      "display_name": "Python 3"
    },
    "language_info": {
      "name": "python"
    }
  },
  "cells": [
    {
      "cell_type": "markdown",
      "metadata": {
        "id": "view-in-github",
        "colab_type": "text"
      },
      "source": [
        "<a href=\"https://colab.research.google.com/github/JiamanBettyWu/bios823_project/blob/betty/modeling.ipynb\" target=\"_parent\"><img src=\"https://colab.research.google.com/assets/colab-badge.svg\" alt=\"Open In Colab\"/></a>"
      ]
    },
    {
      "cell_type": "code",
      "metadata": {
        "colab": {
          "base_uri": "https://localhost:8080/"
        },
        "id": "CywHwwSQdILU",
        "outputId": "e68992c3-6ba7-4908-8fec-088cc6ab9945"
      },
      "source": [
        "from google.colab import drive\n",
        "drive.mount('/content/drive')"
      ],
      "execution_count": 1,
      "outputs": [
        {
          "output_type": "stream",
          "name": "stdout",
          "text": [
            "Mounted at /content/drive\n"
          ]
        }
      ]
    },
    {
      "cell_type": "code",
      "metadata": {
        "id": "aeKsF9qidWyo"
      },
      "source": [
        "import sys\n",
        "sys.path.append('/content/drive/MyDrive/BIOS823/BIOS823 Final Project')"
      ],
      "execution_count": 2,
      "outputs": []
    },
    {
      "cell_type": "code",
      "metadata": {
        "id": "oPb_UAbhdmaB"
      },
      "source": [
        "import pandas as pd\n",
        "import numpy as np\n",
        "from sklearn.preprocessing import LabelEncoder\n",
        "from sklearn.model_selection import train_test_split\n",
        "from sklearn.preprocessing import StandardScaler\n",
        "from sklearn.neural_network import MLPClassifier\n",
        "\n",
        "from sklearn.metrics import confusion_matrix\n",
        "from sklearn.metrics import roc_auc_score\n",
        "from sklearn.model_selection import GridSearchCV\n",
        "\n",
        "from sklearn.metrics import classification_report, confusion_matrix, accuracy_score,  roc_auc_score, f1_score, precision_score, recall_score\n",
        "import matplotlib.pyplot as plt\n",
        "import seaborn as sns\n",
        "\n",
        "\n",
        "import joblib"
      ],
      "execution_count": 47,
      "outputs": []
    },
    {
      "cell_type": "code",
      "metadata": {
        "id": "xRFqi70OdpPk"
      },
      "source": [
        "dat = pd.read_csv(\"/content/drive/MyDrive/BIOS823/BIOS823 Final Project/MIMIC_cleaned.csv\")"
      ],
      "execution_count": 4,
      "outputs": []
    },
    {
      "cell_type": "code",
      "metadata": {
        "colab": {
          "base_uri": "https://localhost:8080/",
          "height": 376
        },
        "id": "jWWDgk06d0JR",
        "outputId": "d9222c05-1c7a-4556-d482-4e5cf8f1e604"
      },
      "source": [
        "dat.head()"
      ],
      "execution_count": null,
      "outputs": [
        {
          "output_type": "execute_result",
          "data": {
            "text/html": [
              "<div>\n",
              "<style scoped>\n",
              "    .dataframe tbody tr th:only-of-type {\n",
              "        vertical-align: middle;\n",
              "    }\n",
              "\n",
              "    .dataframe tbody tr th {\n",
              "        vertical-align: top;\n",
              "    }\n",
              "\n",
              "    .dataframe thead th {\n",
              "        text-align: right;\n",
              "    }\n",
              "</style>\n",
              "<table border=\"1\" class=\"dataframe\">\n",
              "  <thead>\n",
              "    <tr style=\"text-align: right;\">\n",
              "      <th></th>\n",
              "      <th>SUBJECT_ID</th>\n",
              "      <th>HADM_ID</th>\n",
              "      <th>ADMITTIME</th>\n",
              "      <th>DISCHTIME</th>\n",
              "      <th>ETHNICITY</th>\n",
              "      <th>DIAGNOSIS</th>\n",
              "      <th>HOSPITAL_EXPIRE_FLAG</th>\n",
              "      <th>GENDER</th>\n",
              "      <th>DOB</th>\n",
              "      <th>AGE_ON_AD</th>\n",
              "      <th>SERVICES</th>\n",
              "      <th>ICU_STAY_DAYS</th>\n",
              "      <th>MULTI_ENTRY_ICU</th>\n",
              "      <th>ICD9_9955</th>\n",
              "      <th>ICD9_3893</th>\n",
              "      <th>ICD9_9604</th>\n",
              "      <th>ICD9_966</th>\n",
              "      <th>ICD9_9672</th>\n",
              "      <th>ICD9_9904</th>\n",
              "      <th>ICD9_9671</th>\n",
              "      <th>ICD9_3961</th>\n",
              "      <th>ICD9_8856</th>\n",
              "      <th>ICD9_3891</th>\n",
              "      <th>TOTAL_ITEMID_51221</th>\n",
              "      <th>TOTAL_ITEMID_51222</th>\n",
              "      <th>TOTAL_ITEMID_51248</th>\n",
              "      <th>TOTAL_ITEMID_51249</th>\n",
              "      <th>TOTAL_ITEMID_51250</th>\n",
              "      <th>TOTAL_ITEMID_51265</th>\n",
              "      <th>TOTAL_ITEMID_51277</th>\n",
              "      <th>TOTAL_ITEMID_51279</th>\n",
              "      <th>TOTAL_ITEMID_51301</th>\n",
              "      <th>TOTAL_ITEMID_50820</th>\n",
              "      <th>TOTAL_ITEMID_50868</th>\n",
              "      <th>TOTAL_ITEMID_50882</th>\n",
              "      <th>TOTAL_ITEMID_50902</th>\n",
              "      <th>TOTAL_ITEMID_50912</th>\n",
              "      <th>TOTAL_ITEMID_50931</th>\n",
              "      <th>TOTAL_ITEMID_50960</th>\n",
              "      <th>TOTAL_ITEMID_50970</th>\n",
              "      <th>...</th>\n",
              "      <th>ABNORMAL_ITEMID_51221</th>\n",
              "      <th>ABNORMAL_ITEMID_51222</th>\n",
              "      <th>ABNORMAL_ITEMID_51248</th>\n",
              "      <th>ABNORMAL_ITEMID_51249</th>\n",
              "      <th>ABNORMAL_ITEMID_51250</th>\n",
              "      <th>ABNORMAL_ITEMID_51265</th>\n",
              "      <th>ABNORMAL_ITEMID_51277</th>\n",
              "      <th>ABNORMAL_ITEMID_51279</th>\n",
              "      <th>ABNORMAL_ITEMID_51301</th>\n",
              "      <th>ABNORMAL_ITEMID_50820</th>\n",
              "      <th>ABNORMAL_ITEMID_50868</th>\n",
              "      <th>ABNORMAL_ITEMID_50882</th>\n",
              "      <th>ABNORMAL_ITEMID_50902</th>\n",
              "      <th>ABNORMAL_ITEMID_50912</th>\n",
              "      <th>ABNORMAL_ITEMID_50931</th>\n",
              "      <th>ABNORMAL_ITEMID_50960</th>\n",
              "      <th>ABNORMAL_ITEMID_50970</th>\n",
              "      <th>ABNORMAL_ITEMID_50971</th>\n",
              "      <th>ABNORMAL_ITEMID_50983</th>\n",
              "      <th>ABNORMAL_ITEMID_51006</th>\n",
              "      <th>PROP_ITEMID_51221</th>\n",
              "      <th>PROP_ITEMID_51222</th>\n",
              "      <th>PROP_ITEMID_51248</th>\n",
              "      <th>PROP_ITEMID_51249</th>\n",
              "      <th>PROP_ITEMID_51250</th>\n",
              "      <th>PROP_ITEMID_51265</th>\n",
              "      <th>PROP_ITEMID_51277</th>\n",
              "      <th>PROP_ITEMID_51279</th>\n",
              "      <th>PROP_ITEMID_51301</th>\n",
              "      <th>PROP_ITEMID_50820</th>\n",
              "      <th>PROP_ITEMID_50868</th>\n",
              "      <th>PROP_ITEMID_50882</th>\n",
              "      <th>PROP_ITEMID_50902</th>\n",
              "      <th>PROP_ITEMID_50912</th>\n",
              "      <th>PROP_ITEMID_50931</th>\n",
              "      <th>PROP_ITEMID_50960</th>\n",
              "      <th>PROP_ITEMID_50970</th>\n",
              "      <th>PROP_ITEMID_50971</th>\n",
              "      <th>PROP_ITEMID_50983</th>\n",
              "      <th>PROP_ITEMID_51006</th>\n",
              "    </tr>\n",
              "  </thead>\n",
              "  <tbody>\n",
              "    <tr>\n",
              "      <th>0</th>\n",
              "      <td>22</td>\n",
              "      <td>165315</td>\n",
              "      <td>2196-04-09T12:26:00Z</td>\n",
              "      <td>2196-04-10T15:54:00Z</td>\n",
              "      <td>WHITE</td>\n",
              "      <td>BENZODIAZEPINE OVERDOSE</td>\n",
              "      <td>0</td>\n",
              "      <td>F</td>\n",
              "      <td>2131-05-07T00:00:00Z</td>\n",
              "      <td>64.926812</td>\n",
              "      <td>MED</td>\n",
              "      <td>1.1438</td>\n",
              "      <td>False</td>\n",
              "      <td>0.0</td>\n",
              "      <td>0.0</td>\n",
              "      <td>1.0</td>\n",
              "      <td>0.0</td>\n",
              "      <td>0.0</td>\n",
              "      <td>0.0</td>\n",
              "      <td>1.0</td>\n",
              "      <td>0.0</td>\n",
              "      <td>0.0</td>\n",
              "      <td>0.0</td>\n",
              "      <td>1.0</td>\n",
              "      <td>1.0</td>\n",
              "      <td>1.0</td>\n",
              "      <td>1.0</td>\n",
              "      <td>1.0</td>\n",
              "      <td>1.0</td>\n",
              "      <td>1.0</td>\n",
              "      <td>1.0</td>\n",
              "      <td>1.0</td>\n",
              "      <td>1.0</td>\n",
              "      <td>2.0</td>\n",
              "      <td>2.0</td>\n",
              "      <td>2.0</td>\n",
              "      <td>2.0</td>\n",
              "      <td>2.0</td>\n",
              "      <td>2.0</td>\n",
              "      <td>2.0</td>\n",
              "      <td>...</td>\n",
              "      <td>1.0</td>\n",
              "      <td>0.0</td>\n",
              "      <td>0.0</td>\n",
              "      <td>0.0</td>\n",
              "      <td>0.0</td>\n",
              "      <td>0.0</td>\n",
              "      <td>0.0</td>\n",
              "      <td>1.0</td>\n",
              "      <td>0.0</td>\n",
              "      <td>0.0</td>\n",
              "      <td>0.0</td>\n",
              "      <td>0.0</td>\n",
              "      <td>0.0</td>\n",
              "      <td>0.0</td>\n",
              "      <td>1.0</td>\n",
              "      <td>0.0</td>\n",
              "      <td>0.0</td>\n",
              "      <td>1.0</td>\n",
              "      <td>0.0</td>\n",
              "      <td>0.0</td>\n",
              "      <td>1.0</td>\n",
              "      <td>0.0</td>\n",
              "      <td>0.000000</td>\n",
              "      <td>0.000000</td>\n",
              "      <td>0.0</td>\n",
              "      <td>0.000</td>\n",
              "      <td>0.0</td>\n",
              "      <td>1.0</td>\n",
              "      <td>0.000000</td>\n",
              "      <td>0.000000</td>\n",
              "      <td>0.000000</td>\n",
              "      <td>0.000000</td>\n",
              "      <td>0.000000</td>\n",
              "      <td>0.000000</td>\n",
              "      <td>0.500000</td>\n",
              "      <td>0.0</td>\n",
              "      <td>0.000</td>\n",
              "      <td>0.50</td>\n",
              "      <td>0.0</td>\n",
              "      <td>0.000000</td>\n",
              "    </tr>\n",
              "    <tr>\n",
              "      <th>1</th>\n",
              "      <td>23</td>\n",
              "      <td>152223</td>\n",
              "      <td>2153-09-03T07:15:00Z</td>\n",
              "      <td>2153-09-08T19:10:00Z</td>\n",
              "      <td>WHITE</td>\n",
              "      <td>CORONARY ARTERY DISEASE\\CORONARY ARTERY BYPASS...</td>\n",
              "      <td>0</td>\n",
              "      <td>M</td>\n",
              "      <td>2082-07-17T00:00:00Z</td>\n",
              "      <td>71.130191</td>\n",
              "      <td>CSURG</td>\n",
              "      <td>1.2641</td>\n",
              "      <td>False</td>\n",
              "      <td>0.0</td>\n",
              "      <td>0.0</td>\n",
              "      <td>0.0</td>\n",
              "      <td>0.0</td>\n",
              "      <td>0.0</td>\n",
              "      <td>1.0</td>\n",
              "      <td>0.0</td>\n",
              "      <td>1.0</td>\n",
              "      <td>0.0</td>\n",
              "      <td>0.0</td>\n",
              "      <td>9.0</td>\n",
              "      <td>3.0</td>\n",
              "      <td>3.0</td>\n",
              "      <td>3.0</td>\n",
              "      <td>3.0</td>\n",
              "      <td>4.0</td>\n",
              "      <td>3.0</td>\n",
              "      <td>3.0</td>\n",
              "      <td>3.0</td>\n",
              "      <td>13.0</td>\n",
              "      <td>2.0</td>\n",
              "      <td>3.0</td>\n",
              "      <td>3.0</td>\n",
              "      <td>4.0</td>\n",
              "      <td>3.0</td>\n",
              "      <td>6.0</td>\n",
              "      <td>1.0</td>\n",
              "      <td>...</td>\n",
              "      <td>9.0</td>\n",
              "      <td>3.0</td>\n",
              "      <td>1.0</td>\n",
              "      <td>3.0</td>\n",
              "      <td>0.0</td>\n",
              "      <td>4.0</td>\n",
              "      <td>0.0</td>\n",
              "      <td>3.0</td>\n",
              "      <td>0.0</td>\n",
              "      <td>8.0</td>\n",
              "      <td>0.0</td>\n",
              "      <td>0.0</td>\n",
              "      <td>2.0</td>\n",
              "      <td>0.0</td>\n",
              "      <td>3.0</td>\n",
              "      <td>0.0</td>\n",
              "      <td>0.0</td>\n",
              "      <td>0.0</td>\n",
              "      <td>0.0</td>\n",
              "      <td>0.0</td>\n",
              "      <td>1.0</td>\n",
              "      <td>1.0</td>\n",
              "      <td>0.333333</td>\n",
              "      <td>1.000000</td>\n",
              "      <td>0.0</td>\n",
              "      <td>1.000</td>\n",
              "      <td>0.0</td>\n",
              "      <td>1.0</td>\n",
              "      <td>0.000000</td>\n",
              "      <td>0.615385</td>\n",
              "      <td>0.000000</td>\n",
              "      <td>0.000000</td>\n",
              "      <td>0.666667</td>\n",
              "      <td>0.000000</td>\n",
              "      <td>1.000000</td>\n",
              "      <td>0.0</td>\n",
              "      <td>0.000</td>\n",
              "      <td>0.00</td>\n",
              "      <td>0.0</td>\n",
              "      <td>0.000000</td>\n",
              "    </tr>\n",
              "    <tr>\n",
              "      <th>2</th>\n",
              "      <td>23</td>\n",
              "      <td>124321</td>\n",
              "      <td>2157-10-18T19:34:00Z</td>\n",
              "      <td>2157-10-25T14:00:00Z</td>\n",
              "      <td>WHITE</td>\n",
              "      <td>BRAIN MASS</td>\n",
              "      <td>0</td>\n",
              "      <td>M</td>\n",
              "      <td>2082-07-17T00:00:00Z</td>\n",
              "      <td>75.254799</td>\n",
              "      <td>NSURG</td>\n",
              "      <td>1.1862</td>\n",
              "      <td>True</td>\n",
              "      <td>NaN</td>\n",
              "      <td>NaN</td>\n",
              "      <td>NaN</td>\n",
              "      <td>NaN</td>\n",
              "      <td>NaN</td>\n",
              "      <td>NaN</td>\n",
              "      <td>NaN</td>\n",
              "      <td>NaN</td>\n",
              "      <td>NaN</td>\n",
              "      <td>NaN</td>\n",
              "      <td>8.0</td>\n",
              "      <td>8.0</td>\n",
              "      <td>8.0</td>\n",
              "      <td>8.0</td>\n",
              "      <td>8.0</td>\n",
              "      <td>8.0</td>\n",
              "      <td>8.0</td>\n",
              "      <td>8.0</td>\n",
              "      <td>8.0</td>\n",
              "      <td>2.0</td>\n",
              "      <td>8.0</td>\n",
              "      <td>8.0</td>\n",
              "      <td>8.0</td>\n",
              "      <td>8.0</td>\n",
              "      <td>8.0</td>\n",
              "      <td>8.0</td>\n",
              "      <td>8.0</td>\n",
              "      <td>...</td>\n",
              "      <td>8.0</td>\n",
              "      <td>8.0</td>\n",
              "      <td>3.0</td>\n",
              "      <td>6.0</td>\n",
              "      <td>0.0</td>\n",
              "      <td>1.0</td>\n",
              "      <td>0.0</td>\n",
              "      <td>8.0</td>\n",
              "      <td>4.0</td>\n",
              "      <td>0.0</td>\n",
              "      <td>0.0</td>\n",
              "      <td>0.0</td>\n",
              "      <td>0.0</td>\n",
              "      <td>0.0</td>\n",
              "      <td>8.0</td>\n",
              "      <td>0.0</td>\n",
              "      <td>3.0</td>\n",
              "      <td>0.0</td>\n",
              "      <td>0.0</td>\n",
              "      <td>3.0</td>\n",
              "      <td>1.0</td>\n",
              "      <td>1.0</td>\n",
              "      <td>0.375000</td>\n",
              "      <td>0.750000</td>\n",
              "      <td>0.0</td>\n",
              "      <td>0.125</td>\n",
              "      <td>0.0</td>\n",
              "      <td>1.0</td>\n",
              "      <td>0.500000</td>\n",
              "      <td>0.000000</td>\n",
              "      <td>0.000000</td>\n",
              "      <td>0.000000</td>\n",
              "      <td>0.000000</td>\n",
              "      <td>0.000000</td>\n",
              "      <td>1.000000</td>\n",
              "      <td>0.0</td>\n",
              "      <td>0.375</td>\n",
              "      <td>0.00</td>\n",
              "      <td>0.0</td>\n",
              "      <td>0.375000</td>\n",
              "    </tr>\n",
              "    <tr>\n",
              "      <th>3</th>\n",
              "      <td>24</td>\n",
              "      <td>161859</td>\n",
              "      <td>2139-06-06T16:14:00Z</td>\n",
              "      <td>2139-06-09T12:48:00Z</td>\n",
              "      <td>WHITE</td>\n",
              "      <td>INTERIOR MYOCARDIAL INFARCTION</td>\n",
              "      <td>0</td>\n",
              "      <td>M</td>\n",
              "      <td>2100-05-31T00:00:00Z</td>\n",
              "      <td>39.016226</td>\n",
              "      <td>CMED</td>\n",
              "      <td>0.5124</td>\n",
              "      <td>False</td>\n",
              "      <td>0.0</td>\n",
              "      <td>0.0</td>\n",
              "      <td>0.0</td>\n",
              "      <td>0.0</td>\n",
              "      <td>0.0</td>\n",
              "      <td>0.0</td>\n",
              "      <td>0.0</td>\n",
              "      <td>0.0</td>\n",
              "      <td>1.0</td>\n",
              "      <td>0.0</td>\n",
              "      <td>3.0</td>\n",
              "      <td>3.0</td>\n",
              "      <td>3.0</td>\n",
              "      <td>3.0</td>\n",
              "      <td>3.0</td>\n",
              "      <td>4.0</td>\n",
              "      <td>3.0</td>\n",
              "      <td>3.0</td>\n",
              "      <td>3.0</td>\n",
              "      <td>1.0</td>\n",
              "      <td>4.0</td>\n",
              "      <td>4.0</td>\n",
              "      <td>4.0</td>\n",
              "      <td>4.0</td>\n",
              "      <td>4.0</td>\n",
              "      <td>4.0</td>\n",
              "      <td>4.0</td>\n",
              "      <td>...</td>\n",
              "      <td>0.0</td>\n",
              "      <td>0.0</td>\n",
              "      <td>1.0</td>\n",
              "      <td>1.0</td>\n",
              "      <td>0.0</td>\n",
              "      <td>0.0</td>\n",
              "      <td>0.0</td>\n",
              "      <td>3.0</td>\n",
              "      <td>0.0</td>\n",
              "      <td>0.0</td>\n",
              "      <td>0.0</td>\n",
              "      <td>0.0</td>\n",
              "      <td>0.0</td>\n",
              "      <td>0.0</td>\n",
              "      <td>2.0</td>\n",
              "      <td>0.0</td>\n",
              "      <td>0.0</td>\n",
              "      <td>0.0</td>\n",
              "      <td>0.0</td>\n",
              "      <td>0.0</td>\n",
              "      <td>0.0</td>\n",
              "      <td>0.0</td>\n",
              "      <td>0.333333</td>\n",
              "      <td>0.333333</td>\n",
              "      <td>0.0</td>\n",
              "      <td>0.000</td>\n",
              "      <td>0.0</td>\n",
              "      <td>1.0</td>\n",
              "      <td>0.000000</td>\n",
              "      <td>0.000000</td>\n",
              "      <td>0.000000</td>\n",
              "      <td>0.000000</td>\n",
              "      <td>0.000000</td>\n",
              "      <td>0.000000</td>\n",
              "      <td>0.500000</td>\n",
              "      <td>0.0</td>\n",
              "      <td>0.000</td>\n",
              "      <td>0.00</td>\n",
              "      <td>0.0</td>\n",
              "      <td>0.000000</td>\n",
              "    </tr>\n",
              "    <tr>\n",
              "      <th>4</th>\n",
              "      <td>25</td>\n",
              "      <td>129635</td>\n",
              "      <td>2160-11-02T02:06:00Z</td>\n",
              "      <td>2160-11-05T14:55:00Z</td>\n",
              "      <td>WHITE</td>\n",
              "      <td>ACUTE CORONARY SYNDROME</td>\n",
              "      <td>0</td>\n",
              "      <td>M</td>\n",
              "      <td>2101-11-21T00:00:00Z</td>\n",
              "      <td>58.948905</td>\n",
              "      <td>CMED</td>\n",
              "      <td>3.5466</td>\n",
              "      <td>False</td>\n",
              "      <td>0.0</td>\n",
              "      <td>0.0</td>\n",
              "      <td>0.0</td>\n",
              "      <td>0.0</td>\n",
              "      <td>0.0</td>\n",
              "      <td>0.0</td>\n",
              "      <td>0.0</td>\n",
              "      <td>0.0</td>\n",
              "      <td>2.0</td>\n",
              "      <td>0.0</td>\n",
              "      <td>9.0</td>\n",
              "      <td>7.0</td>\n",
              "      <td>7.0</td>\n",
              "      <td>7.0</td>\n",
              "      <td>7.0</td>\n",
              "      <td>8.0</td>\n",
              "      <td>7.0</td>\n",
              "      <td>7.0</td>\n",
              "      <td>7.0</td>\n",
              "      <td>8.0</td>\n",
              "      <td>9.0</td>\n",
              "      <td>9.0</td>\n",
              "      <td>9.0</td>\n",
              "      <td>9.0</td>\n",
              "      <td>9.0</td>\n",
              "      <td>8.0</td>\n",
              "      <td>8.0</td>\n",
              "      <td>...</td>\n",
              "      <td>9.0</td>\n",
              "      <td>7.0</td>\n",
              "      <td>0.0</td>\n",
              "      <td>4.0</td>\n",
              "      <td>0.0</td>\n",
              "      <td>1.0</td>\n",
              "      <td>0.0</td>\n",
              "      <td>7.0</td>\n",
              "      <td>4.0</td>\n",
              "      <td>5.0</td>\n",
              "      <td>1.0</td>\n",
              "      <td>2.0</td>\n",
              "      <td>3.0</td>\n",
              "      <td>4.0</td>\n",
              "      <td>8.0</td>\n",
              "      <td>0.0</td>\n",
              "      <td>5.0</td>\n",
              "      <td>3.0</td>\n",
              "      <td>0.0</td>\n",
              "      <td>7.0</td>\n",
              "      <td>1.0</td>\n",
              "      <td>1.0</td>\n",
              "      <td>0.000000</td>\n",
              "      <td>0.571429</td>\n",
              "      <td>0.0</td>\n",
              "      <td>0.125</td>\n",
              "      <td>0.0</td>\n",
              "      <td>1.0</td>\n",
              "      <td>0.571429</td>\n",
              "      <td>0.625000</td>\n",
              "      <td>0.111111</td>\n",
              "      <td>0.222222</td>\n",
              "      <td>0.333333</td>\n",
              "      <td>0.444444</td>\n",
              "      <td>0.888889</td>\n",
              "      <td>0.0</td>\n",
              "      <td>0.625</td>\n",
              "      <td>0.25</td>\n",
              "      <td>0.0</td>\n",
              "      <td>0.777778</td>\n",
              "    </tr>\n",
              "  </tbody>\n",
              "</table>\n",
              "<p>5 rows × 83 columns</p>\n",
              "</div>"
            ],
            "text/plain": [
              "   SUBJECT_ID  HADM_ID  ... PROP_ITEMID_50983 PROP_ITEMID_51006\n",
              "0          22   165315  ...               0.0          0.000000\n",
              "1          23   152223  ...               0.0          0.000000\n",
              "2          23   124321  ...               0.0          0.375000\n",
              "3          24   161859  ...               0.0          0.000000\n",
              "4          25   129635  ...               0.0          0.777778\n",
              "\n",
              "[5 rows x 83 columns]"
            ]
          },
          "metadata": {},
          "execution_count": 8
        }
      ]
    },
    {
      "cell_type": "code",
      "metadata": {
        "colab": {
          "base_uri": "https://localhost:8080/"
        },
        "id": "EOOA1Qx7qxwA",
        "outputId": "e9c473e8-a946-4844-cc85-ef22ad1e444d"
      },
      "source": [
        "dat.shape"
      ],
      "execution_count": null,
      "outputs": [
        {
          "output_type": "execute_result",
          "data": {
            "text/plain": [
              "(58976, 83)"
            ]
          },
          "metadata": {},
          "execution_count": 9
        }
      ]
    },
    {
      "cell_type": "code",
      "metadata": {
        "colab": {
          "base_uri": "https://localhost:8080/",
          "height": 320
        },
        "id": "c3ZC2pJuqrty",
        "outputId": "92161f0e-201a-4e93-90c5-4a628a69672b"
      },
      "source": [
        "dat.describe()"
      ],
      "execution_count": null,
      "outputs": [
        {
          "output_type": "execute_result",
          "data": {
            "text/html": [
              "<div>\n",
              "<style scoped>\n",
              "    .dataframe tbody tr th:only-of-type {\n",
              "        vertical-align: middle;\n",
              "    }\n",
              "\n",
              "    .dataframe tbody tr th {\n",
              "        vertical-align: top;\n",
              "    }\n",
              "\n",
              "    .dataframe thead th {\n",
              "        text-align: right;\n",
              "    }\n",
              "</style>\n",
              "<table border=\"1\" class=\"dataframe\">\n",
              "  <thead>\n",
              "    <tr style=\"text-align: right;\">\n",
              "      <th></th>\n",
              "      <th>SUBJECT_ID</th>\n",
              "      <th>HADM_ID</th>\n",
              "      <th>HOSPITAL_EXPIRE_FLAG</th>\n",
              "      <th>AGE_ON_AD</th>\n",
              "      <th>ICU_STAY_DAYS</th>\n",
              "      <th>ICD9_9955</th>\n",
              "      <th>ICD9_3893</th>\n",
              "      <th>ICD9_9604</th>\n",
              "      <th>ICD9_966</th>\n",
              "      <th>ICD9_9672</th>\n",
              "      <th>ICD9_9904</th>\n",
              "      <th>ICD9_9671</th>\n",
              "      <th>ICD9_3961</th>\n",
              "      <th>ICD9_8856</th>\n",
              "      <th>ICD9_3891</th>\n",
              "      <th>TOTAL_ITEMID_51221</th>\n",
              "      <th>TOTAL_ITEMID_51222</th>\n",
              "      <th>TOTAL_ITEMID_51248</th>\n",
              "      <th>TOTAL_ITEMID_51249</th>\n",
              "      <th>TOTAL_ITEMID_51250</th>\n",
              "      <th>TOTAL_ITEMID_51265</th>\n",
              "      <th>TOTAL_ITEMID_51277</th>\n",
              "      <th>TOTAL_ITEMID_51279</th>\n",
              "      <th>TOTAL_ITEMID_51301</th>\n",
              "      <th>TOTAL_ITEMID_50820</th>\n",
              "      <th>TOTAL_ITEMID_50868</th>\n",
              "      <th>TOTAL_ITEMID_50882</th>\n",
              "      <th>TOTAL_ITEMID_50902</th>\n",
              "      <th>TOTAL_ITEMID_50912</th>\n",
              "      <th>TOTAL_ITEMID_50931</th>\n",
              "      <th>TOTAL_ITEMID_50960</th>\n",
              "      <th>TOTAL_ITEMID_50970</th>\n",
              "      <th>TOTAL_ITEMID_50971</th>\n",
              "      <th>TOTAL_ITEMID_50983</th>\n",
              "      <th>TOTAL_ITEMID_51006</th>\n",
              "      <th>ABNORMAL_ITEMID_51221</th>\n",
              "      <th>ABNORMAL_ITEMID_51222</th>\n",
              "      <th>ABNORMAL_ITEMID_51248</th>\n",
              "      <th>ABNORMAL_ITEMID_51249</th>\n",
              "      <th>ABNORMAL_ITEMID_51250</th>\n",
              "      <th>ABNORMAL_ITEMID_51265</th>\n",
              "      <th>ABNORMAL_ITEMID_51277</th>\n",
              "      <th>ABNORMAL_ITEMID_51279</th>\n",
              "      <th>ABNORMAL_ITEMID_51301</th>\n",
              "      <th>ABNORMAL_ITEMID_50820</th>\n",
              "      <th>ABNORMAL_ITEMID_50868</th>\n",
              "      <th>ABNORMAL_ITEMID_50882</th>\n",
              "      <th>ABNORMAL_ITEMID_50902</th>\n",
              "      <th>ABNORMAL_ITEMID_50912</th>\n",
              "      <th>ABNORMAL_ITEMID_50931</th>\n",
              "      <th>ABNORMAL_ITEMID_50960</th>\n",
              "      <th>ABNORMAL_ITEMID_50970</th>\n",
              "      <th>ABNORMAL_ITEMID_50971</th>\n",
              "      <th>ABNORMAL_ITEMID_50983</th>\n",
              "      <th>ABNORMAL_ITEMID_51006</th>\n",
              "      <th>PROP_ITEMID_51221</th>\n",
              "      <th>PROP_ITEMID_51222</th>\n",
              "      <th>PROP_ITEMID_51248</th>\n",
              "      <th>PROP_ITEMID_51249</th>\n",
              "      <th>PROP_ITEMID_51250</th>\n",
              "      <th>PROP_ITEMID_51265</th>\n",
              "      <th>PROP_ITEMID_51277</th>\n",
              "      <th>PROP_ITEMID_51279</th>\n",
              "      <th>PROP_ITEMID_51301</th>\n",
              "      <th>PROP_ITEMID_50820</th>\n",
              "      <th>PROP_ITEMID_50868</th>\n",
              "      <th>PROP_ITEMID_50882</th>\n",
              "      <th>PROP_ITEMID_50902</th>\n",
              "      <th>PROP_ITEMID_50912</th>\n",
              "      <th>PROP_ITEMID_50931</th>\n",
              "      <th>PROP_ITEMID_50960</th>\n",
              "      <th>PROP_ITEMID_50970</th>\n",
              "      <th>PROP_ITEMID_50971</th>\n",
              "      <th>PROP_ITEMID_50983</th>\n",
              "      <th>PROP_ITEMID_51006</th>\n",
              "    </tr>\n",
              "  </thead>\n",
              "  <tbody>\n",
              "    <tr>\n",
              "      <th>count</th>\n",
              "      <td>58976.000000</td>\n",
              "      <td>58976.000000</td>\n",
              "      <td>58976.000000</td>\n",
              "      <td>58976.000000</td>\n",
              "      <td>57776.000000</td>\n",
              "      <td>38582.000000</td>\n",
              "      <td>38582.000000</td>\n",
              "      <td>38582.000000</td>\n",
              "      <td>38582.000000</td>\n",
              "      <td>38582.000000</td>\n",
              "      <td>38582.000000</td>\n",
              "      <td>38582.000000</td>\n",
              "      <td>38582.000000</td>\n",
              "      <td>38582.000000</td>\n",
              "      <td>38582.000000</td>\n",
              "      <td>57305.000000</td>\n",
              "      <td>57305.000000</td>\n",
              "      <td>57305.000000</td>\n",
              "      <td>57305.000000</td>\n",
              "      <td>57305.000000</td>\n",
              "      <td>57305.000000</td>\n",
              "      <td>57305.000000</td>\n",
              "      <td>57305.000000</td>\n",
              "      <td>57305.000000</td>\n",
              "      <td>57305.000000</td>\n",
              "      <td>57305.000000</td>\n",
              "      <td>57305.000000</td>\n",
              "      <td>57305.000000</td>\n",
              "      <td>57305.000000</td>\n",
              "      <td>57305.000000</td>\n",
              "      <td>57305.000000</td>\n",
              "      <td>57305.000000</td>\n",
              "      <td>57305.000000</td>\n",
              "      <td>57305.000000</td>\n",
              "      <td>57305.000000</td>\n",
              "      <td>57305.000000</td>\n",
              "      <td>57305.000000</td>\n",
              "      <td>57305.000000</td>\n",
              "      <td>57305.000000</td>\n",
              "      <td>57305.000000</td>\n",
              "      <td>57305.000000</td>\n",
              "      <td>57305.000000</td>\n",
              "      <td>57305.000000</td>\n",
              "      <td>57305.000000</td>\n",
              "      <td>57305.000000</td>\n",
              "      <td>57305.000000</td>\n",
              "      <td>57305.000000</td>\n",
              "      <td>57305.000000</td>\n",
              "      <td>57305.000000</td>\n",
              "      <td>57305.000000</td>\n",
              "      <td>57305.000000</td>\n",
              "      <td>57305.000000</td>\n",
              "      <td>57305.000000</td>\n",
              "      <td>57305.000000</td>\n",
              "      <td>57305.000000</td>\n",
              "      <td>57305.000000</td>\n",
              "      <td>57305.000000</td>\n",
              "      <td>57305.000000</td>\n",
              "      <td>57305.000000</td>\n",
              "      <td>57305.000000</td>\n",
              "      <td>57305.000000</td>\n",
              "      <td>57305.000000</td>\n",
              "      <td>57305.000000</td>\n",
              "      <td>57305.000000</td>\n",
              "      <td>57305.000000</td>\n",
              "      <td>57305.000000</td>\n",
              "      <td>57305.000000</td>\n",
              "      <td>57305.000000</td>\n",
              "      <td>57305.000000</td>\n",
              "      <td>57305.000000</td>\n",
              "      <td>57305.000000</td>\n",
              "      <td>57305.000000</td>\n",
              "      <td>57305.000000</td>\n",
              "      <td>57305.000000</td>\n",
              "      <td>57305.000000</td>\n",
              "    </tr>\n",
              "    <tr>\n",
              "      <th>mean</th>\n",
              "      <td>33755.583288</td>\n",
              "      <td>149970.809584</td>\n",
              "      <td>0.099261</td>\n",
              "      <td>64.430758</td>\n",
              "      <td>5.236836</td>\n",
              "      <td>0.151418</td>\n",
              "      <td>0.381810</td>\n",
              "      <td>0.267819</td>\n",
              "      <td>0.241045</td>\n",
              "      <td>0.156757</td>\n",
              "      <td>0.187756</td>\n",
              "      <td>0.235861</td>\n",
              "      <td>0.177233</td>\n",
              "      <td>0.138329</td>\n",
              "      <td>0.122777</td>\n",
              "      <td>12.106937</td>\n",
              "      <td>10.069802</td>\n",
              "      <td>10.005619</td>\n",
              "      <td>10.008010</td>\n",
              "      <td>10.005567</td>\n",
              "      <td>10.452282</td>\n",
              "      <td>9.988116</td>\n",
              "      <td>10.005689</td>\n",
              "      <td>10.081494</td>\n",
              "      <td>9.154524</td>\n",
              "      <td>10.616281</td>\n",
              "      <td>10.795184</td>\n",
              "      <td>11.023087</td>\n",
              "      <td>10.812704</td>\n",
              "      <td>10.394119</td>\n",
              "      <td>9.763843</td>\n",
              "      <td>8.550563</td>\n",
              "      <td>11.689730</td>\n",
              "      <td>11.200995</td>\n",
              "      <td>10.771905</td>\n",
              "      <td>11.043626</td>\n",
              "      <td>9.142448</td>\n",
              "      <td>2.661879</td>\n",
              "      <td>2.198482</td>\n",
              "      <td>1.615042</td>\n",
              "      <td>4.060606</td>\n",
              "      <td>4.572742</td>\n",
              "      <td>9.188954</td>\n",
              "      <td>4.672646</td>\n",
              "      <td>3.412721</td>\n",
              "      <td>0.729413</td>\n",
              "      <td>3.139482</td>\n",
              "      <td>3.214152</td>\n",
              "      <td>4.303743</td>\n",
              "      <td>7.368851</td>\n",
              "      <td>0.952604</td>\n",
              "      <td>3.285891</td>\n",
              "      <td>1.310584</td>\n",
              "      <td>1.951575</td>\n",
              "      <td>6.105052</td>\n",
              "      <td>0.811593</td>\n",
              "      <td>0.833540</td>\n",
              "      <td>0.350801</td>\n",
              "      <td>0.216018</td>\n",
              "      <td>0.225673</td>\n",
              "      <td>0.273800</td>\n",
              "      <td>0.399586</td>\n",
              "      <td>0.806873</td>\n",
              "      <td>0.405611</td>\n",
              "      <td>0.261551</td>\n",
              "      <td>0.058487</td>\n",
              "      <td>0.238493</td>\n",
              "      <td>0.243379</td>\n",
              "      <td>0.279529</td>\n",
              "      <td>0.605629</td>\n",
              "      <td>0.086224</td>\n",
              "      <td>0.307228</td>\n",
              "      <td>0.104655</td>\n",
              "      <td>0.118382</td>\n",
              "      <td>0.416595</td>\n",
              "    </tr>\n",
              "    <tr>\n",
              "      <th>std</th>\n",
              "      <td>28092.726225</td>\n",
              "      <td>28883.095213</td>\n",
              "      <td>0.299014</td>\n",
              "      <td>57.198347</td>\n",
              "      <td>10.113915</td>\n",
              "      <td>0.360623</td>\n",
              "      <td>0.582495</td>\n",
              "      <td>0.470856</td>\n",
              "      <td>0.431704</td>\n",
              "      <td>0.371963</td>\n",
              "      <td>0.393827</td>\n",
              "      <td>0.437234</td>\n",
              "      <td>0.384104</td>\n",
              "      <td>0.360383</td>\n",
              "      <td>0.339215</td>\n",
              "      <td>14.259859</td>\n",
              "      <td>11.859442</td>\n",
              "      <td>11.783244</td>\n",
              "      <td>11.786011</td>\n",
              "      <td>11.783184</td>\n",
              "      <td>12.981623</td>\n",
              "      <td>11.769617</td>\n",
              "      <td>11.783247</td>\n",
              "      <td>11.870873</td>\n",
              "      <td>19.383521</td>\n",
              "      <td>13.060470</td>\n",
              "      <td>13.195680</td>\n",
              "      <td>13.447473</td>\n",
              "      <td>13.160066</td>\n",
              "      <td>13.158389</td>\n",
              "      <td>13.032870</td>\n",
              "      <td>12.160094</td>\n",
              "      <td>14.261317</td>\n",
              "      <td>13.856028</td>\n",
              "      <td>13.123008</td>\n",
              "      <td>14.227432</td>\n",
              "      <td>11.790639</td>\n",
              "      <td>5.579006</td>\n",
              "      <td>4.747584</td>\n",
              "      <td>4.401809</td>\n",
              "      <td>10.031740</td>\n",
              "      <td>9.986848</td>\n",
              "      <td>11.800619</td>\n",
              "      <td>8.185210</td>\n",
              "      <td>8.617164</td>\n",
              "      <td>2.361057</td>\n",
              "      <td>6.106399</td>\n",
              "      <td>5.870068</td>\n",
              "      <td>9.427704</td>\n",
              "      <td>10.295676</td>\n",
              "      <td>2.333665</td>\n",
              "      <td>5.731314</td>\n",
              "      <td>2.658228</td>\n",
              "      <td>4.815333</td>\n",
              "      <td>10.988554</td>\n",
              "      <td>0.320891</td>\n",
              "      <td>0.302453</td>\n",
              "      <td>0.431055</td>\n",
              "      <td>0.301046</td>\n",
              "      <td>0.383428</td>\n",
              "      <td>0.349044</td>\n",
              "      <td>0.455942</td>\n",
              "      <td>0.339710</td>\n",
              "      <td>0.360920</td>\n",
              "      <td>0.338676</td>\n",
              "      <td>0.151993</td>\n",
              "      <td>0.298720</td>\n",
              "      <td>0.286536</td>\n",
              "      <td>0.392508</td>\n",
              "      <td>0.343125</td>\n",
              "      <td>0.173735</td>\n",
              "      <td>0.310155</td>\n",
              "      <td>0.179161</td>\n",
              "      <td>0.213524</td>\n",
              "      <td>0.405558</td>\n",
              "    </tr>\n",
              "    <tr>\n",
              "      <th>min</th>\n",
              "      <td>2.000000</td>\n",
              "      <td>100001.000000</td>\n",
              "      <td>0.000000</td>\n",
              "      <td>0.000000</td>\n",
              "      <td>0.000200</td>\n",
              "      <td>0.000000</td>\n",
              "      <td>0.000000</td>\n",
              "      <td>0.000000</td>\n",
              "      <td>0.000000</td>\n",
              "      <td>0.000000</td>\n",
              "      <td>0.000000</td>\n",
              "      <td>0.000000</td>\n",
              "      <td>0.000000</td>\n",
              "      <td>0.000000</td>\n",
              "      <td>0.000000</td>\n",
              "      <td>0.000000</td>\n",
              "      <td>0.000000</td>\n",
              "      <td>0.000000</td>\n",
              "      <td>0.000000</td>\n",
              "      <td>0.000000</td>\n",
              "      <td>0.000000</td>\n",
              "      <td>0.000000</td>\n",
              "      <td>0.000000</td>\n",
              "      <td>0.000000</td>\n",
              "      <td>0.000000</td>\n",
              "      <td>0.000000</td>\n",
              "      <td>0.000000</td>\n",
              "      <td>0.000000</td>\n",
              "      <td>0.000000</td>\n",
              "      <td>0.000000</td>\n",
              "      <td>0.000000</td>\n",
              "      <td>0.000000</td>\n",
              "      <td>0.000000</td>\n",
              "      <td>0.000000</td>\n",
              "      <td>0.000000</td>\n",
              "      <td>0.000000</td>\n",
              "      <td>0.000000</td>\n",
              "      <td>0.000000</td>\n",
              "      <td>0.000000</td>\n",
              "      <td>0.000000</td>\n",
              "      <td>0.000000</td>\n",
              "      <td>0.000000</td>\n",
              "      <td>0.000000</td>\n",
              "      <td>0.000000</td>\n",
              "      <td>0.000000</td>\n",
              "      <td>0.000000</td>\n",
              "      <td>0.000000</td>\n",
              "      <td>0.000000</td>\n",
              "      <td>0.000000</td>\n",
              "      <td>0.000000</td>\n",
              "      <td>0.000000</td>\n",
              "      <td>0.000000</td>\n",
              "      <td>0.000000</td>\n",
              "      <td>0.000000</td>\n",
              "      <td>0.000000</td>\n",
              "      <td>0.000000</td>\n",
              "      <td>0.000000</td>\n",
              "      <td>0.000000</td>\n",
              "      <td>0.000000</td>\n",
              "      <td>0.000000</td>\n",
              "      <td>0.000000</td>\n",
              "      <td>0.000000</td>\n",
              "      <td>0.000000</td>\n",
              "      <td>0.000000</td>\n",
              "      <td>0.000000</td>\n",
              "      <td>0.000000</td>\n",
              "      <td>0.000000</td>\n",
              "      <td>0.000000</td>\n",
              "      <td>0.000000</td>\n",
              "      <td>0.000000</td>\n",
              "      <td>0.000000</td>\n",
              "      <td>0.000000</td>\n",
              "      <td>0.000000</td>\n",
              "      <td>0.000000</td>\n",
              "      <td>0.000000</td>\n",
              "    </tr>\n",
              "    <tr>\n",
              "      <th>25%</th>\n",
              "      <td>11993.750000</td>\n",
              "      <td>124952.750000</td>\n",
              "      <td>0.000000</td>\n",
              "      <td>43.488676</td>\n",
              "      <td>1.122400</td>\n",
              "      <td>0.000000</td>\n",
              "      <td>0.000000</td>\n",
              "      <td>0.000000</td>\n",
              "      <td>0.000000</td>\n",
              "      <td>0.000000</td>\n",
              "      <td>0.000000</td>\n",
              "      <td>0.000000</td>\n",
              "      <td>0.000000</td>\n",
              "      <td>0.000000</td>\n",
              "      <td>0.000000</td>\n",
              "      <td>4.000000</td>\n",
              "      <td>4.000000</td>\n",
              "      <td>4.000000</td>\n",
              "      <td>4.000000</td>\n",
              "      <td>4.000000</td>\n",
              "      <td>4.000000</td>\n",
              "      <td>4.000000</td>\n",
              "      <td>4.000000</td>\n",
              "      <td>4.000000</td>\n",
              "      <td>0.000000</td>\n",
              "      <td>4.000000</td>\n",
              "      <td>4.000000</td>\n",
              "      <td>4.000000</td>\n",
              "      <td>4.000000</td>\n",
              "      <td>3.000000</td>\n",
              "      <td>3.000000</td>\n",
              "      <td>2.000000</td>\n",
              "      <td>4.000000</td>\n",
              "      <td>4.000000</td>\n",
              "      <td>4.000000</td>\n",
              "      <td>3.000000</td>\n",
              "      <td>2.000000</td>\n",
              "      <td>0.000000</td>\n",
              "      <td>0.000000</td>\n",
              "      <td>0.000000</td>\n",
              "      <td>0.000000</td>\n",
              "      <td>0.000000</td>\n",
              "      <td>3.000000</td>\n",
              "      <td>0.000000</td>\n",
              "      <td>0.000000</td>\n",
              "      <td>0.000000</td>\n",
              "      <td>0.000000</td>\n",
              "      <td>0.000000</td>\n",
              "      <td>0.000000</td>\n",
              "      <td>2.000000</td>\n",
              "      <td>0.000000</td>\n",
              "      <td>0.000000</td>\n",
              "      <td>0.000000</td>\n",
              "      <td>0.000000</td>\n",
              "      <td>0.000000</td>\n",
              "      <td>0.769231</td>\n",
              "      <td>0.800000</td>\n",
              "      <td>0.000000</td>\n",
              "      <td>0.000000</td>\n",
              "      <td>0.000000</td>\n",
              "      <td>0.000000</td>\n",
              "      <td>0.000000</td>\n",
              "      <td>0.785714</td>\n",
              "      <td>0.000000</td>\n",
              "      <td>0.000000</td>\n",
              "      <td>0.000000</td>\n",
              "      <td>0.000000</td>\n",
              "      <td>0.000000</td>\n",
              "      <td>0.000000</td>\n",
              "      <td>0.363636</td>\n",
              "      <td>0.000000</td>\n",
              "      <td>0.000000</td>\n",
              "      <td>0.000000</td>\n",
              "      <td>0.000000</td>\n",
              "      <td>0.000000</td>\n",
              "    </tr>\n",
              "    <tr>\n",
              "      <th>50%</th>\n",
              "      <td>24133.500000</td>\n",
              "      <td>149989.500000</td>\n",
              "      <td>0.000000</td>\n",
              "      <td>61.758090</td>\n",
              "      <td>2.149950</td>\n",
              "      <td>0.000000</td>\n",
              "      <td>0.000000</td>\n",
              "      <td>0.000000</td>\n",
              "      <td>0.000000</td>\n",
              "      <td>0.000000</td>\n",
              "      <td>0.000000</td>\n",
              "      <td>0.000000</td>\n",
              "      <td>0.000000</td>\n",
              "      <td>0.000000</td>\n",
              "      <td>0.000000</td>\n",
              "      <td>8.000000</td>\n",
              "      <td>7.000000</td>\n",
              "      <td>7.000000</td>\n",
              "      <td>7.000000</td>\n",
              "      <td>7.000000</td>\n",
              "      <td>7.000000</td>\n",
              "      <td>7.000000</td>\n",
              "      <td>7.000000</td>\n",
              "      <td>7.000000</td>\n",
              "      <td>2.000000</td>\n",
              "      <td>7.000000</td>\n",
              "      <td>7.000000</td>\n",
              "      <td>7.000000</td>\n",
              "      <td>7.000000</td>\n",
              "      <td>7.000000</td>\n",
              "      <td>6.000000</td>\n",
              "      <td>5.000000</td>\n",
              "      <td>8.000000</td>\n",
              "      <td>7.000000</td>\n",
              "      <td>7.000000</td>\n",
              "      <td>7.000000</td>\n",
              "      <td>6.000000</td>\n",
              "      <td>1.000000</td>\n",
              "      <td>1.000000</td>\n",
              "      <td>0.000000</td>\n",
              "      <td>1.000000</td>\n",
              "      <td>0.000000</td>\n",
              "      <td>6.000000</td>\n",
              "      <td>2.000000</td>\n",
              "      <td>0.000000</td>\n",
              "      <td>0.000000</td>\n",
              "      <td>1.000000</td>\n",
              "      <td>1.000000</td>\n",
              "      <td>0.000000</td>\n",
              "      <td>4.000000</td>\n",
              "      <td>0.000000</td>\n",
              "      <td>1.000000</td>\n",
              "      <td>0.000000</td>\n",
              "      <td>0.000000</td>\n",
              "      <td>2.000000</td>\n",
              "      <td>1.000000</td>\n",
              "      <td>1.000000</td>\n",
              "      <td>0.023256</td>\n",
              "      <td>0.050000</td>\n",
              "      <td>0.000000</td>\n",
              "      <td>0.071429</td>\n",
              "      <td>0.000000</td>\n",
              "      <td>1.000000</td>\n",
              "      <td>0.333333</td>\n",
              "      <td>0.000000</td>\n",
              "      <td>0.000000</td>\n",
              "      <td>0.125000</td>\n",
              "      <td>0.142857</td>\n",
              "      <td>0.000000</td>\n",
              "      <td>0.666667</td>\n",
              "      <td>0.000000</td>\n",
              "      <td>0.250000</td>\n",
              "      <td>0.000000</td>\n",
              "      <td>0.000000</td>\n",
              "      <td>0.333333</td>\n",
              "    </tr>\n",
              "    <tr>\n",
              "      <th>75%</th>\n",
              "      <td>53851.500000</td>\n",
              "      <td>174966.500000</td>\n",
              "      <td>0.000000</td>\n",
              "      <td>75.886325</td>\n",
              "      <td>4.877475</td>\n",
              "      <td>0.000000</td>\n",
              "      <td>1.000000</td>\n",
              "      <td>1.000000</td>\n",
              "      <td>0.000000</td>\n",
              "      <td>0.000000</td>\n",
              "      <td>0.000000</td>\n",
              "      <td>0.000000</td>\n",
              "      <td>0.000000</td>\n",
              "      <td>0.000000</td>\n",
              "      <td>0.000000</td>\n",
              "      <td>15.000000</td>\n",
              "      <td>12.000000</td>\n",
              "      <td>12.000000</td>\n",
              "      <td>12.000000</td>\n",
              "      <td>12.000000</td>\n",
              "      <td>12.000000</td>\n",
              "      <td>12.000000</td>\n",
              "      <td>12.000000</td>\n",
              "      <td>12.000000</td>\n",
              "      <td>10.000000</td>\n",
              "      <td>13.000000</td>\n",
              "      <td>13.000000</td>\n",
              "      <td>13.000000</td>\n",
              "      <td>13.000000</td>\n",
              "      <td>13.000000</td>\n",
              "      <td>12.000000</td>\n",
              "      <td>10.000000</td>\n",
              "      <td>14.000000</td>\n",
              "      <td>14.000000</td>\n",
              "      <td>13.000000</td>\n",
              "      <td>14.000000</td>\n",
              "      <td>11.000000</td>\n",
              "      <td>3.000000</td>\n",
              "      <td>3.000000</td>\n",
              "      <td>1.000000</td>\n",
              "      <td>5.000000</td>\n",
              "      <td>5.000000</td>\n",
              "      <td>11.000000</td>\n",
              "      <td>5.000000</td>\n",
              "      <td>3.000000</td>\n",
              "      <td>1.000000</td>\n",
              "      <td>4.000000</td>\n",
              "      <td>4.000000</td>\n",
              "      <td>5.000000</td>\n",
              "      <td>9.000000</td>\n",
              "      <td>1.000000</td>\n",
              "      <td>4.000000</td>\n",
              "      <td>2.000000</td>\n",
              "      <td>2.000000</td>\n",
              "      <td>8.000000</td>\n",
              "      <td>1.000000</td>\n",
              "      <td>1.000000</td>\n",
              "      <td>0.956522</td>\n",
              "      <td>0.333333</td>\n",
              "      <td>0.300000</td>\n",
              "      <td>0.500000</td>\n",
              "      <td>1.000000</td>\n",
              "      <td>1.000000</td>\n",
              "      <td>0.714286</td>\n",
              "      <td>0.500000</td>\n",
              "      <td>0.017241</td>\n",
              "      <td>0.391304</td>\n",
              "      <td>0.400000</td>\n",
              "      <td>0.560000</td>\n",
              "      <td>0.900000</td>\n",
              "      <td>0.111111</td>\n",
              "      <td>0.500000</td>\n",
              "      <td>0.142857</td>\n",
              "      <td>0.166667</td>\n",
              "      <td>0.857143</td>\n",
              "    </tr>\n",
              "    <tr>\n",
              "      <th>max</th>\n",
              "      <td>99999.000000</td>\n",
              "      <td>199999.000000</td>\n",
              "      <td>1.000000</td>\n",
              "      <td>311.554200</td>\n",
              "      <td>260.708900</td>\n",
              "      <td>3.000000</td>\n",
              "      <td>10.000000</td>\n",
              "      <td>6.000000</td>\n",
              "      <td>4.000000</td>\n",
              "      <td>3.000000</td>\n",
              "      <td>3.000000</td>\n",
              "      <td>4.000000</td>\n",
              "      <td>4.000000</td>\n",
              "      <td>3.000000</td>\n",
              "      <td>3.000000</td>\n",
              "      <td>348.000000</td>\n",
              "      <td>319.000000</td>\n",
              "      <td>319.000000</td>\n",
              "      <td>319.000000</td>\n",
              "      <td>319.000000</td>\n",
              "      <td>362.000000</td>\n",
              "      <td>319.000000</td>\n",
              "      <td>319.000000</td>\n",
              "      <td>319.000000</td>\n",
              "      <td>607.000000</td>\n",
              "      <td>347.000000</td>\n",
              "      <td>347.000000</td>\n",
              "      <td>347.000000</td>\n",
              "      <td>351.000000</td>\n",
              "      <td>356.000000</td>\n",
              "      <td>376.000000</td>\n",
              "      <td>362.000000</td>\n",
              "      <td>402.000000</td>\n",
              "      <td>351.000000</td>\n",
              "      <td>350.000000</td>\n",
              "      <td>344.000000</td>\n",
              "      <td>318.000000</td>\n",
              "      <td>126.000000</td>\n",
              "      <td>171.000000</td>\n",
              "      <td>103.000000</td>\n",
              "      <td>362.000000</td>\n",
              "      <td>244.000000</td>\n",
              "      <td>316.000000</td>\n",
              "      <td>207.000000</td>\n",
              "      <td>287.000000</td>\n",
              "      <td>81.000000</td>\n",
              "      <td>225.000000</td>\n",
              "      <td>112.000000</td>\n",
              "      <td>168.000000</td>\n",
              "      <td>287.000000</td>\n",
              "      <td>50.000000</td>\n",
              "      <td>134.000000</td>\n",
              "      <td>66.000000</td>\n",
              "      <td>108.000000</td>\n",
              "      <td>319.000000</td>\n",
              "      <td>1.000000</td>\n",
              "      <td>1.000000</td>\n",
              "      <td>1.000000</td>\n",
              "      <td>1.000000</td>\n",
              "      <td>1.000000</td>\n",
              "      <td>1.000000</td>\n",
              "      <td>1.000000</td>\n",
              "      <td>1.000000</td>\n",
              "      <td>1.000000</td>\n",
              "      <td>1.000000</td>\n",
              "      <td>1.000000</td>\n",
              "      <td>1.000000</td>\n",
              "      <td>1.000000</td>\n",
              "      <td>1.000000</td>\n",
              "      <td>1.000000</td>\n",
              "      <td>1.000000</td>\n",
              "      <td>1.000000</td>\n",
              "      <td>1.000000</td>\n",
              "      <td>1.000000</td>\n",
              "      <td>1.000000</td>\n",
              "    </tr>\n",
              "  </tbody>\n",
              "</table>\n",
              "</div>"
            ],
            "text/plain": [
              "         SUBJECT_ID        HADM_ID  ...  PROP_ITEMID_50983  PROP_ITEMID_51006\n",
              "count  58976.000000   58976.000000  ...       57305.000000       57305.000000\n",
              "mean   33755.583288  149970.809584  ...           0.118382           0.416595\n",
              "std    28092.726225   28883.095213  ...           0.213524           0.405558\n",
              "min        2.000000  100001.000000  ...           0.000000           0.000000\n",
              "25%    11993.750000  124952.750000  ...           0.000000           0.000000\n",
              "50%    24133.500000  149989.500000  ...           0.000000           0.333333\n",
              "75%    53851.500000  174966.500000  ...           0.166667           0.857143\n",
              "max    99999.000000  199999.000000  ...           1.000000           1.000000\n",
              "\n",
              "[8 rows x 75 columns]"
            ]
          },
          "metadata": {},
          "execution_count": 10
        }
      ]
    },
    {
      "cell_type": "markdown",
      "metadata": {
        "id": "nuxixiKIn8QP"
      },
      "source": [
        "## AGE \n",
        "\n",
        "To protect patients' privacy, patients who are older than a certain ago is coded by a really large number like 300. Therefore, we would like identify these patients and encode the patients' age by a more reasonable number. "
      ]
    },
    {
      "cell_type": "code",
      "metadata": {
        "id": "VqVfotfSfliH"
      },
      "source": [
        "# AGE_ON_AD is a float, which doesn't really make sense for age\n",
        "# We want to ignore everything that's after the decimal point\n",
        "\n",
        "age = dat.AGE_ON_AD.astype(str).str.split(\".\", expand=True)[[0]]\n",
        "age = age.astype(int)"
      ],
      "execution_count": 5,
      "outputs": []
    },
    {
      "cell_type": "code",
      "metadata": {
        "id": "J_PydAsuley6"
      },
      "source": [
        "# We see that the oldest real age is 89\n",
        "np.sort(age[0][age[0] < 100].unique())\n",
        "\n",
        "# So we want to set everything greater than 89 years old as 90\n",
        "# And saves this back to the dataframe\n",
        "dat[\"age\"] = np.where(age[0] > 89, 90, age[0])"
      ],
      "execution_count": 6,
      "outputs": []
    },
    {
      "cell_type": "markdown",
      "metadata": {
        "id": "HiL1jxFHqgqa"
      },
      "source": [
        "## GENDER"
      ]
    },
    {
      "cell_type": "code",
      "metadata": {
        "id": "3YLV9EE_qf55"
      },
      "source": [
        "le = LabelEncoder()"
      ],
      "execution_count": 7,
      "outputs": []
    },
    {
      "cell_type": "code",
      "metadata": {
        "id": "hJ_GdKSmrEl5"
      },
      "source": [
        "dat[\"gender\"] = le.fit_transform(dat.GENDER)"
      ],
      "execution_count": 8,
      "outputs": []
    },
    {
      "cell_type": "markdown",
      "metadata": {
        "id": "sdOv--sYpgTt"
      },
      "source": [
        "## Ethnicity\n",
        "\n",
        "The Ethicity feature is very granular. One potential improvement is to group some of the ethinicity together to reduce overfitting."
      ]
    },
    {
      "cell_type": "code",
      "metadata": {
        "id": "hjRnWgRDu4Ar"
      },
      "source": [
        "dat[\"ethnicity\"] = le.fit_transform(dat.ETHNICITY)"
      ],
      "execution_count": 9,
      "outputs": []
    },
    {
      "cell_type": "code",
      "metadata": {
        "colab": {
          "base_uri": "https://localhost:8080/"
        },
        "id": "ZO4AgbLrplxC",
        "outputId": "685f7826-f885-4e09-ec26-46312da946b4"
      },
      "source": [
        "dat.ETHNICITY.unique()"
      ],
      "execution_count": null,
      "outputs": [
        {
          "output_type": "execute_result",
          "data": {
            "text/plain": [
              "array(['WHITE', 'UNKNOWN/NOT SPECIFIED', 'MULTI RACE ETHNICITY',\n",
              "       'BLACK/AFRICAN AMERICAN', 'HISPANIC OR LATINO',\n",
              "       'PATIENT DECLINED TO ANSWER', 'ASIAN', 'OTHER',\n",
              "       'HISPANIC/LATINO - GUATEMALAN', 'ASIAN - VIETNAMESE',\n",
              "       'AMERICAN INDIAN/ALASKA NATIVE', 'WHITE - RUSSIAN',\n",
              "       'HISPANIC/LATINO - PUERTO RICAN', 'ASIAN - CHINESE',\n",
              "       'ASIAN - ASIAN INDIAN', 'BLACK/AFRICAN',\n",
              "       'HISPANIC/LATINO - SALVADORAN', 'HISPANIC/LATINO - DOMINICAN',\n",
              "       'UNABLE TO OBTAIN', 'BLACK/CAPE VERDEAN', 'BLACK/HAITIAN',\n",
              "       'WHITE - OTHER EUROPEAN', 'PORTUGUESE', 'SOUTH AMERICAN',\n",
              "       'WHITE - EASTERN EUROPEAN', 'CARIBBEAN ISLAND', 'ASIAN - FILIPINO',\n",
              "       'ASIAN - CAMBODIAN', 'HISPANIC/LATINO - CENTRAL AMERICAN (OTHER)',\n",
              "       'WHITE - BRAZILIAN', 'ASIAN - KOREAN',\n",
              "       'HISPANIC/LATINO - COLOMBIAN', 'ASIAN - JAPANESE',\n",
              "       'NATIVE HAWAIIAN OR OTHER PACIFIC ISLANDER', 'ASIAN - THAI',\n",
              "       'HISPANIC/LATINO - HONDURAN', 'HISPANIC/LATINO - CUBAN',\n",
              "       'MIDDLE EASTERN', 'ASIAN - OTHER', 'HISPANIC/LATINO - MEXICAN',\n",
              "       'AMERICAN INDIAN/ALASKA NATIVE FEDERALLY RECOGNIZED TRIBE'],\n",
              "      dtype=object)"
            ]
          },
          "metadata": {},
          "execution_count": 16
        }
      ]
    },
    {
      "cell_type": "code",
      "metadata": {
        "id": "dOHxXJfbvMV2"
      },
      "source": [
        "features_li = ['age', 'gender', 'ethnicity','ICU_STAY_DAYS', 'MULTI_ENTRY_ICU', \n",
        "               'ICD9_9955','ICD9_3893', 'ICD9_9604', 'ICD9_966', 'ICD9_9672', 'ICD9_9904', 'ICD9_9671', 'ICD9_3961', 'ICD9_8856', 'ICD9_3891',\n",
        "               'PROP_ITEMID_51221', 'PROP_ITEMID_51222',\n",
        "                'PROP_ITEMID_51248', 'PROP_ITEMID_51249', 'PROP_ITEMID_51250',\n",
        "                'PROP_ITEMID_51265', 'PROP_ITEMID_51277', 'PROP_ITEMID_51279',\n",
        "                'PROP_ITEMID_51301', 'PROP_ITEMID_50820', 'PROP_ITEMID_50868',\n",
        "                'PROP_ITEMID_50882', 'PROP_ITEMID_50902', 'PROP_ITEMID_50912',\n",
        "                'PROP_ITEMID_50931', 'PROP_ITEMID_50960', 'PROP_ITEMID_50970',\n",
        "                'PROP_ITEMID_50971', 'PROP_ITEMID_50983', 'PROP_ITEMID_51006']\n",
        "X = dat[features_li]\n",
        "y = dat['HOSPITAL_EXPIRE_FLAG']"
      ],
      "execution_count": 10,
      "outputs": []
    },
    {
      "cell_type": "markdown",
      "metadata": {
        "id": "tdsqY7_mwlq8"
      },
      "source": [
        "## Missing values\n",
        "\n",
        "method: fill with 0"
      ]
    },
    {
      "cell_type": "code",
      "metadata": {
        "colab": {
          "base_uri": "https://localhost:8080/"
        },
        "id": "ztvuRtvBv_kz",
        "outputId": "b266d52d-692b-4ea9-b1e5-f728d01ce985"
      },
      "source": [
        "# Check the number of missing values in each column\n",
        "X.isna().sum(axis = 0)"
      ],
      "execution_count": 75,
      "outputs": [
        {
          "output_type": "execute_result",
          "data": {
            "text/plain": [
              "age                  0\n",
              "gender               0\n",
              "ethnicity            0\n",
              "ICU_STAY_DAYS        0\n",
              "MULTI_ENTRY_ICU      0\n",
              "ICD9_9955            0\n",
              "ICD9_3893            0\n",
              "ICD9_9604            0\n",
              "ICD9_966             0\n",
              "ICD9_9672            0\n",
              "ICD9_9904            0\n",
              "ICD9_9671            0\n",
              "ICD9_3961            0\n",
              "ICD9_8856            0\n",
              "ICD9_3891            0\n",
              "PROP_ITEMID_51221    0\n",
              "PROP_ITEMID_51222    0\n",
              "PROP_ITEMID_51248    0\n",
              "PROP_ITEMID_51249    0\n",
              "PROP_ITEMID_51250    0\n",
              "PROP_ITEMID_51265    0\n",
              "PROP_ITEMID_51277    0\n",
              "PROP_ITEMID_51279    0\n",
              "PROP_ITEMID_51301    0\n",
              "PROP_ITEMID_50820    0\n",
              "PROP_ITEMID_50868    0\n",
              "PROP_ITEMID_50882    0\n",
              "PROP_ITEMID_50902    0\n",
              "PROP_ITEMID_50912    0\n",
              "PROP_ITEMID_50931    0\n",
              "PROP_ITEMID_50960    0\n",
              "PROP_ITEMID_50970    0\n",
              "PROP_ITEMID_50971    0\n",
              "PROP_ITEMID_50983    0\n",
              "PROP_ITEMID_51006    0\n",
              "dtype: int64"
            ]
          },
          "metadata": {},
          "execution_count": 75
        }
      ]
    },
    {
      "cell_type": "code",
      "metadata": {
        "id": "we7RzzPSwTeW"
      },
      "source": [
        "# fill NAs with 0\n",
        "X = X.fillna(0)"
      ],
      "execution_count": 11,
      "outputs": []
    },
    {
      "cell_type": "markdown",
      "metadata": {
        "id": "ZvLnOzCpxsVC"
      },
      "source": [
        "## Train Dev test split"
      ]
    },
    {
      "cell_type": "code",
      "metadata": {
        "id": "OEsbBxWIw-DL"
      },
      "source": [
        "trainX, devX, trainy, devy = train_test_split(X, y, test_size=0.2, random_state=12)\n"
      ],
      "execution_count": 24,
      "outputs": []
    },
    {
      "cell_type": "markdown",
      "metadata": {
        "id": "fcVQvAunzhrQ"
      },
      "source": [
        ""
      ]
    },
    {
      "cell_type": "code",
      "metadata": {
        "colab": {
          "base_uri": "https://localhost:8080/"
        },
        "id": "b74iuoQsynjh",
        "outputId": "2c6ceaa7-24e4-4056-93ac-df7f3fd86261"
      },
      "source": [
        "print(f\"Train data set size: {trainX.shape}.\")\n",
        "print(f\"Test data set size: {devX.shape}.\")"
      ],
      "execution_count": 25,
      "outputs": [
        {
          "output_type": "stream",
          "name": "stdout",
          "text": [
            "Train data set size: (47180, 35).\n",
            "Test data set size: (11796, 35).\n"
          ]
        }
      ]
    },
    {
      "cell_type": "markdown",
      "metadata": {
        "id": "UUOjJSMkzfk5"
      },
      "source": [
        "## Scaling"
      ]
    },
    {
      "cell_type": "code",
      "metadata": {
        "id": "vXZCCkMLzSzR"
      },
      "source": [
        "# features need to be normalized\n",
        "\n",
        "features_norm = ['ICU_STAY_DAYS','ICD9_9955','ICD9_3893', 'ICD9_9604', 'ICD9_966',\n",
        "                 'ICD9_9672', 'ICD9_9904', 'ICD9_9671', 'ICD9_3961', 'ICD9_8856', 'ICD9_3891',\n",
        "                 'PROP_ITEMID_51221', 'PROP_ITEMID_51222',\n",
        "                 'PROP_ITEMID_51248', 'PROP_ITEMID_51249', 'PROP_ITEMID_51250',\n",
        "                 'PROP_ITEMID_51265', 'PROP_ITEMID_51277', 'PROP_ITEMID_51279',\n",
        "                 'PROP_ITEMID_51301', 'PROP_ITEMID_50820', 'PROP_ITEMID_50868',\n",
        "                 'PROP_ITEMID_50882', 'PROP_ITEMID_50902', 'PROP_ITEMID_50912',\n",
        "                 'PROP_ITEMID_50931', 'PROP_ITEMID_50960', 'PROP_ITEMID_50970',\n",
        "                 'PROP_ITEMID_50971', 'PROP_ITEMID_50983', 'PROP_ITEMID_51006']\n",
        "\n"
      ],
      "execution_count": 26,
      "outputs": []
    },
    {
      "cell_type": "code",
      "metadata": {
        "id": "hwP7vzSm2-du"
      },
      "source": [
        "scaler = StandardScaler()\n",
        "\n",
        "trainX = scaler.fit_transform(trainX)\n",
        "devX = scaler.fit_transform(devX)"
      ],
      "execution_count": 27,
      "outputs": []
    },
    {
      "cell_type": "markdown",
      "metadata": {
        "id": "dxN73WNx61j8"
      },
      "source": [
        "## MLP Classifier "
      ]
    },
    {
      "cell_type": "code",
      "metadata": {
        "colab": {
          "base_uri": "https://localhost:8080/"
        },
        "id": "F-z3zYNs6hC0",
        "outputId": "a33990a8-d853-42b1-d180-6fca38e6ea52"
      },
      "source": [
        "classifier = MLPClassifier(hidden_layer_sizes=(150,100), max_iter=500,activation = 'relu',solver='adam',random_state=1)\n",
        "classifier.fit(trainX, trainy)\n"
      ],
      "execution_count": 28,
      "outputs": [
        {
          "output_type": "stream",
          "name": "stderr",
          "text": [
            "/usr/local/lib/python3.7/dist-packages/sklearn/neural_network/_multilayer_perceptron.py:699: UserWarning: Training interrupted by user.\n",
            "  warnings.warn(\"Training interrupted by user.\")\n"
          ]
        },
        {
          "output_type": "execute_result",
          "data": {
            "text/plain": [
              "MLPClassifier(hidden_layer_sizes=(150, 100), max_iter=500, random_state=1)"
            ]
          },
          "metadata": {},
          "execution_count": 28
        }
      ]
    },
    {
      "cell_type": "code",
      "metadata": {
        "id": "2sOAMutBEWj9"
      },
      "source": [
        "from sklearn.model_selection import PredefinedSplit"
      ],
      "execution_count": null,
      "outputs": []
    },
    {
      "cell_type": "code",
      "metadata": {
        "colab": {
          "base_uri": "https://localhost:8080/"
        },
        "id": "T1lkslrwCDCB",
        "outputId": "c9082139-1f32-4671-e1c9-4e38e4bc49f0"
      },
      "source": [
        "parameter_space = {\n",
        "    'hidden_layer_sizes': [(30, 30, 30),(100, 100, 100), (150, 150)],\n",
        "    'activation': ['tanh', 'relu'],\n",
        "    'alpha': [0.0001, 0.05],\n",
        "    'learning_rate': ['constant','adaptive'],\n",
        "    'batch_size': [64, 128, 256]\n",
        "}\n",
        "clf = GridSearchCV(classifier, parameter_space, n_jobs=-1, cv=2, scoring='roc_auc', verbose=4)\n",
        "clf.fit(trainX, trainy)"
      ],
      "execution_count": null,
      "outputs": [
        {
          "output_type": "stream",
          "name": "stdout",
          "text": [
            "Fitting 2 folds for each of 72 candidates, totalling 144 fits\n"
          ]
        },
        {
          "output_type": "execute_result",
          "data": {
            "text/plain": [
              "GridSearchCV(cv=2,\n",
              "             estimator=MLPClassifier(hidden_layer_sizes=(150, 100),\n",
              "                                     max_iter=500, random_state=1),\n",
              "             n_jobs=-1,\n",
              "             param_grid={'activation': ['tanh', 'relu'],\n",
              "                         'alpha': [0.0001, 0.05], 'batch_size': [64, 128, 256],\n",
              "                         'hidden_layer_sizes': [(30, 30, 30), (100, 100, 100),\n",
              "                                                (150, 150)],\n",
              "                         'learning_rate': ['constant', 'adaptive']},\n",
              "             scoring='roc_auc', verbose=4)"
            ]
          },
          "metadata": {},
          "execution_count": 34
        }
      ]
    },
    {
      "cell_type": "code",
      "metadata": {
        "id": "Z0tzm6_4ZPdW"
      },
      "source": [
        "import joblib"
      ],
      "execution_count": null,
      "outputs": []
    },
    {
      "cell_type": "code",
      "metadata": {
        "colab": {
          "base_uri": "https://localhost:8080/"
        },
        "id": "1KshaXqP8Y3f",
        "outputId": "e2337d56-bc02-4a53-a82b-997652ab8fa1"
      },
      "source": [
        "clf.best_score_"
      ],
      "execution_count": null,
      "outputs": [
        {
          "output_type": "execute_result",
          "data": {
            "text/plain": [
              "0.9055029343579268"
            ]
          },
          "metadata": {},
          "execution_count": 35
        }
      ]
    },
    {
      "cell_type": "code",
      "metadata": {
        "colab": {
          "base_uri": "https://localhost:8080/"
        },
        "id": "Qh2TOtVuZS07",
        "outputId": "34379777-c2f5-4a17-db52-29774ce3c5d0"
      },
      "source": [
        "joblib.dump(clf, '/content/drive/MyDrive/BIOS823/BIOS823 Final Project/clf_21.pkl')\n",
        "joblib.dump(clf.best_estimator_, '/content/drive/MyDrive/BIOS823/BIOS823 Final Project/best_clf_21.pkl')"
      ],
      "execution_count": null,
      "outputs": [
        {
          "output_type": "execute_result",
          "data": {
            "text/plain": [
              "['/content/drive/MyDrive/BIOS823/BIOS823 Final Project/best_clf_21.pkl']"
            ]
          },
          "metadata": {},
          "execution_count": 43
        }
      ]
    },
    {
      "cell_type": "code",
      "metadata": {
        "colab": {
          "base_uri": "https://localhost:8080/"
        },
        "id": "xMeLyy28Y2Ai",
        "outputId": "56dc5671-76d6-490b-b0c5-6d73dcf72897"
      },
      "source": [
        "clf.best_estimator_"
      ],
      "execution_count": null,
      "outputs": [
        {
          "output_type": "execute_result",
          "data": {
            "text/plain": [
              "MLPClassifier(activation='tanh', alpha=0.05, batch_size=64,\n",
              "              hidden_layer_sizes=(150, 150), max_iter=500, random_state=1)"
            ]
          },
          "metadata": {},
          "execution_count": 39
        }
      ]
    },
    {
      "cell_type": "code",
      "metadata": {
        "colab": {
          "base_uri": "https://localhost:8080/"
        },
        "id": "p8l-gQ-xY5sv",
        "outputId": "13316033-1be0-471c-c617-bc9b0f95eeeb"
      },
      "source": [
        "clf.best_params_"
      ],
      "execution_count": null,
      "outputs": [
        {
          "output_type": "execute_result",
          "data": {
            "text/plain": [
              "{'activation': 'tanh',\n",
              " 'alpha': 0.05,\n",
              " 'batch_size': 64,\n",
              " 'hidden_layer_sizes': (150, 150),\n",
              " 'learning_rate': 'constant'}"
            ]
          },
          "metadata": {},
          "execution_count": 40
        }
      ]
    },
    {
      "cell_type": "code",
      "metadata": {
        "colab": {
          "base_uri": "https://localhost:8080/"
        },
        "id": "Ftz0GSS49IPp",
        "outputId": "1dff041a-635c-4854-f749-9bd3215e33fe"
      },
      "source": [
        " confusion_matrix(devy_pred, devy)"
      ],
      "execution_count": null,
      "outputs": [
        {
          "output_type": "execute_result",
          "data": {
            "text/plain": [
              "array([[5181,  328],\n",
              "       [ 102,  287]])"
            ]
          },
          "metadata": {},
          "execution_count": 37
        }
      ]
    },
    {
      "cell_type": "code",
      "metadata": {
        "colab": {
          "base_uri": "https://localhost:8080/"
        },
        "id": "A7SVvZXG9MoB",
        "outputId": "a24ae92d-6ff2-4709-eb49-493db137820f"
      },
      "source": [
        "roc_auc_score(devy_pred, devy)"
      ],
      "execution_count": null,
      "outputs": [
        {
          "output_type": "execute_result",
          "data": {
            "text/plain": [
              "0.8391251333993777"
            ]
          },
          "metadata": {},
          "execution_count": 38
        }
      ]
    },
    {
      "cell_type": "code",
      "metadata": {
        "id": "x2fZ2yQo_Ki5"
      },
      "source": [
        "best_clf = joblib.load(\"/content/drive/MyDrive/BIOS823/BIOS823 Final Project/best_clf_21.pkl\")"
      ],
      "execution_count": 22,
      "outputs": []
    },
    {
      "cell_type": "code",
      "metadata": {
        "colab": {
          "base_uri": "https://localhost:8080/"
        },
        "id": "P4xJIRzHZ9D1",
        "outputId": "dc895aea-e7fb-4e82-9a6f-64e786329128"
      },
      "source": [
        "devy_pred = best_clf.predict(devX)\n",
        "roc_auc_score(devy, devy_pred)"
      ],
      "execution_count": 30,
      "outputs": [
        {
          "output_type": "execute_result",
          "data": {
            "text/plain": [
              "0.7105518151646653"
            ]
          },
          "metadata": {},
          "execution_count": 30
        }
      ]
    },
    {
      "cell_type": "code",
      "metadata": {
        "id": "TDnh6M75JksF",
        "colab": {
          "base_uri": "https://localhost:8080/",
          "height": 324
        },
        "outputId": "15b9663d-989c-4885-a386-7c96e7aeed6b"
      },
      "source": [
        "cnf_matrix = confusion_matrix(devy, devy_pred)\n",
        "class_names=[0,1] # name  of classes\n",
        "fig, ax = plt.subplots()\n",
        "tick_marks = np.arange(len(class_names))\n",
        "plt.xticks(tick_marks, class_names)\n",
        "plt.yticks(tick_marks, class_names)\n",
        "# create heatmap\n",
        "sns.heatmap(pd.DataFrame(cnf_matrix), annot=True, cmap=\"YlGnBu\" ,fmt='g')\n",
        "ax.xaxis.set_label_position(\"top\")\n",
        "plt.tight_layout()\n",
        "plt.title('Confusion matrix', y=1.1)\n",
        "plt.ylabel('Actual label')\n",
        "plt.xlabel('Predicted label');"
      ],
      "execution_count": 39,
      "outputs": [
        {
          "output_type": "display_data",
          "data": {
            "image/png": "[encoded data removed]",
            "text/plain": [
              "<Figure size 432x288 with 2 Axes>"
            ]
          },
          "metadata": {
            "needs_background": "light"
          }
        }
      ]
    },
    {
      "cell_type": "code",
      "metadata": {
        "colab": {
          "base_uri": "https://localhost:8080/"
        },
        "id": "Z2pHCAHlhOqs",
        "outputId": "3c95de7b-76f4-4075-ae07-1d0f02ba77d2"
      },
      "source": [
        "print(\"Accuracy:\", accuracy_score(devy, devy_pred))\n",
        "print(\"Precision:\", precision_score(devy, devy_pred))\n",
        "print(\"Recall:\", recall_score(devy, devy_pred))\n",
        "print(classification_report(devy, devy_pred))\n",
        "# print(accuracy_score(devy, devy_pred))"
      ],
      "execution_count": 46,
      "outputs": [
        {
          "output_type": "stream",
          "name": "stdout",
          "text": [
            "Accuracy: 0.9242115971515769\n",
            "Precision: 0.7127659574468085\n",
            "Recall: 0.4415156507413509\n",
            "              precision    recall  f1-score   support\n",
            "\n",
            "           0       0.94      0.98      0.96     10582\n",
            "           1       0.71      0.44      0.55      1214\n",
            "\n",
            "    accuracy                           0.92     11796\n",
            "   macro avg       0.83      0.71      0.75     11796\n",
            "weighted avg       0.92      0.92      0.92     11796\n",
            "\n"
          ]
        }
      ]
    },
    {
      "cell_type": "markdown",
      "metadata": {
        "id": "WHghJ5_piWRt"
      },
      "source": [
        "## Partial Dependency Plot"
      ]
    },
    {
      "cell_type": "code",
      "metadata": {
        "id": "Pf6yrPwahrwM"
      },
      "source": [
        "from sklearn.inspection import PartialDependenceDisplay"
      ],
      "execution_count": 48,
      "outputs": []
    },
    {
      "cell_type": "code",
      "metadata": {
        "id": "vztiiJHcihve"
      },
      "source": [
        "important_features = [\"PROP_ITEMID_51006\", \"PROP_ITEMID_51301\", \"age\", \"ICU_STAY_DAYS\", \"PROP_ITEMID_50882\"]\n"
      ],
      "execution_count": 70,
      "outputs": []
    },
    {
      "cell_type": "code",
      "metadata": {
        "id": "uppwCNfpmQAO"
      },
      "source": [
        "idx = [np.where(X.columns == name) for name in important_features]"
      ],
      "execution_count": 72,
      "outputs": []
    },
    {
      "cell_type": "code",
      "metadata": {
        "colab": {
          "base_uri": "https://localhost:8080/",
          "height": 1000
        },
        "id": "ClLOnzyyij2_",
        "outputId": "2648cf7d-e353-4621-e61f-d90221a299b3"
      },
      "source": [
        "for i in idx:\n",
        "\n",
        "  PartialDependenceDisplay.from_estimator(best_clf, trainX, features = i, feature_names=X.columns);"
      ],
      "execution_count": 74,
      "outputs": [
        {
          "output_type": "display_data",
          "data": {
            "image/png": "[encoded data removed]",
            "text/plain": [
              "<Figure size 432x288 with 2 Axes>"
            ]
          },
          "metadata": {
            "needs_background": "light"
          }
        },
        {
          "output_type": "display_data",
          "data": {
            "image/png": "[encoded data removed]",
            "text/plain": [
              "<Figure size 432x288 with 2 Axes>"
            ]
          },
          "metadata": {
            "needs_background": "light"
          }
        },
        {
          "output_type": "display_data",
          "data": {
            "image/png": "[encoded data removed]",
            "text/plain": [
              "<Figure size 432x288 with 2 Axes>"
            ]
          },
          "metadata": {
            "needs_background": "light"
          }
        },
        {
          "output_type": "display_data",
          "data": {
            "image/png": "[encoded data removed]",
            "text/plain": [
              "<Figure size 432x288 with 2 Axes>"
            ]
          },
          "metadata": {
            "needs_background": "light"
          }
        },
        {
          "output_type": "display_data",
          "data": {
            "image/png": "[encoded data removed]",
            "text/plain": [
              "<Figure size 432x288 with 2 Axes>"
            ]
          },
          "metadata": {
            "needs_background": "light"
          }
        }
      ]
    }
  ]
}