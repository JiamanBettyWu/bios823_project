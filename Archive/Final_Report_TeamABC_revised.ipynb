{
 "cells": [
  {
   "cell_type": "markdown",
   "metadata": {},
   "source": [
    "# Disentangling Key Indicators for Patients' Mortality Rate in Intensive Care Units\n",
    "*By Team ABC**\n",
    "\n",
    "***A** for **A**shley Hu, **B** for **B**etty Wu and **C** for Lu**C**as Zhang\n"
   ]
  },
  {
   "cell_type": "markdown",
   "metadata": {},
   "source": [
    "# 0. Introduction\n",
    "\n",
    "*This report follows the Pythonic Style in that it starts with 0.*\n",
    "\n",
    "Since the digitalization of health records, the amount of electronic health records (EHRs) has been growing at an unprecedent rate. EHRs comprise comprehensive patient data from a wide variety of meansures, including vital sign meansurements, input/output values, patients’ clinical outcomes, medications, procedures, and laboratory test results. Thoughtful analyses and modelings based on the vast amount of high-resolution healthcare data can empower clinicians to access patients’ physical insights that were not available previously. In return, hospitals can provide more personalized and better treatments to patients. \n",
    "\n",
    "Predicting patients’ in-hospital mortality is a area of active research. Accurate predictions of clinical outcome enables clinicians to gauge patients condition and facilitate cost-effective management of hospital resources. Given the importance of this issue, in this project we are interested in **using a large-scale, high-resolution MIMIC-III data to predict in-hospital mortality**. We compare the performances of different machine learning models, **including logistic regression, random forest, and neural networks**. **We are able to achieve 0.71 AUC score on the neural network model. Our results indicate that EHRs including MIMIC data have strong predictive power on in-hospital mortality. Factors such as the duration of ICU stay and white blood cell abnormal lab results are highly predictive of in-hospital mortality.**"
   ]
  },
  {
   "cell_type": "markdown",
   "metadata": {},
   "source": [
    "# 1. Data Description\n",
    "\n",
    "### 1.1. Data collection\n",
    "\n",
    "The dataset MIMIC III (Medical Information Mart for Intensive Care) is used in our proejct. MIMIC III is a single-center database concerning  patient admissions to critical care units. While full description can be found from [physionet.org](https://physionet.org/content/mimiciii/1.4/), the database incorprated several data sources, including:\n",
    "\n",
    "- critical care information systems:\n",
    "    - Two different systems: Philips **CareVue** and iMDsoft **MetaVision** ICU. Most of data from the two systems was merged expect for fluid intake. The data that are not merged will be given a suffix to distinguish the data source, e.g. \"*CV*\" for CareVue and \"*MV*\" for MetaVision. These two systems provided clinical data including:\n",
    "        - physiological measurements, e.g. heart rate, arterial blood pressure, or respiratory rate;\n",
    "        - documented progress notes by care providers;\n",
    "        - drip medications and fluid balances.\n",
    "- hospital electronic health records:\n",
    "    - patient demographics\n",
    "    - in-hospital mortality\n",
    "    - laboratory test results, including hematology, chemistry and microbiology results.\n",
    "    - discharge summaries\n",
    "    - reports of electrocardiogram and imaging studies.\n",
    "    - *billing-related information* such as International Classification of Disease, 9th Edition (ICD-9) codes, Diagnosis Related Group (DRG) codes, and Current Procedural Terminology (CPT) codes.\n",
    "- Social Security Administration Death Master File.\n",
    "    - Out-of-hospital mortality dates\n",
    "\n",
    "### 1.2. De-identification Processes\n",
    "\n",
    "Deidentified using *structured data cleansing* and *date shifting*. \n",
    "\n",
    "1. Removal of patient name, telephone number, address. \n",
    "2. Dates were shifted into the future. intervals preserved. Time of day, day of the week, and approximate seasonality were conserved.\n",
    "3. **Patients > 89 yrs appear with ages of over 300 yrs.**\n",
    "4. Protected health information was removed, such as diagnostic reports and physician notes.\n",
    "\n",
    "### 1.3. Data Description\n",
    "\n",
    "- **A relational database** consisting of 26 tables linked by identifiers which usually have the suffix ‘ID’, e.g. \n",
    "    - SUBJECT_ID (a unique patient)\n",
    "    - HADM_ID (a unique admission to the hospital), and \n",
    "    - ICUSTAY_ID (a unique admission to an intensive care unit)\n",
    "- Five tables track **patient stays**: ADMISSIONS; PATIENTS; ICUSTAYS; SERVICES; and TRANSFERS\n",
    "- Another five tables are **dictionaries** (prefixed with ‘D_’): D_CPT; D_ICD_DIAGNOSES; D_ICD_PROCEDURES; D_ITEMS; and D_LABITEMS. \n",
    "    - Dictionary tables: Definitions for identifiers. E.g. ITEMID in CHARTEVENTS is explained in D_ITEMS, which represents the concept measured.\n",
    "- The remaining tables associated with patient care, such as physiological measurements, caregiver observations, and billing information.\n",
    "- **‘Events’ tables**: a series of charted events such as notes, laboratory tests, and fluid balance. e.g. the OUTPUTEVENTS table: all measurements related to output for a given patient, the LABEVENTS table: laboratory test results for a patient."
   ]
  },
  {
   "cell_type": "markdown",
   "metadata": {},
   "source": [
    "# 2. Variables of Interest (Variable Definition)\n",
    "\n",
    "### 2.1. ID Variables\n",
    "- SUBJECT_ID: ID variable obtained from *ADMISSIONS.csv*. One unique subject id was assigned to each patient.\n",
    "- HADM_ID: ID variable obtained from *ADMISSIONS.csv*. **Primary key**. One unique Hospital ADMinistration ID (HADM_ID) was assgined to each hopspitalization of one patient, while multiple HADM_ID may correspond to the same person.\n",
    "- ADMITTIME: datetime variable obtained from *ADMISSIONS.csv*. This variable records the time when the hospitalization started.\n",
    "- DISCHTIME: datetime variable obtained from *ADMISSIONS.csv*. This variable records the time when the hospitalization ended.\n",
    "\n",
    "### 2.2. Output:\n",
    "- HOSPITAL_EXPIRE_FLAG: Boolean variable obtained from *ADMISSIONS.csv*. This variable indicates whether the patient passed away during hospitalization.\n",
    "\n",
    "### 2.3 Input:\n",
    "- ETHNICITY: categorical variable obtained from *ADMISSIONS.csv*. **Demographic information**.\n",
    "- DIAGNOSIS: string variable obtained from *ADMISSIONS.csv*.\n",
    "- GENDER: categorical variable obtained from *PATIENTS.csv* via joining on SUBJECT_ID. **Demographic information**. \n",
    "- DOB: datetime variable obtained from *PATIENTS.csv* via joining on SUBJECT_ID. **Demographic information**. \n",
    "- AGE_ON_AD: numeric variable derived from DOB and ADMITTIME. **Demographic information**. This variable represents the patients' age on administration. An age greater than 300 indicates patients' age greater than 89.\n",
    "- SERVICES: multi-valued categorical variable obtained from *SERVICES.csv* via joining on SUBJECT_ID and HADM_ID. This variable indicates services that the patients utilized during hospitalization.\n",
    "- ICU_STAY_DAYS: numeric variable derived from *ICUSTAY.csv*. This variable presents total days of ICU stays during this hospitalization.\n",
    "- MULTI_ENTRY_ICU: Boolean variable derived from *ICUSTAY.csv*. MULTI_ENTRY_ICU is set True if patients have entered the ICU before this hospitlization. \n",
    "- ICD9_code: ten Boolean variables derived from *PROCEDURES_ICD.csv* via joining on SUBJECT_ID and HADM_ID. These variables provided information on the ten most frequent procedures associated with hospitalization.\n",
    "- TOTAL_ITEMID_code: twenty integer variables derived from *LABEVENTS.csv* via joining on SUBJECT_ID and HADM_ID. These variables provided information on the twenty most frequent lab tests during hospitalization. TOTAL_ITEMID_code indicates how many times the lab test have been carried out in each hospitalization.\n",
    "- ABNORMAL_ITEMID_code: twenty integer variables derived from *LABEVENTS.csv* via joining on SUBJECT_ID and HADM_ID. Different from TOTAL_ITEMID_code, ABNORMAL_ITEMID_code indicates how many lab tests of this kind were abnormal.\n",
    "\n",
    "### 2.4. ICD9 Code:\n",
    "\n",
    "| ICD9 code | Explanation |\n",
    "| :-: | :-: |\n",
    "|3961|Extracorporeal circulat|\n",
    "|3891|Arterial catheterization|\n",
    "|3893|Venous cath NEC|\n",
    "|8856|Coronar arteriogr-2 cath|\n",
    "|9604|Insert endotracheal tube|\n",
    "|966| Entral infus nutrit sub|\n",
    "|9671|Cont inv mec ven <96 hrs|\n",
    "|9672|Cont inv mec ven 96+ hrs|\n",
    "|9904|Packed cell transfusion|\n",
    "|9955|Vaccination NEC|\n",
    "\n",
    "### 2.5. Lab Items code:\n",
    "\n",
    "|ITEMID|LABEL|FLUID| CATEGORY|\n",
    "| :-: | :-: | :-: | :-: |\n",
    "|50820|pH|Blood|Blood Gas|\n",
    "|50868|Anion Gap| Blood| Chemistry|\n",
    "|50882|Bicarbonate| Blood| Chemistry|\n",
    "|50902|Chloride| Blood| Chemistry|\n",
    "|50912|Creatinine| Blood| Chemistry|\n",
    "|50931|Glucose| Blood| Chemistry|\n",
    "|50960|Magnesium| Blood| Chemistry|\n",
    "|50970|Phosphate| Blood| Chemistry|\n",
    "|50971|Potassium| Blood| Chemistry|\n",
    "|50983|Sodium| Blood| Chemistry|\n",
    "|51006|Urea Nitrogen| Blood| Chemistry|\n",
    "|51221|Hematocrit| Blood| Hematology|\n",
    "|51222|Hemoglobin| Blood| Hematology|\n",
    "|51248|MCH| Blood| Hematology|\n",
    "|51249|MCHC| Blood| Hematology|\n",
    "|51250|MCV| Blood| Hematology|\n",
    "|51265|Platelet Count| Blood| Hematology|\n",
    "|51277|RDW | Blood| Hematology|\n",
    "|51279|Red Blood Cells| Blood| Hematology|\n",
    "|51301|White Blood Cells|Blood| Hematology|"
   ]
  },
  {
   "cell_type": "markdown",
   "metadata": {},
   "source": [
    "# 3. logistic regression and random forest models\n",
    "\n",
    "These models provide us detailed information about prediction accuracy and important variables affecting whether a patient dies after admitted into ICU."
   ]
  },
  {
   "cell_type": "markdown",
   "metadata": {},
   "source": [
    "### 3.1. Preparing data for further analysis\n",
    "\n",
    "In this section, we will \n",
    "1. load required packages and read in the data,\n",
    "2. set \"age\", \"gender\" and \"ethnicity\",\n",
    "3. deal with missing data, and \n",
    "4. split the data set randomly into training and test dataset."
   ]
  },
  {
   "cell_type": "code",
   "execution_count": 21,
   "metadata": {},
   "outputs": [],
   "source": [
    "import pandas as pd\n",
    "import numpy as np\n",
    "import random\n",
    "import joblib\n",
    "from sklearn.neural_network import MLPClassifier\n",
    "from sklearn.model_selection import GridSearchCV\n",
    "from sklearn import preprocessing\n",
    "from sklearn.linear_model import LogisticRegression, LogisticRegressionCV\n",
    "from sklearn.model_selection import train_test_split\n",
    "from sklearn import metrics\n",
    "from sklearn.metrics import classification_report, confusion_matrix, accuracy_score,  roc_auc_score, precision_score, recall_score\n",
    "from sklearn.feature_selection import RFE\n",
    "from sklearn.linear_model import LassoCV, Lasso\n",
    "from sklearn.model_selection import cross_val_score, RandomizedSearchCV, RepeatedKFold\n",
    "from sklearn.preprocessing import StandardScaler\n",
    "from sklearn.ensemble import RandomForestClassifier\n",
    "from sklearn.preprocessing import LabelEncoder\n",
    "from sklearn.inspection import plot_partial_dependence\n",
    "import matplotlib\n",
    "import matplotlib.pyplot as plt\n",
    "import seaborn as sns\n",
    "%matplotlib inline\n",
    "from numpy import mean\n",
    "from numpy import std\n",
    "from pprint import pprint\n",
    "import statsmodels.api as sm\n",
    "import math"
   ]
  },
  {
   "cell_type": "code",
   "execution_count": 5,
   "metadata": {},
   "outputs": [],
   "source": [
    "df = pd.read_csv('MIMIC_cleaned.csv')"
   ]
  },
  {
   "cell_type": "code",
   "execution_count": 6,
   "metadata": {},
   "outputs": [],
   "source": [
    "age = df.AGE_ON_AD.astype(str).str.split(\".\", expand=True)[[0]]\n",
    "age = age.astype(int)\n",
    "np.sort(age[0][age[0] < 100].unique())\n",
    "df[\"age\"] = np.where(age[0] > 89, 90, age[0])"
   ]
  },
  {
   "cell_type": "code",
   "execution_count": 7,
   "metadata": {},
   "outputs": [],
   "source": [
    "le = LabelEncoder()\n",
    "df[\"gender\"] = le.fit_transform(df.GENDER)"
   ]
  },
  {
   "cell_type": "code",
   "execution_count": 8,
   "metadata": {},
   "outputs": [],
   "source": [
    "df[\"ethnicity\"] = le.fit_transform(df.ETHNICITY)"
   ]
  },
  {
   "cell_type": "code",
   "execution_count": 9,
   "metadata": {},
   "outputs": [],
   "source": [
    "#missing data\n",
    "#replece NA with 0\n",
    "df.fillna(0, inplace=True)"
   ]
  },
  {
   "cell_type": "markdown",
   "metadata": {},
   "source": [
    "##### 3.1.1. Spliting into Training and Test Datasets\n",
    "\n",
    "We randomly split 80% of data, including 47180 cases, into the training dataset and 20%, including 11796 cases, into the test dataset. "
   ]
  },
  {
   "cell_type": "code",
   "execution_count": 10,
   "metadata": {},
   "outputs": [],
   "source": [
    "y = df['HOSPITAL_EXPIRE_FLAG']"
   ]
  },
  {
   "cell_type": "code",
   "execution_count": 11,
   "metadata": {},
   "outputs": [],
   "source": [
    "features_li = ['age', 'gender', 'ethnicity','ICU_STAY_DAYS', 'MULTI_ENTRY_ICU', \n",
    "               'ICD9_9955','ICD9_3893', 'ICD9_9604', 'ICD9_966', 'ICD9_9672', 'ICD9_9904', 'ICD9_9671', 'ICD9_3961', 'ICD9_8856', 'ICD9_3891',\n",
    "               'PROP_ITEMID_51221', 'PROP_ITEMID_51222',\n",
    "                'PROP_ITEMID_51248', 'PROP_ITEMID_51249', 'PROP_ITEMID_51250',\n",
    "                'PROP_ITEMID_51265', 'PROP_ITEMID_51277', 'PROP_ITEMID_51279',\n",
    "                'PROP_ITEMID_51301', 'PROP_ITEMID_50820', 'PROP_ITEMID_50868',\n",
    "                'PROP_ITEMID_50882', 'PROP_ITEMID_50902', 'PROP_ITEMID_50912',\n",
    "                'PROP_ITEMID_50931', 'PROP_ITEMID_50960', 'PROP_ITEMID_50970',\n",
    "                'PROP_ITEMID_50971', 'PROP_ITEMID_50983', 'PROP_ITEMID_51006']\n",
    "X = df[features_li]"
   ]
  },
  {
   "cell_type": "code",
   "execution_count": 12,
   "metadata": {},
   "outputs": [],
   "source": [
    "X_train, X_test, y_train, y_test = train_test_split(X,y,\n",
    " test_size=0.2, random_state=0)"
   ]
  },
  {
   "cell_type": "code",
   "execution_count": 13,
   "metadata": {},
   "outputs": [
    {
     "data": {
      "text/plain": [
       "(47180, 35)"
      ]
     },
     "execution_count": 13,
     "metadata": {},
     "output_type": "execute_result"
    }
   ],
   "source": [
    "X_train.shape"
   ]
  },
  {
   "cell_type": "code",
   "execution_count": 14,
   "metadata": {},
   "outputs": [
    {
     "data": {
      "text/plain": [
       "(11796, 35)"
      ]
     },
     "execution_count": 14,
     "metadata": {},
     "output_type": "execute_result"
    }
   ],
   "source": [
    "X_test.shape"
   ]
  },
  {
   "cell_type": "markdown",
   "metadata": {},
   "source": [
    "### 3.2. Logistic regression\n",
    "\n",
    "In this section, we are going to construct a simple model, logistic regression, to predict the clinical outcome based on various variables in the MIMIC dataset. We will also evaluate the model accuracy via confusion matrix and AUC (area under the curve). In addition, we may want to check which variables are the most important variables in our model."
   ]
  },
  {
   "cell_type": "markdown",
   "metadata": {},
   "source": [
    "##### 3.2.1. Construct Logistic regression model (Statmodel)"
   ]
  },
  {
   "cell_type": "code",
   "execution_count": 15,
   "metadata": {},
   "outputs": [],
   "source": [
    "X_train = np.array(X_train, dtype=float)\n",
    "X_test = np.array(X_test, dtype=float)"
   ]
  },
  {
   "cell_type": "code",
   "execution_count": 16,
   "metadata": {},
   "outputs": [],
   "source": [
    "y_train = np.array(y_train, dtype=float)"
   ]
  },
  {
   "cell_type": "code",
   "execution_count": 19,
   "metadata": {},
   "outputs": [
    {
     "name": "stdout",
     "output_type": "stream",
     "text": [
      "Optimization terminated successfully.\n",
      "         Current function value: 0.250280\n",
      "         Iterations 12\n"
     ]
    }
   ],
   "source": [
    "logit = sm.Logit(y_train, X_train, solver='lbfgs').fit()"
   ]
  },
  {
   "cell_type": "code",
   "execution_count": 26,
   "metadata": {},
   "outputs": [],
   "source": [
    "features = ['age', 'gender', 'ethnicity', 'ICU_STAY_DAYS', 'MULTI_ENTRY_ICU',\n",
    "       'ICD9_9955', 'ICD9_3893', 'ICD9_9604', 'ICD9_966', 'ICD9_9672',\n",
    "       'ICD9_9904', 'ICD9_9671', 'ICD9_3961', 'ICD9_8856', 'ICD9_3891',\n",
    "       'PROP_ITEMID_51221', 'PROP_ITEMID_51222', 'PROP_ITEMID_51248',\n",
    "       'PROP_ITEMID_51249', 'PROP_ITEMID_51250', 'PROP_ITEMID_51265',\n",
    "       'PROP_ITEMID_51277', 'PROP_ITEMID_51279', 'PROP_ITEMID_51301',\n",
    "       'PROP_ITEMID_50820', 'PROP_ITEMID_50868', 'PROP_ITEMID_50882',\n",
    "       'PROP_ITEMID_50902', 'PROP_ITEMID_50912', 'PROP_ITEMID_50931',\n",
    "       'PROP_ITEMID_50960', 'PROP_ITEMID_50970', 'PROP_ITEMID_50971',\n",
    "       'PROP_ITEMID_50983', 'PROP_ITEMID_51006']"
   ]
  },
  {
   "cell_type": "markdown",
   "metadata": {},
   "source": [
    "##### 3.2.2. Evaluate our Model\n",
    "\n",
    "We will evaluate the accuracy of our model on the test dataset and visualize the accuracy via confusion matrix, which shows the estimated type I error rate and type II error rate. We will also calculate the AUC of our model. We will calculate accuracy, precision, recall, auc score by fitting the test dataset."
   ]
  },
  {
   "cell_type": "code",
   "execution_count": 31,
   "metadata": {},
   "outputs": [],
   "source": [
    "sm_pred = logit.predict(X_test).round()"
   ]
  },
  {
   "cell_type": "code",
   "execution_count": 32,
   "metadata": {},
   "outputs": [],
   "source": [
    "cnf_matrix = metrics.confusion_matrix(y_test,  sm_pred)"
   ]
  },
  {
   "cell_type": "code",
   "execution_count": 33,
   "metadata": {},
   "outputs": [
    {
     "data": {
      "text/plain": [
       "Text(0.5, 225.76, 'Predicted label')"
      ]
     },
     "execution_count": 33,
     "metadata": {},
     "output_type": "execute_result"
    },
    {
     "data": {
      "image/png": "[encoded data removed]",
      "text/plain": [
       "<Figure size 360x252 with 2 Axes>"
      ]
     },
     "metadata": {},
     "output_type": "display_data"
    }
   ],
   "source": [
    "sns.set(rc={'figure.figsize':(5,3.5)})\n",
    "class_names=[0,1] # name  of classes\n",
    "fig, ax = plt.subplots()\n",
    "tick_marks = np.arange(len(class_names))\n",
    "plt.xticks(tick_marks, class_names)\n",
    "plt.yticks(tick_marks, class_names)\n",
    "# create heatmap\n",
    "sns.heatmap(pd.DataFrame(cnf_matrix), annot=True, cmap=\"YlGnBu\" ,fmt='g')\n",
    "ax.xaxis.set_label_position(\"top\")\n",
    "plt.tight_layout()\n",
    "plt.title('Confusion matrix', y=1.1)\n",
    "plt.ylabel('Actual label')\n",
    "plt.xlabel('Predicted label')"
   ]
  },
  {
   "cell_type": "code",
   "execution_count": 35,
   "metadata": {},
   "outputs": [
    {
     "name": "stdout",
     "output_type": "stream",
     "text": [
      "Logistic Accuracy: 0.9042895896914208\n",
      "Logistic Precision: 0.5609318996415771\n",
      "Logistic Recall: 0.26148705096073516\n",
      "              precision    recall  f1-score   support\n",
      "\n",
      "           0       0.92      0.98      0.95     10599\n",
      "           1       0.56      0.26      0.36      1197\n",
      "\n",
      "    accuracy                           0.90     11796\n",
      "   macro avg       0.74      0.62      0.65     11796\n",
      "weighted avg       0.88      0.90      0.89     11796\n",
      "\n"
     ]
    }
   ],
   "source": [
    "print(\"Logistic Accuracy:\", accuracy_score(y_test, sm_pred))\n",
    "print(\"Logistic Precision:\", precision_score(y_test, sm_pred))\n",
    "print(\"Logistic Recall:\", recall_score(y_test, sm_pred))\n",
    "print(classification_report(y_test, sm_pred))"
   ]
  },
  {
   "cell_type": "markdown",
   "metadata": {},
   "source": [
    "**Interpretation**: Our results shows the logistic regression model is highly accurate. In the test dataset, it predicts the ICU mortality with 90.43% accuracy. However, as shown in the confusion matrix, 88% of patients who entered ICU did not pass away. Therefore, the high accuracy should be interpreted with caution as it may be partially due to our model prediction capacity and partially due to imbalanced dataset. \n",
    "\n",
    "Subsequently, we would like to estimate the AUC of the logitic regression model. AUC compares the true positive rate with false posititve rate; therefore, AUC can be a better indicator of accuracy for such an imbalanced dataset."
   ]
  },
  {
   "cell_type": "code",
   "execution_count": 36,
   "metadata": {},
   "outputs": [
    {
     "name": "stdout",
     "output_type": "stream",
     "text": [
      "Logistic auc score: 0.6191858313582805\n"
     ]
    }
   ],
   "source": [
    "print(\"Logistic auc score:\", roc_auc_score(y_test, sm_pred))"
   ]
  },
  {
   "cell_type": "markdown",
   "metadata": {},
   "source": [
    "**Interpretation**: Accoring to our results, the AUC of the logistic regression model is estiamted at 0.62, which is considerably greater than random guess (AUC = 0.5). This logistic regression model achived **accuracy=0.9043**, **Precision=0.5609** and **Recall=0.2615**。 Based on the summary above, we identified 29 significant features that are associated with our primary outcome. Therefore, we expect that some variables in our dataset are associated with the clinical outcome (mortality in ICU). In the following section, we will explore the variable importance in our logistic regression model."
   ]
  },
  {
   "cell_type": "markdown",
   "metadata": {},
   "source": [
    "##### 3.2.3. Variable Selection\n",
    "\n",
    "As indicated in the logistic regression model, there are some variables associated with the outcome of itnerest. In this section, we would like to dive into the model, and further analyze which set of variables may better predict the mortality in ICU."
   ]
  },
  {
   "cell_type": "code",
   "execution_count": 39,
   "metadata": {},
   "outputs": [
    {
     "data": {
      "text/html": [
       "<table class=\"simpletable\">\n",
       "<caption>Logit Regression Results</caption>\n",
       "<tr>\n",
       "  <th>Dep. Variable:</th>           <td>y</td>        <th>  No. Observations:  </th>  <td> 47180</td> \n",
       "</tr>\n",
       "<tr>\n",
       "  <th>Model:</th>                 <td>Logit</td>      <th>  Df Residuals:      </th>  <td> 47145</td> \n",
       "</tr>\n",
       "<tr>\n",
       "  <th>Method:</th>                 <td>MLE</td>       <th>  Df Model:          </th>  <td>    34</td> \n",
       "</tr>\n",
       "<tr>\n",
       "  <th>Date:</th>            <td>Wed, 24 Nov 2021</td> <th>  Pseudo R-squ.:     </th>  <td>0.2233</td> \n",
       "</tr>\n",
       "<tr>\n",
       "  <th>Time:</th>                <td>22:58:27</td>     <th>  Log-Likelihood:    </th> <td> -11808.</td>\n",
       "</tr>\n",
       "<tr>\n",
       "  <th>converged:</th>             <td>True</td>       <th>  LL-Null:           </th> <td> -15203.</td>\n",
       "</tr>\n",
       "<tr>\n",
       "  <th>Covariance Type:</th>     <td>nonrobust</td>    <th>  LLR p-value:       </th>  <td> 0.000</td> \n",
       "</tr>\n",
       "</table>\n",
       "<table class=\"simpletable\">\n",
       "<tr>\n",
       "          <td></td>             <th>coef</th>     <th>std err</th>      <th>z</th>      <th>P>|z|</th>  <th>[0.025</th>    <th>0.975]</th>  \n",
       "</tr>\n",
       "<tr>\n",
       "  <th>age</th>               <td>   -0.0015</td> <td>    0.001</td> <td>   -1.693</td> <td> 0.090</td> <td>   -0.003</td> <td>    0.000</td>\n",
       "</tr>\n",
       "<tr>\n",
       "  <th>gender</th>            <td>   -0.3030</td> <td>    0.035</td> <td>   -8.760</td> <td> 0.000</td> <td>   -0.371</td> <td>   -0.235</td>\n",
       "</tr>\n",
       "<tr>\n",
       "  <th>ethnicity</th>         <td>   -0.0526</td> <td>    0.001</td> <td>  -37.020</td> <td> 0.000</td> <td>   -0.055</td> <td>   -0.050</td>\n",
       "</tr>\n",
       "<tr>\n",
       "  <th>ICU_STAY_DAYS</th>     <td>   -0.0330</td> <td>    0.003</td> <td>  -12.024</td> <td> 0.000</td> <td>   -0.038</td> <td>   -0.028</td>\n",
       "</tr>\n",
       "<tr>\n",
       "  <th>MULTI_ENTRY_ICU</th>   <td>   -0.4389</td> <td>    0.044</td> <td>  -10.028</td> <td> 0.000</td> <td>   -0.525</td> <td>   -0.353</td>\n",
       "</tr>\n",
       "<tr>\n",
       "  <th>ICD9_9955</th>         <td>   -6.1602</td> <td>    0.710</td> <td>   -8.680</td> <td> 0.000</td> <td>   -7.551</td> <td>   -4.769</td>\n",
       "</tr>\n",
       "<tr>\n",
       "  <th>ICD9_3893</th>         <td>   -0.0314</td> <td>    0.033</td> <td>   -0.960</td> <td> 0.337</td> <td>   -0.096</td> <td>    0.033</td>\n",
       "</tr>\n",
       "<tr>\n",
       "  <th>ICD9_9604</th>         <td>    0.0792</td> <td>    0.049</td> <td>    1.610</td> <td> 0.107</td> <td>   -0.017</td> <td>    0.176</td>\n",
       "</tr>\n",
       "<tr>\n",
       "  <th>ICD9_966</th>          <td>   -0.2444</td> <td>    0.051</td> <td>   -4.780</td> <td> 0.000</td> <td>   -0.345</td> <td>   -0.144</td>\n",
       "</tr>\n",
       "<tr>\n",
       "  <th>ICD9_9672</th>         <td>    1.6592</td> <td>    0.066</td> <td>   25.320</td> <td> 0.000</td> <td>    1.531</td> <td>    1.788</td>\n",
       "</tr>\n",
       "<tr>\n",
       "  <th>ICD9_9904</th>         <td>    0.0831</td> <td>    0.050</td> <td>    1.670</td> <td> 0.095</td> <td>   -0.014</td> <td>    0.181</td>\n",
       "</tr>\n",
       "<tr>\n",
       "  <th>ICD9_9671</th>         <td>    1.0128</td> <td>    0.052</td> <td>   19.437</td> <td> 0.000</td> <td>    0.911</td> <td>    1.115</td>\n",
       "</tr>\n",
       "<tr>\n",
       "  <th>ICD9_3961</th>         <td>   -1.2520</td> <td>    0.102</td> <td>  -12.333</td> <td> 0.000</td> <td>   -1.451</td> <td>   -1.053</td>\n",
       "</tr>\n",
       "<tr>\n",
       "  <th>ICD9_8856</th>         <td>   -0.1380</td> <td>    0.069</td> <td>   -1.989</td> <td> 0.047</td> <td>   -0.274</td> <td>   -0.002</td>\n",
       "</tr>\n",
       "<tr>\n",
       "  <th>ICD9_3891</th>         <td>    0.3440</td> <td>    0.049</td> <td>    7.025</td> <td> 0.000</td> <td>    0.248</td> <td>    0.440</td>\n",
       "</tr>\n",
       "<tr>\n",
       "  <th>PROP_ITEMID_51221</th> <td>   -0.6713</td> <td>    0.115</td> <td>   -5.828</td> <td> 0.000</td> <td>   -0.897</td> <td>   -0.446</td>\n",
       "</tr>\n",
       "<tr>\n",
       "  <th>PROP_ITEMID_51222</th> <td>   -0.9473</td> <td>    0.107</td> <td>   -8.860</td> <td> 0.000</td> <td>   -1.157</td> <td>   -0.738</td>\n",
       "</tr>\n",
       "<tr>\n",
       "  <th>PROP_ITEMID_51248</th> <td>   -0.2517</td> <td>    0.060</td> <td>   -4.200</td> <td> 0.000</td> <td>   -0.369</td> <td>   -0.134</td>\n",
       "</tr>\n",
       "<tr>\n",
       "  <th>PROP_ITEMID_51249</th> <td>   -0.4173</td> <td>    0.063</td> <td>   -6.649</td> <td> 0.000</td> <td>   -0.540</td> <td>   -0.294</td>\n",
       "</tr>\n",
       "<tr>\n",
       "  <th>PROP_ITEMID_51250</th> <td>   -0.2573</td> <td>    0.070</td> <td>   -3.663</td> <td> 0.000</td> <td>   -0.395</td> <td>   -0.120</td>\n",
       "</tr>\n",
       "<tr>\n",
       "  <th>PROP_ITEMID_51265</th> <td>    0.7674</td> <td>    0.050</td> <td>   15.478</td> <td> 0.000</td> <td>    0.670</td> <td>    0.865</td>\n",
       "</tr>\n",
       "<tr>\n",
       "  <th>PROP_ITEMID_51277</th> <td>    0.1819</td> <td>    0.045</td> <td>    4.043</td> <td> 0.000</td> <td>    0.094</td> <td>    0.270</td>\n",
       "</tr>\n",
       "<tr>\n",
       "  <th>PROP_ITEMID_51279</th> <td>   -0.7037</td> <td>    0.091</td> <td>   -7.766</td> <td> 0.000</td> <td>   -0.881</td> <td>   -0.526</td>\n",
       "</tr>\n",
       "<tr>\n",
       "  <th>PROP_ITEMID_51301</th> <td>    0.9536</td> <td>    0.049</td> <td>   19.513</td> <td> 0.000</td> <td>    0.858</td> <td>    1.049</td>\n",
       "</tr>\n",
       "<tr>\n",
       "  <th>PROP_ITEMID_50820</th> <td>    0.6368</td> <td>    0.049</td> <td>   12.916</td> <td> 0.000</td> <td>    0.540</td> <td>    0.733</td>\n",
       "</tr>\n",
       "<tr>\n",
       "  <th>PROP_ITEMID_50868</th> <td>    1.6488</td> <td>    0.101</td> <td>   16.273</td> <td> 0.000</td> <td>    1.450</td> <td>    1.847</td>\n",
       "</tr>\n",
       "<tr>\n",
       "  <th>PROP_ITEMID_50882</th> <td>    0.4671</td> <td>    0.059</td> <td>    7.889</td> <td> 0.000</td> <td>    0.351</td> <td>    0.583</td>\n",
       "</tr>\n",
       "<tr>\n",
       "  <th>PROP_ITEMID_50902</th> <td>   -0.1907</td> <td>    0.064</td> <td>   -2.993</td> <td> 0.003</td> <td>   -0.316</td> <td>   -0.066</td>\n",
       "</tr>\n",
       "<tr>\n",
       "  <th>PROP_ITEMID_50912</th> <td>    0.2680</td> <td>    0.057</td> <td>    4.696</td> <td> 0.000</td> <td>    0.156</td> <td>    0.380</td>\n",
       "</tr>\n",
       "<tr>\n",
       "  <th>PROP_ITEMID_50931</th> <td>   -0.2988</td> <td>    0.062</td> <td>   -4.802</td> <td> 0.000</td> <td>   -0.421</td> <td>   -0.177</td>\n",
       "</tr>\n",
       "<tr>\n",
       "  <th>PROP_ITEMID_50960</th> <td>    0.3002</td> <td>    0.093</td> <td>    3.233</td> <td> 0.001</td> <td>    0.118</td> <td>    0.482</td>\n",
       "</tr>\n",
       "<tr>\n",
       "  <th>PROP_ITEMID_50970</th> <td>   -0.0653</td> <td>    0.062</td> <td>   -1.054</td> <td> 0.292</td> <td>   -0.187</td> <td>    0.056</td>\n",
       "</tr>\n",
       "<tr>\n",
       "  <th>PROP_ITEMID_50971</th> <td>    0.1124</td> <td>    0.097</td> <td>    1.164</td> <td> 0.244</td> <td>   -0.077</td> <td>    0.302</td>\n",
       "</tr>\n",
       "<tr>\n",
       "  <th>PROP_ITEMID_50983</th> <td>    1.4826</td> <td>    0.076</td> <td>   19.561</td> <td> 0.000</td> <td>    1.334</td> <td>    1.631</td>\n",
       "</tr>\n",
       "<tr>\n",
       "  <th>PROP_ITEMID_51006</th> <td>    0.8922</td> <td>    0.062</td> <td>   14.364</td> <td> 0.000</td> <td>    0.770</td> <td>    1.014</td>\n",
       "</tr>\n",
       "</table>"
      ],
      "text/plain": [
       "<class 'statsmodels.iolib.summary.Summary'>\n",
       "\"\"\"\n",
       "                           Logit Regression Results                           \n",
       "==============================================================================\n",
       "Dep. Variable:                      y   No. Observations:                47180\n",
       "Model:                          Logit   Df Residuals:                    47145\n",
       "Method:                           MLE   Df Model:                           34\n",
       "Date:                Wed, 24 Nov 2021   Pseudo R-squ.:                  0.2233\n",
       "Time:                        22:58:27   Log-Likelihood:                -11808.\n",
       "converged:                       True   LL-Null:                       -15203.\n",
       "Covariance Type:            nonrobust   LLR p-value:                     0.000\n",
       "=====================================================================================\n",
       "                        coef    std err          z      P>|z|      [0.025      0.975]\n",
       "-------------------------------------------------------------------------------------\n",
       "age                  -0.0015      0.001     -1.693      0.090      -0.003       0.000\n",
       "gender               -0.3030      0.035     -8.760      0.000      -0.371      -0.235\n",
       "ethnicity            -0.0526      0.001    -37.020      0.000      -0.055      -0.050\n",
       "ICU_STAY_DAYS        -0.0330      0.003    -12.024      0.000      -0.038      -0.028\n",
       "MULTI_ENTRY_ICU      -0.4389      0.044    -10.028      0.000      -0.525      -0.353\n",
       "ICD9_9955            -6.1602      0.710     -8.680      0.000      -7.551      -4.769\n",
       "ICD9_3893            -0.0314      0.033     -0.960      0.337      -0.096       0.033\n",
       "ICD9_9604             0.0792      0.049      1.610      0.107      -0.017       0.176\n",
       "ICD9_966             -0.2444      0.051     -4.780      0.000      -0.345      -0.144\n",
       "ICD9_9672             1.6592      0.066     25.320      0.000       1.531       1.788\n",
       "ICD9_9904             0.0831      0.050      1.670      0.095      -0.014       0.181\n",
       "ICD9_9671             1.0128      0.052     19.437      0.000       0.911       1.115\n",
       "ICD9_3961            -1.2520      0.102    -12.333      0.000      -1.451      -1.053\n",
       "ICD9_8856            -0.1380      0.069     -1.989      0.047      -0.274      -0.002\n",
       "ICD9_3891             0.3440      0.049      7.025      0.000       0.248       0.440\n",
       "PROP_ITEMID_51221    -0.6713      0.115     -5.828      0.000      -0.897      -0.446\n",
       "PROP_ITEMID_51222    -0.9473      0.107     -8.860      0.000      -1.157      -0.738\n",
       "PROP_ITEMID_51248    -0.2517      0.060     -4.200      0.000      -0.369      -0.134\n",
       "PROP_ITEMID_51249    -0.4173      0.063     -6.649      0.000      -0.540      -0.294\n",
       "PROP_ITEMID_51250    -0.2573      0.070     -3.663      0.000      -0.395      -0.120\n",
       "PROP_ITEMID_51265     0.7674      0.050     15.478      0.000       0.670       0.865\n",
       "PROP_ITEMID_51277     0.1819      0.045      4.043      0.000       0.094       0.270\n",
       "PROP_ITEMID_51279    -0.7037      0.091     -7.766      0.000      -0.881      -0.526\n",
       "PROP_ITEMID_51301     0.9536      0.049     19.513      0.000       0.858       1.049\n",
       "PROP_ITEMID_50820     0.6368      0.049     12.916      0.000       0.540       0.733\n",
       "PROP_ITEMID_50868     1.6488      0.101     16.273      0.000       1.450       1.847\n",
       "PROP_ITEMID_50882     0.4671      0.059      7.889      0.000       0.351       0.583\n",
       "PROP_ITEMID_50902    -0.1907      0.064     -2.993      0.003      -0.316      -0.066\n",
       "PROP_ITEMID_50912     0.2680      0.057      4.696      0.000       0.156       0.380\n",
       "PROP_ITEMID_50931    -0.2988      0.062     -4.802      0.000      -0.421      -0.177\n",
       "PROP_ITEMID_50960     0.3002      0.093      3.233      0.001       0.118       0.482\n",
       "PROP_ITEMID_50970    -0.0653      0.062     -1.054      0.292      -0.187       0.056\n",
       "PROP_ITEMID_50971     0.1124      0.097      1.164      0.244      -0.077       0.302\n",
       "PROP_ITEMID_50983     1.4826      0.076     19.561      0.000       1.334       1.631\n",
       "PROP_ITEMID_51006     0.8922      0.062     14.364      0.000       0.770       1.014\n",
       "=====================================================================================\n",
       "\"\"\""
      ]
     },
     "execution_count": 39,
     "metadata": {},
     "output_type": "execute_result"
    }
   ],
   "source": [
    "#To print out logist regression summary from statmodel\n",
    "logit.summary(xname=features)"
   ]
  },
  {
   "cell_type": "markdown",
   "metadata": {},
   "source": [
    "**Interpretaion**: The table lists the coefficients of the logistic regression model. A greater absolute value of coefficient may indicate a stronger association with the outcome, while a coefficient >0 indicates an increased risk while that <0 indicates an decreased risk. Based on the summary above, we identified 29 features that are significanrly associated with our primary outcome. The top five features that are mostly associated with death in ICU are **Cont inv mec ven 96+ hrs （ICD9_9672)**, **Anion Gap (Item 50868)**, **Sodium (Item 50983)**, **Cont inv mec ven <96 hrs (ICD9_9671)**, **51301 White Blood Cells**. "
   ]
  },
  {
   "cell_type": "markdown",
   "metadata": {},
   "source": [
    "### 3.3. Random Forest "
   ]
  },
  {
   "cell_type": "markdown",
   "metadata": {},
   "source": [
    "Random forests are widely considered as one of the most successful algorithms for both classification and regression tasks. In addition, random forests are also highly interpretable as they provide features such as variable importance. Here, we are interested in whether random forests can have better prediction performance than the logistic regression, and accordingly, improve the overall prediction accuracy.\n"
   ]
  },
  {
   "cell_type": "markdown",
   "metadata": {},
   "source": [
    "### 3.3.1. Hyperparameter Tuning"
   ]
  },
  {
   "cell_type": "markdown",
   "metadata": {},
   "source": [
    "Different from the logistic regression in which few parameters are required, before the construction of the random forests, we need to specify some particular parameters such as the number of decision trees in random forests, the maximum number of levels in the tree and sampling approaches (whether to balance cases with different outcomes). \n"
   ]
  },
  {
   "cell_type": "markdown",
   "metadata": {},
   "source": [
    "First do a grid search to get the parameters that give the highest AUC score. We assigned three tree numbers and 4 max depth."
   ]
  },
  {
   "cell_type": "code",
   "execution_count": 42,
   "metadata": {},
   "outputs": [
    {
     "name": "stdout",
     "output_type": "stream",
     "text": [
      "{'class_weight': ['balanced', 'balanced_subsample'],\n",
      " 'max_depth': [100, 300, 500, None],\n",
      " 'n_estimators': [600, 800, 1000]}\n"
     ]
    }
   ],
   "source": [
    "# Number of trees in random forest\n",
    "n_estimators = [int(x) for x in np.linspace(start = 600, stop = 1000, num = 3)]\n",
    "# Maximum number of levels in tree\n",
    "max_depth = [int(x) for x in np.linspace(100,500, num = 3)]\n",
    "max_depth.append(None)\n",
    "# Method of selecting samples for training each tree\n",
    "bootstrap = [True]\n",
    "class_weight = [\"balanced\", \"balanced_subsample\"]\n",
    "# Create the random grid\n",
    "random_grid = {'n_estimators': n_estimators,\n",
    "               'max_depth': max_depth,\n",
    "               'class_weight': class_weight}\n",
    "pprint(random_grid)"
   ]
  },
  {
   "cell_type": "code",
   "execution_count": 43,
   "metadata": {},
   "outputs": [
    {
     "name": "stdout",
     "output_type": "stream",
     "text": [
      "Fitting 3 folds for each of 24 candidates, totalling 72 fits\n"
     ]
    },
    {
     "name": "stderr",
     "output_type": "stream",
     "text": [
      "/opt/conda/lib/python3.7/site-packages/sklearn/model_selection/_search.py:282: UserWarning: The total space of parameters 24 is smaller than n_iter=1000. Running 24 iterations. For exhaustive searches, use GridSearchCV.\n",
      "  % (grid_size, self.n_iter, grid_size), UserWarning)\n",
      "[Parallel(n_jobs=-1)]: Using backend LokyBackend with 4 concurrent workers.\n",
      "[Parallel(n_jobs=-1)]: Done  33 tasks      | elapsed:  6.0min\n",
      "[Parallel(n_jobs=-1)]: Done  72 out of  72 | elapsed: 13.9min finished\n"
     ]
    }
   ],
   "source": [
    "# Use the random grid to search for best hyperparameters\n",
    "# First create the base model to tune\n",
    "random.seed(2021)\n",
    "randomforest = RandomForestClassifier()\n",
    "rf_random = RandomizedSearchCV(estimator = randomforest,\n",
    "                               param_distributions = random_grid, \n",
    "                               n_iter = 1000, cv = 3, verbose=2, \n",
    "                               random_state=42, n_jobs = -1, scoring='roc_auc').fit(X_train, y_train)"
   ]
  },
  {
   "cell_type": "code",
   "execution_count": 44,
   "metadata": {},
   "outputs": [
    {
     "data": {
      "text/plain": [
       "{'n_estimators': 1000, 'max_depth': 300, 'class_weight': 'balanced'}"
      ]
     },
     "execution_count": 44,
     "metadata": {},
     "output_type": "execute_result"
    }
   ],
   "source": [
    "rf_random.best_params_"
   ]
  },
  {
   "cell_type": "code",
   "execution_count": 45,
   "metadata": {},
   "outputs": [],
   "source": [
    "y_pred = rf_random.best_estimator_.predict(X_test)"
   ]
  },
  {
   "cell_type": "code",
   "execution_count": 46,
   "metadata": {},
   "outputs": [],
   "source": [
    "cnf_matrix = metrics.confusion_matrix(y_test, y_pred)"
   ]
  },
  {
   "cell_type": "code",
   "execution_count": 47,
   "metadata": {},
   "outputs": [
    {
     "data": {
      "text/plain": [
       "Text(0.5, 225.76, 'Predicted label')"
      ]
     },
     "execution_count": 47,
     "metadata": {},
     "output_type": "execute_result"
    },
    {
     "data": {
      "image/png": "[encoded data removed]",
      "text/plain": [
       "<Figure size 360x252 with 2 Axes>"
      ]
     },
     "metadata": {},
     "output_type": "display_data"
    }
   ],
   "source": [
    "sns.set(rc={'figure.figsize':(5,3.5)})\n",
    "class_names=[0,1] # name  of classes\n",
    "fig, ax = plt.subplots()\n",
    "tick_marks = np.arange(len(class_names))\n",
    "plt.xticks(tick_marks, class_names)\n",
    "plt.yticks(tick_marks, class_names)\n",
    "# create heatmap\n",
    "sns.heatmap(pd.DataFrame(cnf_matrix), annot=True, cmap=\"YlGnBu\" ,fmt='g')\n",
    "ax.xaxis.set_label_position(\"top\")\n",
    "plt.tight_layout()\n",
    "plt.title('Confusion matrix', y=1.1)\n",
    "plt.ylabel('Actual label')\n",
    "plt.xlabel('Predicted label')"
   ]
  },
  {
   "cell_type": "code",
   "execution_count": 48,
   "metadata": {},
   "outputs": [
    {
     "name": "stdout",
     "output_type": "stream",
     "text": [
      "Random forest auc score: 0.629173060020558\n"
     ]
    }
   ],
   "source": [
    "print(\"Random forest auc score:\", roc_auc_score(y_test, y_pred))"
   ]
  },
  {
   "cell_type": "code",
   "execution_count": 49,
   "metadata": {},
   "outputs": [
    {
     "name": "stdout",
     "output_type": "stream",
     "text": [
      "Random forest Accuracy: 0.9209053916581892\n",
      "Random forest Precision: 0.860655737704918\n",
      "Random forest Recall: 0.2631578947368421\n",
      "              precision    recall  f1-score   support\n",
      "\n",
      "           0       0.92      1.00      0.96     10599\n",
      "           1       0.86      0.26      0.40      1197\n",
      "\n",
      "    accuracy                           0.92     11796\n",
      "   macro avg       0.89      0.63      0.68     11796\n",
      "weighted avg       0.92      0.92      0.90     11796\n",
      "\n"
     ]
    }
   ],
   "source": [
    "print(\"Random forest Accuracy:\", accuracy_score(y_test, y_pred))\n",
    "print(\"Random forest Precision:\", precision_score(y_test, y_pred))\n",
    "print(\"Random forest Recall:\", recall_score(y_test, y_pred))\n",
    "print(classification_report(y_test,y_pred))"
   ]
  },
  {
   "cell_type": "markdown",
   "metadata": {},
   "source": [
    "We built a random forest model with tree=1000 and balanced class weight."
   ]
  },
  {
   "cell_type": "code",
   "execution_count": 50,
   "metadata": {},
   "outputs": [],
   "source": [
    "feature_imp = pd.Series(rf_random.best_estimator_.feature_importances_,index=X.columns).sort_values(ascending=False)"
   ]
  },
  {
   "cell_type": "code",
   "execution_count": 51,
   "metadata": {
    "scrolled": true
   },
   "outputs": [
    {
     "data": {
      "image/png": "[encoded data removed]",
      "text/plain": [
       "<Figure size 720x864 with 1 Axes>"
      ]
     },
     "metadata": {},
     "output_type": "display_data"
    }
   ],
   "source": [
    "sns.set(rc={'figure.figsize':(10,12)})\n",
    "sns.barplot(x=feature_imp, y=feature_imp.index)\n",
    "plt.xlabel('Feature Importance Score')\n",
    "plt.ylabel('Features')\n",
    "plt.title(\"Visualizing Important Features\")\n",
    "plt.show()"
   ]
  },
  {
   "cell_type": "markdown",
   "metadata": {},
   "source": [
    "**Interpretation**: Our results indicate that the number of decision trees of 1000, max_depth=300 and balanced sampling could achieve the highest AUC. In the following sections, these parameters will be applied to construct a random forest model with a high predictive power. This random forest classification achieved **accuracy=0.9206**, **Precision=0.8611**, **Recall=0.2590** and **AUC score=0.6271**. The top 5 most important features are **Urea Nitrogen (labitem_51006)**, **White Blood Cells (labitem_51301)**, **age**, **Bicarbonate (labitem_50882)**, **Icu stay in days**. "
   ]
  },
  {
   "cell_type": "markdown",
   "metadata": {},
   "source": [
    "The two models gave very different feature estimation. Only White Blood Cells (labitem_51301) was selected by both models as the top five important features. We found that the random forest has higher AUC score, higher precision and higher accuracy. In this project, the random forest has better performance on predicting whether a person would die after admitted to ICU. The AUC score is not quite high. We decided to build a multilayer preceptron to make better prediction of primary outcome."
   ]
  },
  {
   "cell_type": "markdown",
   "metadata": {},
   "source": [
    "### 3.4 Deep Learning-based Multilayer Perception Model"
   ]
  },
  {
   "cell_type": "markdown",
   "metadata": {},
   "source": [
    "Deep learning-based models have demonstrated impressive model performance on a wide range of applications, including classification tasks. As discussed in previous sections, both logistics regression and random forest models have shown promising results. In the section, we explore deep learning-based models and attempt to achieve better model performance. We built this deep learning model on colab due to the large number of observation.\n",
    "\n",
    "The data is preporocessed the same way as discussed in previous sections. More specifically, gender and ethnicity are encoded by using label encoder in sklearn. And missing values are filled with the value 0. Then the data is splitted into training and test data sets. Then the continuous features are normalzed. The model we experiment with is multilayer perception model."
   ]
  },
  {
   "cell_type": "markdown",
   "metadata": {
    "colab_type": "text",
    "id": "view-in-github"
   },
   "source": [
    "<a href=\"https://colab.research.google.com/github/JiamanBettyWu/bios823_project/blob/betty/modeling.ipynb\" target=\"_parent\"><img src=\"https://colab.research.google.com/assets/colab-badge.svg\" alt=\"Open In Colab\"/></a>"
   ]
  },
  {
   "cell_type": "code",
   "execution_count": 1,
   "metadata": {
    "colab": {
     "base_uri": "https://localhost:8080/"
    },
    "id": "CywHwwSQdILU",
    "outputId": "e68992c3-6ba7-4908-8fec-088cc6ab9945"
   },
   "outputs": [
    {
     "name": "stdout",
     "output_type": "stream",
     "text": [
      "Mounted at /content/drive\n"
     ]
    }
   ],
   "source": [
    "from google.colab import drive\n",
    "drive.mount('/content/drive')"
   ]
  },
  {
   "cell_type": "code",
   "execution_count": 2,
   "metadata": {
    "id": "aeKsF9qidWyo"
   },
   "outputs": [],
   "source": [
    "import sys\n",
    "sys.path.append('/content/drive/MyDrive/BIOS823/BIOS823 Final Project')"
   ]
  },
  {
   "cell_type": "code",
   "execution_count": 4,
   "metadata": {
    "id": "xRFqi70OdpPk"
   },
   "outputs": [],
   "source": [
    "dat = pd.read_csv(\"/content/drive/MyDrive/BIOS823/BIOS823 Final Project/MIMIC_cleaned.csv\")"
   ]
  },
  {
   "cell_type": "markdown",
   "metadata": {},
   "source": [
    "### 3.4.1 Data preprocessing"
   ]
  },
  {
   "cell_type": "markdown",
   "metadata": {
    "id": "nuxixiKIn8QP"
   },
   "source": [
    "**AGE** \n",
    "\n",
    "To protect patients' privacy, patients who are older than a certain ago is coded by a really large number like 300. Therefore, we would like identify these patients and encode the patients' age by a more reasonable number. "
   ]
  },
  {
   "cell_type": "code",
   "execution_count": 5,
   "metadata": {
    "id": "VqVfotfSfliH"
   },
   "outputs": [],
   "source": [
    "# AGE_ON_AD is a float, which doesn't really make sense for age\n",
    "# We want to ignore everything that's after the decimal point\n",
    "\n",
    "age = dat.AGE_ON_AD.astype(str).str.split(\".\", expand=True)[[0]]\n",
    "age = age.astype(int)"
   ]
  },
  {
   "cell_type": "code",
   "execution_count": 6,
   "metadata": {
    "id": "J_PydAsuley6"
   },
   "outputs": [],
   "source": [
    "# We see that the oldest real age is 89\n",
    "np.sort(age[0][age[0] < 100].unique())\n",
    "\n",
    "# So we want to set everything greater than 89 years old as 90\n",
    "# And saves this back to the dataframe\n",
    "dat[\"age\"] = np.where(age[0] > 89, 90, age[0])"
   ]
  },
  {
   "cell_type": "markdown",
   "metadata": {
    "id": "HiL1jxFHqgqa"
   },
   "source": [
    "**GENDER**"
   ]
  },
  {
   "cell_type": "code",
   "execution_count": 7,
   "metadata": {
    "id": "3YLV9EE_qf55"
   },
   "outputs": [],
   "source": [
    "le = LabelEncoder()"
   ]
  },
  {
   "cell_type": "code",
   "execution_count": 8,
   "metadata": {
    "id": "hJ_GdKSmrEl5"
   },
   "outputs": [],
   "source": [
    "dat[\"gender\"] = le.fit_transform(dat.GENDER)"
   ]
  },
  {
   "cell_type": "markdown",
   "metadata": {
    "id": "sdOv--sYpgTt"
   },
   "source": [
    "**Ethnicity**\n",
    "\n",
    "The Ethicity feature is very granular. One potential improvement is to group some of the ethinicity together to reduce overfitting."
   ]
  },
  {
   "cell_type": "code",
   "execution_count": 9,
   "metadata": {
    "id": "hjRnWgRDu4Ar"
   },
   "outputs": [],
   "source": [
    "dat[\"ethnicity\"] = le.fit_transform(dat.ETHNICITY)"
   ]
  },
  {
   "cell_type": "code",
   "execution_count": null,
   "metadata": {
    "colab": {
     "base_uri": "https://localhost:8080/"
    },
    "id": "ZO4AgbLrplxC",
    "outputId": "685f7826-f885-4e09-ec26-46312da946b4"
   },
   "outputs": [
    {
     "data": {
      "text/plain": [
       "array(['WHITE', 'UNKNOWN/NOT SPECIFIED', 'MULTI RACE ETHNICITY',\n",
       "       'BLACK/AFRICAN AMERICAN', 'HISPANIC OR LATINO',\n",
       "       'PATIENT DECLINED TO ANSWER', 'ASIAN', 'OTHER',\n",
       "       'HISPANIC/LATINO - GUATEMALAN', 'ASIAN - VIETNAMESE',\n",
       "       'AMERICAN INDIAN/ALASKA NATIVE', 'WHITE - RUSSIAN',\n",
       "       'HISPANIC/LATINO - PUERTO RICAN', 'ASIAN - CHINESE',\n",
       "       'ASIAN - ASIAN INDIAN', 'BLACK/AFRICAN',\n",
       "       'HISPANIC/LATINO - SALVADORAN', 'HISPANIC/LATINO - DOMINICAN',\n",
       "       'UNABLE TO OBTAIN', 'BLACK/CAPE VERDEAN', 'BLACK/HAITIAN',\n",
       "       'WHITE - OTHER EUROPEAN', 'PORTUGUESE', 'SOUTH AMERICAN',\n",
       "       'WHITE - EASTERN EUROPEAN', 'CARIBBEAN ISLAND', 'ASIAN - FILIPINO',\n",
       "       'ASIAN - CAMBODIAN', 'HISPANIC/LATINO - CENTRAL AMERICAN (OTHER)',\n",
       "       'WHITE - BRAZILIAN', 'ASIAN - KOREAN',\n",
       "       'HISPANIC/LATINO - COLOMBIAN', 'ASIAN - JAPANESE',\n",
       "       'NATIVE HAWAIIAN OR OTHER PACIFIC ISLANDER', 'ASIAN - THAI',\n",
       "       'HISPANIC/LATINO - HONDURAN', 'HISPANIC/LATINO - CUBAN',\n",
       "       'MIDDLE EASTERN', 'ASIAN - OTHER', 'HISPANIC/LATINO - MEXICAN',\n",
       "       'AMERICAN INDIAN/ALASKA NATIVE FEDERALLY RECOGNIZED TRIBE'],\n",
       "      dtype=object)"
      ]
     },
     "execution_count": 16,
     "metadata": {},
     "output_type": "execute_result"
    }
   ],
   "source": [
    "dat.ETHNICITY.unique()"
   ]
  },
  {
   "cell_type": "code",
   "execution_count": 10,
   "metadata": {
    "id": "dOHxXJfbvMV2"
   },
   "outputs": [],
   "source": [
    "features_li = ['age', 'gender', 'ethnicity','ICU_STAY_DAYS', 'MULTI_ENTRY_ICU', \n",
    "               'ICD9_9955','ICD9_3893', 'ICD9_9604', 'ICD9_966', 'ICD9_9672', 'ICD9_9904', 'ICD9_9671', 'ICD9_3961', 'ICD9_8856', 'ICD9_3891',\n",
    "               'PROP_ITEMID_51221', 'PROP_ITEMID_51222',\n",
    "                'PROP_ITEMID_51248', 'PROP_ITEMID_51249', 'PROP_ITEMID_51250',\n",
    "                'PROP_ITEMID_51265', 'PROP_ITEMID_51277', 'PROP_ITEMID_51279',\n",
    "                'PROP_ITEMID_51301', 'PROP_ITEMID_50820', 'PROP_ITEMID_50868',\n",
    "                'PROP_ITEMID_50882', 'PROP_ITEMID_50902', 'PROP_ITEMID_50912',\n",
    "                'PROP_ITEMID_50931', 'PROP_ITEMID_50960', 'PROP_ITEMID_50970',\n",
    "                'PROP_ITEMID_50971', 'PROP_ITEMID_50983', 'PROP_ITEMID_51006']\n",
    "X = dat[features_li]\n",
    "y = dat['HOSPITAL_EXPIRE_FLAG']"
   ]
  },
  {
   "cell_type": "markdown",
   "metadata": {
    "id": "tdsqY7_mwlq8"
   },
   "source": [
    "**Missing values**\n",
    "\n",
    "method: fill with 0"
   ]
  },
  {
   "cell_type": "code",
   "execution_count": 75,
   "metadata": {
    "colab": {
     "base_uri": "https://localhost:8080/"
    },
    "id": "ztvuRtvBv_kz",
    "outputId": "b266d52d-692b-4ea9-b1e5-f728d01ce985"
   },
   "outputs": [
    {
     "data": {
      "text/plain": [
       "age                  0\n",
       "gender               0\n",
       "ethnicity            0\n",
       "ICU_STAY_DAYS        0\n",
       "MULTI_ENTRY_ICU      0\n",
       "ICD9_9955            0\n",
       "ICD9_3893            0\n",
       "ICD9_9604            0\n",
       "ICD9_966             0\n",
       "ICD9_9672            0\n",
       "ICD9_9904            0\n",
       "ICD9_9671            0\n",
       "ICD9_3961            0\n",
       "ICD9_8856            0\n",
       "ICD9_3891            0\n",
       "PROP_ITEMID_51221    0\n",
       "PROP_ITEMID_51222    0\n",
       "PROP_ITEMID_51248    0\n",
       "PROP_ITEMID_51249    0\n",
       "PROP_ITEMID_51250    0\n",
       "PROP_ITEMID_51265    0\n",
       "PROP_ITEMID_51277    0\n",
       "PROP_ITEMID_51279    0\n",
       "PROP_ITEMID_51301    0\n",
       "PROP_ITEMID_50820    0\n",
       "PROP_ITEMID_50868    0\n",
       "PROP_ITEMID_50882    0\n",
       "PROP_ITEMID_50902    0\n",
       "PROP_ITEMID_50912    0\n",
       "PROP_ITEMID_50931    0\n",
       "PROP_ITEMID_50960    0\n",
       "PROP_ITEMID_50970    0\n",
       "PROP_ITEMID_50971    0\n",
       "PROP_ITEMID_50983    0\n",
       "PROP_ITEMID_51006    0\n",
       "dtype: int64"
      ]
     },
     "execution_count": 75,
     "metadata": {},
     "output_type": "execute_result"
    }
   ],
   "source": [
    "# Check the number of missing values in each column\n",
    "X.isna().sum(axis = 0)"
   ]
  },
  {
   "cell_type": "code",
   "execution_count": 11,
   "metadata": {
    "id": "we7RzzPSwTeW"
   },
   "outputs": [],
   "source": [
    "# fill NAs with 0\n",
    "X = X.fillna(0)"
   ]
  },
  {
   "cell_type": "markdown",
   "metadata": {
    "id": "ZvLnOzCpxsVC"
   },
   "source": [
    "**Train Dev test split**"
   ]
  },
  {
   "cell_type": "code",
   "execution_count": 24,
   "metadata": {
    "id": "OEsbBxWIw-DL"
   },
   "outputs": [],
   "source": [
    "trainX, devX, trainy, devy = train_test_split(X, y, test_size=0.2, random_state=12)\n"
   ]
  },
  {
   "cell_type": "markdown",
   "metadata": {
    "id": "fcVQvAunzhrQ"
   },
   "source": []
  },
  {
   "cell_type": "code",
   "execution_count": 25,
   "metadata": {
    "colab": {
     "base_uri": "https://localhost:8080/"
    },
    "id": "b74iuoQsynjh",
    "outputId": "2c6ceaa7-24e4-4056-93ac-df7f3fd86261"
   },
   "outputs": [
    {
     "name": "stdout",
     "output_type": "stream",
     "text": [
      "Train data set size: (47180, 35).\n",
      "Test data set size: (11796, 35).\n"
     ]
    }
   ],
   "source": [
    "print(f\"Train data set size: {trainX.shape}.\")\n",
    "print(f\"Test data set size: {devX.shape}.\")"
   ]
  },
  {
   "cell_type": "markdown",
   "metadata": {
    "id": "UUOjJSMkzfk5"
   },
   "source": [
    "**Scaling**"
   ]
  },
  {
   "cell_type": "code",
   "execution_count": 26,
   "metadata": {
    "id": "vXZCCkMLzSzR"
   },
   "outputs": [],
   "source": [
    "# features need to be normalized\n",
    "\n",
    "features_norm = ['ICU_STAY_DAYS','ICD9_9955','ICD9_3893', 'ICD9_9604', 'ICD9_966',\n",
    "                 'ICD9_9672', 'ICD9_9904', 'ICD9_9671', 'ICD9_3961', 'ICD9_8856', 'ICD9_3891',\n",
    "                 'PROP_ITEMID_51221', 'PROP_ITEMID_51222',\n",
    "                 'PROP_ITEMID_51248', 'PROP_ITEMID_51249', 'PROP_ITEMID_51250',\n",
    "                 'PROP_ITEMID_51265', 'PROP_ITEMID_51277', 'PROP_ITEMID_51279',\n",
    "                 'PROP_ITEMID_51301', 'PROP_ITEMID_50820', 'PROP_ITEMID_50868',\n",
    "                 'PROP_ITEMID_50882', 'PROP_ITEMID_50902', 'PROP_ITEMID_50912',\n",
    "                 'PROP_ITEMID_50931', 'PROP_ITEMID_50960', 'PROP_ITEMID_50970',\n",
    "                 'PROP_ITEMID_50971', 'PROP_ITEMID_50983', 'PROP_ITEMID_51006']\n",
    "\n"
   ]
  },
  {
   "cell_type": "code",
   "execution_count": 27,
   "metadata": {
    "id": "hwP7vzSm2-du"
   },
   "outputs": [],
   "source": [
    "scaler = StandardScaler()\n",
    "\n",
    "trainX = scaler.fit_transform(trainX)\n",
    "devX = scaler.fit_transform(devX)"
   ]
  },
  {
   "cell_type": "markdown",
   "metadata": {
    "id": "dxN73WNx61j8"
   },
   "source": [
    "### 3.4.2 MLP Classifier "
   ]
  },
  {
   "cell_type": "markdown",
   "metadata": {},
   "source": [
    "Due computational limitations, we only explored a small selections of model architectures and hyperparameters. Here is a summary of different architectures and hyperparameters we explored. The model is tuned using the grid search method with 2-fold cross validation.\n",
    "\n",
    "Hyperparameters   \n",
    "\n",
    "Hidden layer size: (30, 30, 30)\n",
    "                  (100, 100, 100)\n",
    "                  (150, 150)\n",
    "                  \n",
    "Activation:        Tanh, Relu\n",
    "\n",
    "Alpha:             0.0001, 0.05\n",
    "\n",
    "Learning rate:     Constant, adaptive\n",
    "\n",
    "Batch size:        (64, 128, 256)\n",
    "\n"
   ]
  },
  {
   "cell_type": "code",
   "execution_count": 28,
   "metadata": {
    "colab": {
     "base_uri": "https://localhost:8080/"
    },
    "id": "F-z3zYNs6hC0",
    "outputId": "a33990a8-d853-42b1-d180-6fca38e6ea52"
   },
   "outputs": [
    {
     "name": "stderr",
     "output_type": "stream",
     "text": [
      "/usr/local/lib/python3.7/dist-packages/sklearn/neural_network/_multilayer_perceptron.py:699: UserWarning: Training interrupted by user.\n",
      "  warnings.warn(\"Training interrupted by user.\")\n"
     ]
    },
    {
     "data": {
      "text/plain": [
       "MLPClassifier(hidden_layer_sizes=(150, 100), max_iter=500, random_state=1)"
      ]
     },
     "execution_count": 28,
     "metadata": {},
     "output_type": "execute_result"
    }
   ],
   "source": [
    "classifier = MLPClassifier(hidden_layer_sizes=(150,100), max_iter=500,activation = 'relu',solver='adam',random_state=1)\n",
    "classifier.fit(trainX, trainy)\n"
   ]
  },
  {
   "cell_type": "code",
   "execution_count": null,
   "metadata": {
    "id": "2sOAMutBEWj9"
   },
   "outputs": [],
   "source": [
    "from sklearn.model_selection import PredefinedSplit"
   ]
  },
  {
   "cell_type": "code",
   "execution_count": null,
   "metadata": {
    "colab": {
     "base_uri": "https://localhost:8080/"
    },
    "id": "T1lkslrwCDCB",
    "outputId": "c9082139-1f32-4671-e1c9-4e38e4bc49f0"
   },
   "outputs": [
    {
     "name": "stdout",
     "output_type": "stream",
     "text": [
      "Fitting 2 folds for each of 72 candidates, totalling 144 fits\n"
     ]
    },
    {
     "data": {
      "text/plain": [
       "GridSearchCV(cv=2,\n",
       "             estimator=MLPClassifier(hidden_layer_sizes=(150, 100),\n",
       "                                     max_iter=500, random_state=1),\n",
       "             n_jobs=-1,\n",
       "             param_grid={'activation': ['tanh', 'relu'],\n",
       "                         'alpha': [0.0001, 0.05], 'batch_size': [64, 128, 256],\n",
       "                         'hidden_layer_sizes': [(30, 30, 30), (100, 100, 100),\n",
       "                                                (150, 150)],\n",
       "                         'learning_rate': ['constant', 'adaptive']},\n",
       "             scoring='roc_auc', verbose=4)"
      ]
     },
     "execution_count": 34,
     "metadata": {},
     "output_type": "execute_result"
    }
   ],
   "source": [
    "parameter_space = {\n",
    "    'hidden_layer_sizes': [(30, 30, 30),(100, 100, 100), (150, 150)],\n",
    "    'activation': ['tanh', 'relu'],\n",
    "    'alpha': [0.0001, 0.05],\n",
    "    'learning_rate': ['constant','adaptive'],\n",
    "    'batch_size': [64, 128, 256]\n",
    "}\n",
    "clf = GridSearchCV(classifier, parameter_space, n_jobs=-1, cv=2, scoring='roc_auc', verbose=4)\n",
    "clf.fit(trainX, trainy)"
   ]
  },
  {
   "cell_type": "code",
   "execution_count": null,
   "metadata": {
    "id": "Z0tzm6_4ZPdW"
   },
   "outputs": [],
   "source": [
    "import joblib"
   ]
  },
  {
   "cell_type": "code",
   "execution_count": null,
   "metadata": {
    "colab": {
     "base_uri": "https://localhost:8080/"
    },
    "id": "1KshaXqP8Y3f",
    "outputId": "e2337d56-bc02-4a53-a82b-997652ab8fa1"
   },
   "outputs": [
    {
     "data": {
      "text/plain": [
       "0.9055029343579268"
      ]
     },
     "execution_count": 35,
     "metadata": {},
     "output_type": "execute_result"
    }
   ],
   "source": [
    "clf.best_score_"
   ]
  },
  {
   "cell_type": "code",
   "execution_count": null,
   "metadata": {
    "colab": {
     "base_uri": "https://localhost:8080/"
    },
    "id": "Qh2TOtVuZS07",
    "outputId": "34379777-c2f5-4a17-db52-29774ce3c5d0"
   },
   "outputs": [
    {
     "data": {
      "text/plain": [
       "['/content/drive/MyDrive/BIOS823/BIOS823 Final Project/best_clf_21.pkl']"
      ]
     },
     "execution_count": 43,
     "metadata": {},
     "output_type": "execute_result"
    }
   ],
   "source": [
    "joblib.dump(clf, '/content/drive/MyDrive/BIOS823/BIOS823 Final Project/clf_21.pkl')\n",
    "joblib.dump(clf.best_estimator_, '/content/drive/MyDrive/BIOS823/BIOS823 Final Project/best_clf_21.pkl')"
   ]
  },
  {
   "cell_type": "code",
   "execution_count": null,
   "metadata": {
    "colab": {
     "base_uri": "https://localhost:8080/"
    },
    "id": "xMeLyy28Y2Ai",
    "outputId": "56dc5671-76d6-490b-b0c5-6d73dcf72897"
   },
   "outputs": [
    {
     "data": {
      "text/plain": [
       "MLPClassifier(activation='tanh', alpha=0.05, batch_size=64,\n",
       "              hidden_layer_sizes=(150, 150), max_iter=500, random_state=1)"
      ]
     },
     "execution_count": 39,
     "metadata": {},
     "output_type": "execute_result"
    }
   ],
   "source": [
    "clf.best_estimator_"
   ]
  },
  {
   "cell_type": "code",
   "execution_count": null,
   "metadata": {
    "colab": {
     "base_uri": "https://localhost:8080/"
    },
    "id": "p8l-gQ-xY5sv",
    "outputId": "13316033-1be0-471c-c617-bc9b0f95eeeb"
   },
   "outputs": [
    {
     "data": {
      "text/plain": [
       "{'activation': 'tanh',\n",
       " 'alpha': 0.05,\n",
       " 'batch_size': 64,\n",
       " 'hidden_layer_sizes': (150, 150),\n",
       " 'learning_rate': 'constant'}"
      ]
     },
     "execution_count": 40,
     "metadata": {},
     "output_type": "execute_result"
    }
   ],
   "source": [
    "clf.best_params_"
   ]
  },
  {
   "cell_type": "markdown",
   "metadata": {},
   "source": [
    "Using AUC as the evaluation metric, the model architecture that achieves the highest cross validation AUC has the following hyperparameters:\n",
    "\n",
    "Activation: tanh\n",
    "\n",
    "alpha : 0.05\n",
    "\n",
    "Batch size: 64\n",
    "\n",
    "Hidden layer size: (150, 150)\n",
    "\n",
    "Learning rate: constant\n"
   ]
  },
  {
   "cell_type": "code",
   "execution_count": null,
   "metadata": {
    "colab": {
     "base_uri": "https://localhost:8080/"
    },
    "id": "Ftz0GSS49IPp",
    "outputId": "1dff041a-635c-4854-f749-9bd3215e33fe"
   },
   "outputs": [
    {
     "data": {
      "text/plain": [
       "array([[5181,  328],\n",
       "       [ 102,  287]])"
      ]
     },
     "execution_count": 37,
     "metadata": {},
     "output_type": "execute_result"
    }
   ],
   "source": [
    " confusion_matrix(devy_pred, devy)"
   ]
  },
  {
   "cell_type": "code",
   "execution_count": 22,
   "metadata": {
    "id": "x2fZ2yQo_Ki5"
   },
   "outputs": [],
   "source": [
    "best_clf = joblib.load(\"/content/drive/MyDrive/BIOS823/BIOS823 Final Project/best_clf_21.pkl\")"
   ]
  },
  {
   "cell_type": "code",
   "execution_count": 30,
   "metadata": {
    "colab": {
     "base_uri": "https://localhost:8080/"
    },
    "id": "P4xJIRzHZ9D1",
    "outputId": "dc895aea-e7fb-4e82-9a6f-64e786329128"
   },
   "outputs": [
    {
     "data": {
      "text/plain": [
       "0.7105518151646653"
      ]
     },
     "execution_count": 30,
     "metadata": {},
     "output_type": "execute_result"
    }
   ],
   "source": [
    "devy_pred = best_clf.predict(devX)\n",
    "roc_auc_score(devy, devy_pred)"
   ]
  },
  {
   "cell_type": "code",
   "execution_count": 39,
   "metadata": {
    "colab": {
     "base_uri": "https://localhost:8080/",
     "height": 324
    },
    "id": "TDnh6M75JksF",
    "outputId": "15b9663d-989c-4885-a386-7c96e7aeed6b"
   },
   "outputs": [
    {
     "data": {
      "image/png": "[encoded data removed]",
      "text/plain": [
       "<Figure size 432x288 with 2 Axes>"
      ]
     },
     "metadata": {
      "needs_background": "light"
     },
     "output_type": "display_data"
    }
   ],
   "source": [
    "cnf_matrix = confusion_matrix(devy, devy_pred)\n",
    "class_names=[0,1] # name  of classes\n",
    "fig, ax = plt.subplots()\n",
    "tick_marks = np.arange(len(class_names))\n",
    "plt.xticks(tick_marks, class_names)\n",
    "plt.yticks(tick_marks, class_names)\n",
    "# create heatmap\n",
    "sns.heatmap(pd.DataFrame(cnf_matrix), annot=True, cmap=\"YlGnBu\" ,fmt='g')\n",
    "ax.xaxis.set_label_position(\"top\")\n",
    "plt.tight_layout()\n",
    "plt.title('Confusion matrix', y=1.1)\n",
    "plt.ylabel('Actual label')\n",
    "plt.xlabel('Predicted label');"
   ]
  },
  {
   "cell_type": "code",
   "execution_count": 46,
   "metadata": {
    "colab": {
     "base_uri": "https://localhost:8080/"
    },
    "id": "Z2pHCAHlhOqs",
    "outputId": "3c95de7b-76f4-4075-ae07-1d0f02ba77d2"
   },
   "outputs": [
    {
     "name": "stdout",
     "output_type": "stream",
     "text": [
      "Accuracy: 0.9242115971515769\n",
      "Precision: 0.7127659574468085\n",
      "Recall: 0.4415156507413509\n",
      "              precision    recall  f1-score   support\n",
      "\n",
      "           0       0.94      0.98      0.96     10582\n",
      "           1       0.71      0.44      0.55      1214\n",
      "\n",
      "    accuracy                           0.92     11796\n",
      "   macro avg       0.83      0.71      0.75     11796\n",
      "weighted avg       0.92      0.92      0.92     11796\n",
      "\n"
     ]
    }
   ],
   "source": [
    "print(\"Accuracy:\", accuracy_score(devy, devy_pred))\n",
    "print(\"Precision:\", precision_score(devy, devy_pred))\n",
    "print(\"Recall:\", recall_score(devy, devy_pred))\n",
    "print(classification_report(devy, devy_pred))\n",
    "# print(accuracy_score(devy, devy_pred))"
   ]
  },
  {
   "cell_type": "markdown",
   "metadata": {},
   "source": [
    "**Interpretation**: This model achieves 0.71 AUC. This table shows the model performance on other metrics. **accuracy=0.92**, **Precision=0.71** and **Recall=0.44**. Model interpretation on deep-learning based models is challenging, if not impossible. In order to gain insights into how some features impact the model predictions. We leverage the feature importance score calculated from random forest. We select top five most important features from the random forest model and plot the partial dependency plots on these five features to access the relationship between these features and in-hospital mortality probability. \n"
   ]
  },
  {
   "cell_type": "markdown",
   "metadata": {
    "id": "WHghJ5_piWRt"
   },
   "source": [
    "### 3.5 Partial Dependency Plot\n",
    "\n",
    "We draw the partial dependency plot predicted from our **random forest model** to visualize the association between variable and our primary outcome. The top 5 important factors are listed below:\n",
    "\n",
    "**PROP_ITEMID_51006**: proportion of abnormal test result in Urea Nitrogen Blood Chemistry\n",
    "\n",
    "**PROP_ITEMID_51301**: proportion of abnormal test result in White Blood Cells Blood Hematology\n",
    "\n",
    "**Age**: patients’ age\n",
    "\n",
    "**ICU_STAY_DAYS**: patients’ length of ICU stays in days\n",
    "\n",
    "**PROP_ITEMID_50882**: proportion of abnormal test result in Bicarbonate Blood Chemistry\n",
    "\n",
    "In the partial dependency plot, 0 stands for the mean and the risk increases with the variables."
   ]
  },
  {
   "cell_type": "code",
   "execution_count": 48,
   "metadata": {
    "id": "Pf6yrPwahrwM"
   },
   "outputs": [],
   "source": [
    "from sklearn.inspection import PartialDependenceDisplay"
   ]
  },
  {
   "cell_type": "code",
   "execution_count": 70,
   "metadata": {
    "id": "vztiiJHcihve"
   },
   "outputs": [],
   "source": [
    "important_features = [\"PROP_ITEMID_51006\", \"PROP_ITEMID_51301\", \"age\", \"ICU_STAY_DAYS\", \"PROP_ITEMID_50882\"]"
   ]
  },
  {
   "cell_type": "code",
   "execution_count": 72,
   "metadata": {
    "id": "uppwCNfpmQAO"
   },
   "outputs": [],
   "source": [
    "idx = [np.where(X.columns == name) for name in important_features]"
   ]
  },
  {
   "cell_type": "code",
   "execution_count": 74,
   "metadata": {
    "colab": {
     "base_uri": "https://localhost:8080/",
     "height": 1000
    },
    "id": "ClLOnzyyij2_",
    "outputId": "2648cf7d-e353-4621-e61f-d90221a299b3"
   },
   "outputs": [
    {
     "data": {
      "image/png": "[encoded data removed]",
      "text/plain": [
       "<Figure size 432x288 with 2 Axes>"
      ]
     },
     "metadata": {
      "needs_background": "light"
     },
     "output_type": "display_data"
    },
    {
     "data": {
      "image/png": "[encoded data removed]",
      "text/plain": [
       "<Figure size 432x288 with 2 Axes>"
      ]
     },
     "metadata": {
      "needs_background": "light"
     },
     "output_type": "display_data"
    },
    {
     "data": {
      "image/png": "[encoded data removed]",
      "text/plain": [
       "<Figure size 432x288 with 2 Axes>"
      ]
     },
     "metadata": {
      "needs_background": "light"
     },
     "output_type": "display_data"
    },
    {
     "data": {
      "image/png": "[encoded data removed]",
      "text/plain": [
       "<Figure size 432x288 with 2 Axes>"
      ]
     },
     "metadata": {
      "needs_background": "light"
     },
     "output_type": "display_data"
    },
    {
     "data": {
      "image/png": "[encoded data removed]",
      "text/plain": [
       "<Figure size 432x288 with 2 Axes>"
      ]
     },
     "metadata": {
      "needs_background": "light"
     },
     "output_type": "display_data"
    }
   ],
   "source": [
    "for i in idx:\n",
    "\n",
    "  PartialDependenceDisplay.from_estimator(best_clf, trainX, features = i, feature_names=X.columns);"
   ]
  },
  {
   "cell_type": "markdown",
   "metadata": {},
   "source": [
    "# 5. Individual contributions\n",
    "\n",
    "Lucsa Zhang cleaned and prepared the data, derived the defition of the variables of interests, combined the results and wrote the documentation. Ashley Hu trained the logistic regerssion model, constructed random forest model and tuned its hyperparameters, and interpreted results of these models. Betty Wu constructed the deep learning model, tuned its hyperparameters and interpreted the results. All three team members participated in the drafting and polishing the final report.\n",
    "\n",
    "Refelection from Betty: Through this project, I learned and honed in on data wrangling skills and developing a machine learning model. More specifically, the MIMIC data consists of several smaller datasets with different sets of features. One of the challenges we faced as a team was understanding the context and relationship between datasets. Learning to understand, wrangle, and clean the complexity surround the data was an important lesson that I learned. Furthermore, from the project, I gained valuable experience training, evaluating, and tuning a multilayer perceptron model. Besides technical skills, I also learned how to work with teammates from different academic backgrounds. Since our team is diverse, I was able to learn from my teammates and leverage our expertise in different areas.\n",
    "\n",
    "Refelection from Ashley: In this project I learned how modeling works in dealing with real life problem. My main responsibility for this project is to train a logistic regression model and a random forest model. In doing the random forest model, I used hyperparameter tuning to perform a grid search to find the proper parameter to build the random forest model. We also used the scoring = roc_auc to select the parameters that gives the highest auc score. My team members helped me a lot in building these two models. We had regular weekly meetings to discuss about our progress and make the process went smoothly."
   ]
  },
  {
   "cell_type": "code",
   "execution_count": null,
   "metadata": {},
   "outputs": [],
   "source": []
  }
 ],
 "metadata": {
  "kernelspec": {
   "display_name": "Python 3",
   "language": "python",
   "name": "python3"
  },
  "language_info": {
   "codemirror_mode": {
    "name": "ipython",
    "version": 3
   },
   "file_extension": ".py",
   "mimetype": "text/x-python",
   "name": "python",
   "nbconvert_exporter": "python",
   "pygments_lexer": "ipython3",
   "version": "3.7.8"
  }
 },
 "nbformat": 4,
 "nbformat_minor": 4
}
